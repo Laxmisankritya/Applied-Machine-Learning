{
 "cells": [
  {
   "cell_type": "markdown",
   "id": "26d6d357",
   "metadata": {},
   "source": [
    "# CENSUS INCOME DATA SET"
   ]
  },
  {
   "cell_type": "markdown",
   "id": "00033957",
   "metadata": {},
   "source": [
    "This data set is taken from UCI Machine Learning Depository.\n",
    "Source:https://archive.ics.uci.edu/ml/datasets/Census+Income\n",
    "Our goal is to predict weather an individual earns more than 50k or not.\n",
    "Lets start by importing essential packages."
   ]
  },
  {
   "cell_type": "code",
   "execution_count": 1,
   "id": "697b6e55",
   "metadata": {},
   "outputs": [],
   "source": [
    "import pandas as pd\n",
    "import numpy as np\n",
    "import matplotlib.pyplot as plt"
   ]
  },
  {
   "cell_type": "code",
   "execution_count": 2,
   "id": "d4000115",
   "metadata": {},
   "outputs": [],
   "source": [
    "income_data = pd.read_csv( \"census.csv\")"
   ]
  },
  {
   "cell_type": "code",
   "execution_count": 3,
   "id": "edff7993",
   "metadata": {},
   "outputs": [
    {
     "data": {
      "text/html": [
       "<div>\n",
       "<style scoped>\n",
       "    .dataframe tbody tr th:only-of-type {\n",
       "        vertical-align: middle;\n",
       "    }\n",
       "\n",
       "    .dataframe tbody tr th {\n",
       "        vertical-align: top;\n",
       "    }\n",
       "\n",
       "    .dataframe thead th {\n",
       "        text-align: right;\n",
       "    }\n",
       "</style>\n",
       "<table border=\"1\" class=\"dataframe\">\n",
       "  <thead>\n",
       "    <tr style=\"text-align: right;\">\n",
       "      <th></th>\n",
       "      <th>age</th>\n",
       "      <th>workclass</th>\n",
       "      <th>fnlwgt</th>\n",
       "      <th>education</th>\n",
       "      <th>education-num</th>\n",
       "      <th>marital-status</th>\n",
       "      <th>occupation</th>\n",
       "      <th>relationship</th>\n",
       "      <th>race</th>\n",
       "      <th>sex</th>\n",
       "      <th>capital-gain</th>\n",
       "      <th>capital-loss</th>\n",
       "      <th>hours-per-week</th>\n",
       "      <th>native-country</th>\n",
       "      <th>income</th>\n",
       "    </tr>\n",
       "  </thead>\n",
       "  <tbody>\n",
       "    <tr>\n",
       "      <th>0</th>\n",
       "      <td>25</td>\n",
       "      <td>Private</td>\n",
       "      <td>226802</td>\n",
       "      <td>11th</td>\n",
       "      <td>7</td>\n",
       "      <td>Never-married</td>\n",
       "      <td>Machine-op-inspct</td>\n",
       "      <td>Own-child</td>\n",
       "      <td>Black</td>\n",
       "      <td>Male</td>\n",
       "      <td>0</td>\n",
       "      <td>0</td>\n",
       "      <td>40</td>\n",
       "      <td>United-States</td>\n",
       "      <td>&lt;=50K</td>\n",
       "    </tr>\n",
       "    <tr>\n",
       "      <th>1</th>\n",
       "      <td>38</td>\n",
       "      <td>Private</td>\n",
       "      <td>89814</td>\n",
       "      <td>HS-grad</td>\n",
       "      <td>9</td>\n",
       "      <td>Married-civ-spouse</td>\n",
       "      <td>Farming-fishing</td>\n",
       "      <td>Husband</td>\n",
       "      <td>White</td>\n",
       "      <td>Male</td>\n",
       "      <td>0</td>\n",
       "      <td>0</td>\n",
       "      <td>50</td>\n",
       "      <td>United-States</td>\n",
       "      <td>&lt;=50K</td>\n",
       "    </tr>\n",
       "    <tr>\n",
       "      <th>2</th>\n",
       "      <td>28</td>\n",
       "      <td>Local-gov</td>\n",
       "      <td>336951</td>\n",
       "      <td>Assoc-acdm</td>\n",
       "      <td>12</td>\n",
       "      <td>Married-civ-spouse</td>\n",
       "      <td>Protective-serv</td>\n",
       "      <td>Husband</td>\n",
       "      <td>White</td>\n",
       "      <td>Male</td>\n",
       "      <td>0</td>\n",
       "      <td>0</td>\n",
       "      <td>40</td>\n",
       "      <td>United-States</td>\n",
       "      <td>&gt;50K</td>\n",
       "    </tr>\n",
       "    <tr>\n",
       "      <th>3</th>\n",
       "      <td>44</td>\n",
       "      <td>Private</td>\n",
       "      <td>160323</td>\n",
       "      <td>Some-college</td>\n",
       "      <td>10</td>\n",
       "      <td>Married-civ-spouse</td>\n",
       "      <td>Machine-op-inspct</td>\n",
       "      <td>Husband</td>\n",
       "      <td>Black</td>\n",
       "      <td>Male</td>\n",
       "      <td>7688</td>\n",
       "      <td>0</td>\n",
       "      <td>40</td>\n",
       "      <td>United-States</td>\n",
       "      <td>&gt;50K</td>\n",
       "    </tr>\n",
       "    <tr>\n",
       "      <th>4</th>\n",
       "      <td>18</td>\n",
       "      <td>?</td>\n",
       "      <td>103497</td>\n",
       "      <td>Some-college</td>\n",
       "      <td>10</td>\n",
       "      <td>Never-married</td>\n",
       "      <td>?</td>\n",
       "      <td>Own-child</td>\n",
       "      <td>White</td>\n",
       "      <td>Female</td>\n",
       "      <td>0</td>\n",
       "      <td>0</td>\n",
       "      <td>30</td>\n",
       "      <td>United-States</td>\n",
       "      <td>&lt;=50K</td>\n",
       "    </tr>\n",
       "  </tbody>\n",
       "</table>\n",
       "</div>"
      ],
      "text/plain": [
       "   age  workclass  fnlwgt     education  education-num      marital-status  \\\n",
       "0   25    Private  226802          11th              7       Never-married   \n",
       "1   38    Private   89814       HS-grad              9  Married-civ-spouse   \n",
       "2   28  Local-gov  336951    Assoc-acdm             12  Married-civ-spouse   \n",
       "3   44    Private  160323  Some-college             10  Married-civ-spouse   \n",
       "4   18          ?  103497  Some-college             10       Never-married   \n",
       "\n",
       "          occupation relationship   race     sex  capital-gain  capital-loss  \\\n",
       "0  Machine-op-inspct    Own-child  Black    Male             0             0   \n",
       "1    Farming-fishing      Husband  White    Male             0             0   \n",
       "2    Protective-serv      Husband  White    Male             0             0   \n",
       "3  Machine-op-inspct      Husband  Black    Male          7688             0   \n",
       "4                  ?    Own-child  White  Female             0             0   \n",
       "\n",
       "   hours-per-week native-country income  \n",
       "0              40  United-States  <=50K  \n",
       "1              50  United-States  <=50K  \n",
       "2              40  United-States   >50K  \n",
       "3              40  United-States   >50K  \n",
       "4              30  United-States  <=50K  "
      ]
     },
     "execution_count": 3,
     "metadata": {},
     "output_type": "execute_result"
    }
   ],
   "source": [
    "income_data.head()"
   ]
  },
  {
   "cell_type": "markdown",
   "id": "73a18459",
   "metadata": {},
   "source": [
    "## Cleaning the data #"
   ]
  },
  {
   "cell_type": "code",
   "execution_count": 4,
   "id": "c0e69f36",
   "metadata": {},
   "outputs": [
    {
     "name": "stdout",
     "output_type": "stream",
     "text": [
      "<class 'pandas.core.frame.DataFrame'>\n",
      "RangeIndex: 48842 entries, 0 to 48841\n",
      "Data columns (total 15 columns):\n",
      " #   Column          Non-Null Count  Dtype \n",
      "---  ------          --------------  ----- \n",
      " 0   age             48842 non-null  int64 \n",
      " 1   workclass       48842 non-null  object\n",
      " 2   fnlwgt          48842 non-null  int64 \n",
      " 3   education       48842 non-null  object\n",
      " 4   education-num   48842 non-null  int64 \n",
      " 5   marital-status  48842 non-null  object\n",
      " 6   occupation      48842 non-null  object\n",
      " 7   relationship    48842 non-null  object\n",
      " 8   race            48842 non-null  object\n",
      " 9   sex             48842 non-null  object\n",
      " 10  capital-gain    48842 non-null  int64 \n",
      " 11  capital-loss    48842 non-null  int64 \n",
      " 12  hours-per-week  48842 non-null  int64 \n",
      " 13  native-country  48842 non-null  object\n",
      " 14  income          48842 non-null  object\n",
      "dtypes: int64(6), object(9)\n",
      "memory usage: 5.6+ MB\n"
     ]
    }
   ],
   "source": [
    "income_data.info()"
   ]
  },
  {
   "cell_type": "code",
   "execution_count": 5,
   "id": "607e12e4",
   "metadata": {},
   "outputs": [],
   "source": [
    "income_data=income_data.replace(to_replace=\"?\",value=np.nan)"
   ]
  },
  {
   "cell_type": "code",
   "execution_count": 6,
   "id": "5412f2c0",
   "metadata": {},
   "outputs": [
    {
     "name": "stdout",
     "output_type": "stream",
     "text": [
      "<class 'pandas.core.frame.DataFrame'>\n",
      "RangeIndex: 48842 entries, 0 to 48841\n",
      "Data columns (total 15 columns):\n",
      " #   Column          Non-Null Count  Dtype \n",
      "---  ------          --------------  ----- \n",
      " 0   age             48842 non-null  int64 \n",
      " 1   workclass       46043 non-null  object\n",
      " 2   fnlwgt          48842 non-null  int64 \n",
      " 3   education       48842 non-null  object\n",
      " 4   education-num   48842 non-null  int64 \n",
      " 5   marital-status  48842 non-null  object\n",
      " 6   occupation      46033 non-null  object\n",
      " 7   relationship    48842 non-null  object\n",
      " 8   race            48842 non-null  object\n",
      " 9   sex             48842 non-null  object\n",
      " 10  capital-gain    48842 non-null  int64 \n",
      " 11  capital-loss    48842 non-null  int64 \n",
      " 12  hours-per-week  48842 non-null  int64 \n",
      " 13  native-country  47985 non-null  object\n",
      " 14  income          48842 non-null  object\n",
      "dtypes: int64(6), object(9)\n",
      "memory usage: 5.6+ MB\n"
     ]
    }
   ],
   "source": [
    "income_data.info()"
   ]
  },
  {
   "cell_type": "markdown",
   "id": "5811f248",
   "metadata": {},
   "source": [
    "### Cleaning Workclass Column#"
   ]
  },
  {
   "cell_type": "code",
   "execution_count": 7,
   "id": "a93e1754",
   "metadata": {},
   "outputs": [
    {
     "data": {
      "text/plain": [
       "Private             33906\n",
       "Self-emp-not-inc     3862\n",
       "Local-gov            3136\n",
       "State-gov            1981\n",
       "Self-emp-inc         1695\n",
       "Federal-gov          1432\n",
       "Without-pay            21\n",
       "Never-worked           10\n",
       "Name: workclass, dtype: int64"
      ]
     },
     "execution_count": 7,
     "metadata": {},
     "output_type": "execute_result"
    }
   ],
   "source": [
    "income_data['workclass'].value_counts()"
   ]
  },
  {
   "cell_type": "code",
   "execution_count": 8,
   "id": "b72a044b",
   "metadata": {},
   "outputs": [
    {
     "data": {
      "text/plain": [
       "2799"
      ]
     },
     "execution_count": 8,
     "metadata": {},
     "output_type": "execute_result"
    }
   ],
   "source": [
    "income_data['workclass'].isna().sum()"
   ]
  },
  {
   "cell_type": "code",
   "execution_count": 9,
   "id": "e804f0f6",
   "metadata": {},
   "outputs": [],
   "source": [
    "income_data['workclass'].fillna('Private', inplace = True)"
   ]
  },
  {
   "cell_type": "code",
   "execution_count": 263,
   "id": "58e65590",
   "metadata": {},
   "outputs": [],
   "source": [
    "# We need to frst Categorize Occupation Column and then clean it"
   ]
  },
  {
   "cell_type": "code",
   "execution_count": 264,
   "id": "b21f3ed3",
   "metadata": {},
   "outputs": [],
   "source": [
    "# Cleaning NativeCountry Column"
   ]
  },
  {
   "cell_type": "code",
   "execution_count": 10,
   "id": "1bf4964d",
   "metadata": {},
   "outputs": [
    {
     "data": {
      "text/plain": [
       "United-States                 43832\n",
       "Mexico                          951\n",
       "Philippines                     295\n",
       "Germany                         206\n",
       "Puerto-Rico                     184\n",
       "Canada                          182\n",
       "El-Salvador                     155\n",
       "India                           151\n",
       "Cuba                            138\n",
       "England                         127\n",
       "China                           122\n",
       "South                           115\n",
       "Jamaica                         106\n",
       "Italy                           105\n",
       "Dominican-Republic              103\n",
       "Japan                            92\n",
       "Guatemala                        88\n",
       "Poland                           87\n",
       "Vietnam                          86\n",
       "Columbia                         85\n",
       "Haiti                            75\n",
       "Portugal                         67\n",
       "Taiwan                           65\n",
       "Iran                             59\n",
       "Greece                           49\n",
       "Nicaragua                        49\n",
       "Peru                             46\n",
       "Ecuador                          45\n",
       "France                           38\n",
       "Ireland                          37\n",
       "Hong                             30\n",
       "Thailand                         30\n",
       "Cambodia                         28\n",
       "Trinadad&Tobago                  27\n",
       "Laos                             23\n",
       "Outlying-US(Guam-USVI-etc)       23\n",
       "Yugoslavia                       23\n",
       "Scotland                         21\n",
       "Honduras                         20\n",
       "Hungary                          19\n",
       "Holand-Netherlands                1\n",
       "Name: native-country, dtype: int64"
      ]
     },
     "execution_count": 10,
     "metadata": {},
     "output_type": "execute_result"
    }
   ],
   "source": [
    "income_data['native-country'].value_counts()"
   ]
  },
  {
   "cell_type": "code",
   "execution_count": 11,
   "id": "12a3c8c4",
   "metadata": {},
   "outputs": [
    {
     "data": {
      "text/plain": [
       "857"
      ]
     },
     "execution_count": 11,
     "metadata": {},
     "output_type": "execute_result"
    }
   ],
   "source": [
    "income_data['native-country'].isna().sum()"
   ]
  },
  {
   "cell_type": "code",
   "execution_count": 12,
   "id": "2c660a41",
   "metadata": {},
   "outputs": [],
   "source": [
    "income_data['native-country'].fillna('United-States', inplace = True)"
   ]
  },
  {
   "cell_type": "code",
   "execution_count": 13,
   "id": "0ac27bd8",
   "metadata": {},
   "outputs": [],
   "source": [
    "# Transforming  Target Variable :\n",
    "income_data['income_above_50K']=income_data['income'].map({'<=50K':0, '>50K':1})"
   ]
  },
  {
   "cell_type": "markdown",
   "id": "227ee7a3",
   "metadata": {},
   "source": [
    "## Exploratory Data Analysis #"
   ]
  },
  {
   "cell_type": "code",
   "execution_count": 14,
   "id": "e01e38af",
   "metadata": {},
   "outputs": [],
   "source": [
    "import matplotlib.pyplot as plt\n",
    "import seaborn as sns\n"
   ]
  },
  {
   "cell_type": "code",
   "execution_count": 15,
   "id": "77a8734a",
   "metadata": {},
   "outputs": [],
   "source": [
    "def plotting(column):\n",
    "    if income_data[column].dtype != 'int64':\n",
    "        f, axes = plt.subplots(1,1,figsize=(15,5))\n",
    "        sns.countplot(x=column, hue='income_above_50K', data = income_data)\n",
    "        plt.xticks(rotation=90)\n",
    "        plt.suptitle(column,fontsize=20)\n",
    "        plt.show()\n",
    "    else:\n",
    "        g = sns.FacetGrid(income_data, row=\"income_above_50K\", margin_titles=True, aspect=4, height=3)\n",
    "        g.map(plt.hist,column,bins=100)\n",
    "        plt.show()\n",
    "    plt.show()"
   ]
  },
  {
   "cell_type": "code",
   "execution_count": 16,
   "id": "16f13120",
   "metadata": {},
   "outputs": [
    {
     "data": {
      "image/png": "[encoded data removed]",
      "text/plain": [
       "<Figure size 864x432 with 2 Axes>"
      ]
     },
     "metadata": {
      "needs_background": "light"
     },
     "output_type": "display_data"
    }
   ],
   "source": [
    "plotting('age')"
   ]
  },
  {
   "cell_type": "code",
   "execution_count": 273,
   "id": "f31de55d",
   "metadata": {},
   "outputs": [],
   "source": [
    "# Right now we cannot interpret anything clearly but peoplw with income>50k are in middle age."
   ]
  },
  {
   "cell_type": "code",
   "execution_count": 274,
   "id": "462708f5",
   "metadata": {},
   "outputs": [
    {
     "data": {
      "image/png": "[encoded data removed]",
      "text/plain": [
       "<Figure size 1080x360 with 1 Axes>"
      ]
     },
     "metadata": {
      "needs_background": "light"
     },
     "output_type": "display_data"
    }
   ],
   "source": [
    "plotting('workclass')"
   ]
  },
  {
   "cell_type": "code",
   "execution_count": 275,
   "id": "22d00542",
   "metadata": {},
   "outputs": [
    {
     "data": {
      "image/png": "[encoded data removed]",
      "text/plain": [
       "<Figure size 864x432 with 2 Axes>"
      ]
     },
     "metadata": {
      "needs_background": "light"
     },
     "output_type": "display_data"
    }
   ],
   "source": [
    "plotting('fnlwgt')"
   ]
  },
  {
   "cell_type": "code",
   "execution_count": 276,
   "id": "295909b0",
   "metadata": {},
   "outputs": [
    {
     "data": {
      "image/png": "[encoded data removed]",
      "text/plain": [
       "<Figure size 1080x360 with 1 Axes>"
      ]
     },
     "metadata": {
      "needs_background": "light"
     },
     "output_type": "display_data"
    }
   ],
   "source": [
    "plotting('education')"
   ]
  },
  {
   "cell_type": "code",
   "execution_count": 277,
   "id": "e57250ad",
   "metadata": {},
   "outputs": [
    {
     "data": {
      "image/png": "[encoded data removed]",
      "text/plain": [
       "<Figure size 864x432 with 2 Axes>"
      ]
     },
     "metadata": {
      "needs_background": "light"
     },
     "output_type": "display_data"
    }
   ],
   "source": [
    "plotting('education-num')"
   ]
  },
  {
   "cell_type": "code",
   "execution_count": 278,
   "id": "bff2be68",
   "metadata": {},
   "outputs": [
    {
     "data": {
      "image/png": "[encoded data removed]",
      "text/plain": [
       "<Figure size 1080x360 with 1 Axes>"
      ]
     },
     "metadata": {
      "needs_background": "light"
     },
     "output_type": "display_data"
    }
   ],
   "source": [
    "plotting('marital-status')"
   ]
  },
  {
   "cell_type": "code",
   "execution_count": 279,
   "id": "812f6b2e",
   "metadata": {},
   "outputs": [
    {
     "data": {
      "image/png": "[encoded data removed]",
      "text/plain": [
       "<Figure size 1080x360 with 1 Axes>"
      ]
     },
     "metadata": {
      "needs_background": "light"
     },
     "output_type": "display_data"
    }
   ],
   "source": [
    "plotting('relationship')"
   ]
  },
  {
   "cell_type": "code",
   "execution_count": 280,
   "id": "8f3e979d",
   "metadata": {},
   "outputs": [
    {
     "data": {
      "image/png": "[encoded data removed]",
      "text/plain": [
       "<Figure size 1080x360 with 1 Axes>"
      ]
     },
     "metadata": {
      "needs_background": "light"
     },
     "output_type": "display_data"
    }
   ],
   "source": [
    "plotting('race')"
   ]
  },
  {
   "cell_type": "code",
   "execution_count": 281,
   "id": "08e21aa1",
   "metadata": {},
   "outputs": [
    {
     "data": {
      "image/png": "[encoded data removed]",
      "text/plain": [
       "<Figure size 1080x360 with 1 Axes>"
      ]
     },
     "metadata": {
      "needs_background": "light"
     },
     "output_type": "display_data"
    }
   ],
   "source": [
    "plotting('sex')"
   ]
  },
  {
   "cell_type": "code",
   "execution_count": 282,
   "id": "3bf5e6d7",
   "metadata": {},
   "outputs": [
    {
     "data": {
      "image/png": "[encoded data removed]",
      "text/plain": [
       "<Figure size 1080x360 with 1 Axes>"
      ]
     },
     "metadata": {
      "needs_background": "light"
     },
     "output_type": "display_data"
    }
   ],
   "source": [
    "plotting('native-country')"
   ]
  },
  {
   "cell_type": "code",
   "execution_count": 283,
   "id": "576d73a1",
   "metadata": {},
   "outputs": [
    {
     "data": {
      "image/png": "[encoded data removed]",
      "text/plain": [
       "<Figure size 864x432 with 2 Axes>"
      ]
     },
     "metadata": {
      "needs_background": "light"
     },
     "output_type": "display_data"
    }
   ],
   "source": [
    "plotting('capital-gain')"
   ]
  },
  {
   "cell_type": "code",
   "execution_count": 284,
   "id": "7abefb63",
   "metadata": {},
   "outputs": [
    {
     "data": {
      "image/png": "[encoded data removed]",
      "text/plain": [
       "<Figure size 864x432 with 2 Axes>"
      ]
     },
     "metadata": {
      "needs_background": "light"
     },
     "output_type": "display_data"
    }
   ],
   "source": [
    "plotting('capital-loss')"
   ]
  },
  {
   "cell_type": "code",
   "execution_count": 285,
   "id": "827da771",
   "metadata": {},
   "outputs": [
    {
     "data": {
      "image/png": "[encoded data removed]",
      "text/plain": [
       "<Figure size 864x432 with 2 Axes>"
      ]
     },
     "metadata": {
      "needs_background": "light"
     },
     "output_type": "display_data"
    }
   ],
   "source": [
    "plotting('hours-per-week')"
   ]
  },
  {
   "cell_type": "code",
   "execution_count": 286,
   "id": "ba6f0ca9",
   "metadata": {},
   "outputs": [
    {
     "data": {
      "image/png": "[encoded data removed]",
      "text/plain": [
       "<Figure size 1080x360 with 1 Axes>"
      ]
     },
     "metadata": {
      "needs_background": "light"
     },
     "output_type": "display_data"
    }
   ],
   "source": [
    "plotting('occupation')"
   ]
  },
  {
   "cell_type": "code",
   "execution_count": 17,
   "id": "6635c93d",
   "metadata": {},
   "outputs": [
    {
     "data": {
      "text/html": [
       "<div>\n",
       "<style scoped>\n",
       "    .dataframe tbody tr th:only-of-type {\n",
       "        vertical-align: middle;\n",
       "    }\n",
       "\n",
       "    .dataframe tbody tr th {\n",
       "        vertical-align: top;\n",
       "    }\n",
       "\n",
       "    .dataframe thead th {\n",
       "        text-align: right;\n",
       "    }\n",
       "</style>\n",
       "<table border=\"1\" class=\"dataframe\">\n",
       "  <thead>\n",
       "    <tr style=\"text-align: right;\">\n",
       "      <th></th>\n",
       "      <th>income_over_50K</th>\n",
       "      <th>Total number</th>\n",
       "      <th>percent_of_above_50K</th>\n",
       "    </tr>\n",
       "  </thead>\n",
       "  <tbody>\n",
       "    <tr>\n",
       "      <th>Exec-managerial</th>\n",
       "      <td>2908</td>\n",
       "      <td>6086</td>\n",
       "      <td>0.477818</td>\n",
       "    </tr>\n",
       "    <tr>\n",
       "      <th>Prof-specialty</th>\n",
       "      <td>2784</td>\n",
       "      <td>6172</td>\n",
       "      <td>0.451069</td>\n",
       "    </tr>\n",
       "    <tr>\n",
       "      <th>Armed-Forces</th>\n",
       "      <td>5</td>\n",
       "      <td>15</td>\n",
       "      <td>0.333333</td>\n",
       "    </tr>\n",
       "    <tr>\n",
       "      <th>Protective-serv</th>\n",
       "      <td>308</td>\n",
       "      <td>983</td>\n",
       "      <td>0.313327</td>\n",
       "    </tr>\n",
       "    <tr>\n",
       "      <th>Tech-support</th>\n",
       "      <td>420</td>\n",
       "      <td>1446</td>\n",
       "      <td>0.290456</td>\n",
       "    </tr>\n",
       "    <tr>\n",
       "      <th>Sales</th>\n",
       "      <td>1475</td>\n",
       "      <td>5504</td>\n",
       "      <td>0.267987</td>\n",
       "    </tr>\n",
       "    <tr>\n",
       "      <th>Craft-repair</th>\n",
       "      <td>1383</td>\n",
       "      <td>6112</td>\n",
       "      <td>0.226276</td>\n",
       "    </tr>\n",
       "    <tr>\n",
       "      <th>Transport-moving</th>\n",
       "      <td>481</td>\n",
       "      <td>2355</td>\n",
       "      <td>0.204246</td>\n",
       "    </tr>\n",
       "    <tr>\n",
       "      <th>Adm-clerical</th>\n",
       "      <td>768</td>\n",
       "      <td>5611</td>\n",
       "      <td>0.136874</td>\n",
       "    </tr>\n",
       "    <tr>\n",
       "      <th>Machine-op-inspct</th>\n",
       "      <td>372</td>\n",
       "      <td>3022</td>\n",
       "      <td>0.123097</td>\n",
       "    </tr>\n",
       "    <tr>\n",
       "      <th>Farming-fishing</th>\n",
       "      <td>173</td>\n",
       "      <td>1490</td>\n",
       "      <td>0.116107</td>\n",
       "    </tr>\n",
       "    <tr>\n",
       "      <th>Handlers-cleaners</th>\n",
       "      <td>138</td>\n",
       "      <td>2072</td>\n",
       "      <td>0.066602</td>\n",
       "    </tr>\n",
       "    <tr>\n",
       "      <th>Other-service</th>\n",
       "      <td>204</td>\n",
       "      <td>4923</td>\n",
       "      <td>0.041438</td>\n",
       "    </tr>\n",
       "    <tr>\n",
       "      <th>Priv-house-serv</th>\n",
       "      <td>3</td>\n",
       "      <td>242</td>\n",
       "      <td>0.012397</td>\n",
       "    </tr>\n",
       "  </tbody>\n",
       "</table>\n",
       "</div>"
      ],
      "text/plain": [
       "                   income_over_50K  Total number  percent_of_above_50K\n",
       "Exec-managerial               2908          6086              0.477818\n",
       "Prof-specialty                2784          6172              0.451069\n",
       "Armed-Forces                     5            15              0.333333\n",
       "Protective-serv                308           983              0.313327\n",
       "Tech-support                   420          1446              0.290456\n",
       "Sales                         1475          5504              0.267987\n",
       "Craft-repair                  1383          6112              0.226276\n",
       "Transport-moving               481          2355              0.204246\n",
       "Adm-clerical                   768          5611              0.136874\n",
       "Machine-op-inspct              372          3022              0.123097\n",
       "Farming-fishing                173          1490              0.116107\n",
       "Handlers-cleaners              138          2072              0.066602\n",
       "Other-service                  204          4923              0.041438\n",
       "Priv-house-serv                  3           242              0.012397"
      ]
     },
     "execution_count": 17,
     "metadata": {},
     "output_type": "execute_result"
    }
   ],
   "source": [
    "Occu_over5ok=pd.DataFrame(income_data[income_data['income_above_50K']==1]['occupation'].value_counts())\n",
    "Overallcount_by_occ=pd.DataFrame(income_data['occupation'].value_counts())\n",
    "Table=pd.merge(Occu_over5ok,Overallcount_by_occ,left_index=True,right_index=True)\n",
    "Table.rename(columns={'occupation_x':'income_over_50K','occupation_y':'Total number'}, inplace=True)\n",
    "Table['percent_of_above_50K']=Table['income_over_50K']/(Table['Total number'])\n",
    "Table=Table.sort_values(by='percent_of_above_50K',axis=0,ascending=False)\n",
    "Table"
   ]
  },
  {
   "cell_type": "code",
   "execution_count": 18,
   "id": "21e3fac6",
   "metadata": {},
   "outputs": [],
   "source": [
    "# We will use the Occupation Column in Data Transformation as:\n",
    "#Top 30%- class_3\n",
    "#Between 20-30 - class_2\n",
    "#Below 20% - class-1"
   ]
  },
  {
   "cell_type": "markdown",
   "id": "6ed03f02",
   "metadata": {},
   "source": [
    "## Data Transformation:"
   ]
  },
  {
   "cell_type": "code",
   "execution_count": 19,
   "id": "2f2b546e",
   "metadata": {},
   "outputs": [],
   "source": [
    "# Transforming Sex Column\n",
    "income_data['is_female']=income_data['sex'].map({'Male':0, 'Female':1})"
   ]
  },
  {
   "cell_type": "code",
   "execution_count": 20,
   "id": "5c778f88",
   "metadata": {},
   "outputs": [],
   "source": [
    "# Transforming WorkClass Column\n",
    "income_data['is_private']=income_data['workclass'].map({'Private':1})\n",
    "income_data['is_private'].fillna(0, inplace=True)"
   ]
  },
  {
   "cell_type": "code",
   "execution_count": 21,
   "id": "eb9d43f8",
   "metadata": {},
   "outputs": [],
   "source": [
    "# Transforming Education Column\n",
    "income_data['education'] = income_data['education'].map(\n",
    "        {'Preschool':'level_1','1st-4th':'level_1','5th-6th':'level_1','7th-8th':'level_1','9th':'level_1','10th':'level_1','11th':'level_1','12th':'level_1','HS-grad':'level_1',\n",
    "        'Prof-school':'level_2','Assoc-acdm':'level_2','Assoc-voc':'level_2','Some-college':'level_2',\n",
    "        'Bachelors':'level_3','Masters':'level_3','Doctorate':'level_3'})\n"
   ]
  },
  {
   "cell_type": "code",
   "execution_count": 22,
   "id": "0fb291c2",
   "metadata": {},
   "outputs": [],
   "source": [
    "# Transforming Marital-status Column\n",
    "income_data['is_couple']=income_data['marital-status'].map({'Married-civ-spouse':1,'Never-married':0,'Divorced':0,'Separated':0,'Widowed':0,'Married-spouse-absent':0,'Married-AF-spouse':1})"
   ]
  },
  {
   "cell_type": "code",
   "execution_count": 23,
   "id": "a161d0be",
   "metadata": {},
   "outputs": [],
   "source": [
    "# Transforming Occupation Column \n",
    "income_data['occupation']=income_data['occupation'].map(\n",
    "    {'Exec-managerial':'class_3',\n",
    "    'Prof-specialty':'class_3',\n",
    "    'Armed-Forces':'class_3',\n",
    "    'Protective-serv':'class_3',\n",
    "    'Tech-support':'class_2',\n",
    "    'Sales':'class_2',\n",
    "    'Craft-repair':'class_2',\n",
    "    'Transport-moving':'class_2',\n",
    "    'Adm-clerical':'class_1',\n",
    "    'Machine-op-inspct':'class_1',\n",
    "    'Farming-fishing':'class_1',\n",
    "    '?':'class_1',\n",
    "    'Handlers-cleaners':'class_1',\n",
    "    'Other-service':'class_1',\n",
    "    'Priv-house-serv':'class_1'})"
   ]
  },
  {
   "cell_type": "code",
   "execution_count": 24,
   "id": "7df64e1a",
   "metadata": {},
   "outputs": [],
   "source": [
    "#Transforming race column \n",
    "income_data['is_white']=income_data['race'].map(\n",
    "      {'Black':0, 'White':1, 'Asian-Pac-Islander':0, 'Other':0,'Amer-Indian-Eskimo':0})"
   ]
  },
  {
   "cell_type": "code",
   "execution_count": 25,
   "id": "69ab345f",
   "metadata": {},
   "outputs": [],
   "source": [
    "#Transforming Native Country\n",
    "income_data['native-country']=income_data['native-country'].map({'United-States':1})\n",
    "income_data['native-country'].fillna(0, inplace=True)"
   ]
  },
  {
   "cell_type": "code",
   "execution_count": 26,
   "id": "99b4fb39",
   "metadata": {},
   "outputs": [],
   "source": [
    "# Create Dummies for Education\n",
    "cols_education = pd.get_dummies(income_data['education'], prefix= 'education')\n",
    "income_data[cols_education.columns] = cols_education\n",
    "income_data.drop('education', axis = 1, inplace = True)"
   ]
  },
  {
   "cell_type": "code",
   "execution_count": 27,
   "id": "c0d036e5",
   "metadata": {},
   "outputs": [
    {
     "data": {
      "text/plain": [
       "class_1    17360\n",
       "class_2    15417\n",
       "class_3    13256\n",
       "Name: occupation, dtype: int64"
      ]
     },
     "execution_count": 27,
     "metadata": {},
     "output_type": "execute_result"
    }
   ],
   "source": [
    "income_data['occupation'].value_counts()"
   ]
  },
  {
   "cell_type": "code",
   "execution_count": 28,
   "id": "f86f9a7e",
   "metadata": {},
   "outputs": [],
   "source": [
    "#Replacing Missing values in Occupation Column with more frequent class.\n",
    "income_data['occupation'].fillna('class_1', inplace = True)\n",
    "#Create Dummies for Occupation\n",
    "cols_occupation = pd.get_dummies(income_data['occupation'], prefix= 'occupation')\n",
    "income_data[cols_occupation.columns] = cols_occupation\n",
    "income_data.drop('occupation', axis = 1, inplace = True)"
   ]
  },
  {
   "cell_type": "code",
   "execution_count": 29,
   "id": "89c6aa49",
   "metadata": {},
   "outputs": [],
   "source": [
    "# Dropping some coloumns\n",
    "  \n",
    "income_data.drop(labels=['income','sex','workclass','marital-status','relationship','race'],axis=1,inplace=True)"
   ]
  },
  {
   "cell_type": "code",
   "execution_count": 30,
   "id": "e70a5cf1",
   "metadata": {},
   "outputs": [
    {
     "data": {
      "text/html": [
       "<div>\n",
       "<style scoped>\n",
       "    .dataframe tbody tr th:only-of-type {\n",
       "        vertical-align: middle;\n",
       "    }\n",
       "\n",
       "    .dataframe tbody tr th {\n",
       "        vertical-align: top;\n",
       "    }\n",
       "\n",
       "    .dataframe thead th {\n",
       "        text-align: right;\n",
       "    }\n",
       "</style>\n",
       "<table border=\"1\" class=\"dataframe\">\n",
       "  <thead>\n",
       "    <tr style=\"text-align: right;\">\n",
       "      <th></th>\n",
       "      <th>age</th>\n",
       "      <th>fnlwgt</th>\n",
       "      <th>education-num</th>\n",
       "      <th>capital-gain</th>\n",
       "      <th>capital-loss</th>\n",
       "      <th>hours-per-week</th>\n",
       "      <th>native-country</th>\n",
       "      <th>income_above_50K</th>\n",
       "      <th>is_female</th>\n",
       "      <th>is_private</th>\n",
       "      <th>is_couple</th>\n",
       "      <th>is_white</th>\n",
       "      <th>education_level_1</th>\n",
       "      <th>education_level_2</th>\n",
       "      <th>education_level_3</th>\n",
       "      <th>occupation_class_1</th>\n",
       "      <th>occupation_class_2</th>\n",
       "      <th>occupation_class_3</th>\n",
       "    </tr>\n",
       "  </thead>\n",
       "  <tbody>\n",
       "    <tr>\n",
       "      <th>0</th>\n",
       "      <td>25</td>\n",
       "      <td>226802</td>\n",
       "      <td>7</td>\n",
       "      <td>0</td>\n",
       "      <td>0</td>\n",
       "      <td>40</td>\n",
       "      <td>1.0</td>\n",
       "      <td>0</td>\n",
       "      <td>0</td>\n",
       "      <td>1.0</td>\n",
       "      <td>0</td>\n",
       "      <td>0</td>\n",
       "      <td>1</td>\n",
       "      <td>0</td>\n",
       "      <td>0</td>\n",
       "      <td>1</td>\n",
       "      <td>0</td>\n",
       "      <td>0</td>\n",
       "    </tr>\n",
       "    <tr>\n",
       "      <th>1</th>\n",
       "      <td>38</td>\n",
       "      <td>89814</td>\n",
       "      <td>9</td>\n",
       "      <td>0</td>\n",
       "      <td>0</td>\n",
       "      <td>50</td>\n",
       "      <td>1.0</td>\n",
       "      <td>0</td>\n",
       "      <td>0</td>\n",
       "      <td>1.0</td>\n",
       "      <td>1</td>\n",
       "      <td>1</td>\n",
       "      <td>1</td>\n",
       "      <td>0</td>\n",
       "      <td>0</td>\n",
       "      <td>1</td>\n",
       "      <td>0</td>\n",
       "      <td>0</td>\n",
       "    </tr>\n",
       "    <tr>\n",
       "      <th>2</th>\n",
       "      <td>28</td>\n",
       "      <td>336951</td>\n",
       "      <td>12</td>\n",
       "      <td>0</td>\n",
       "      <td>0</td>\n",
       "      <td>40</td>\n",
       "      <td>1.0</td>\n",
       "      <td>1</td>\n",
       "      <td>0</td>\n",
       "      <td>0.0</td>\n",
       "      <td>1</td>\n",
       "      <td>1</td>\n",
       "      <td>0</td>\n",
       "      <td>1</td>\n",
       "      <td>0</td>\n",
       "      <td>0</td>\n",
       "      <td>0</td>\n",
       "      <td>1</td>\n",
       "    </tr>\n",
       "    <tr>\n",
       "      <th>3</th>\n",
       "      <td>44</td>\n",
       "      <td>160323</td>\n",
       "      <td>10</td>\n",
       "      <td>7688</td>\n",
       "      <td>0</td>\n",
       "      <td>40</td>\n",
       "      <td>1.0</td>\n",
       "      <td>1</td>\n",
       "      <td>0</td>\n",
       "      <td>1.0</td>\n",
       "      <td>1</td>\n",
       "      <td>0</td>\n",
       "      <td>0</td>\n",
       "      <td>1</td>\n",
       "      <td>0</td>\n",
       "      <td>1</td>\n",
       "      <td>0</td>\n",
       "      <td>0</td>\n",
       "    </tr>\n",
       "    <tr>\n",
       "      <th>4</th>\n",
       "      <td>18</td>\n",
       "      <td>103497</td>\n",
       "      <td>10</td>\n",
       "      <td>0</td>\n",
       "      <td>0</td>\n",
       "      <td>30</td>\n",
       "      <td>1.0</td>\n",
       "      <td>0</td>\n",
       "      <td>1</td>\n",
       "      <td>1.0</td>\n",
       "      <td>0</td>\n",
       "      <td>1</td>\n",
       "      <td>0</td>\n",
       "      <td>1</td>\n",
       "      <td>0</td>\n",
       "      <td>1</td>\n",
       "      <td>0</td>\n",
       "      <td>0</td>\n",
       "    </tr>\n",
       "    <tr>\n",
       "      <th>...</th>\n",
       "      <td>...</td>\n",
       "      <td>...</td>\n",
       "      <td>...</td>\n",
       "      <td>...</td>\n",
       "      <td>...</td>\n",
       "      <td>...</td>\n",
       "      <td>...</td>\n",
       "      <td>...</td>\n",
       "      <td>...</td>\n",
       "      <td>...</td>\n",
       "      <td>...</td>\n",
       "      <td>...</td>\n",
       "      <td>...</td>\n",
       "      <td>...</td>\n",
       "      <td>...</td>\n",
       "      <td>...</td>\n",
       "      <td>...</td>\n",
       "      <td>...</td>\n",
       "    </tr>\n",
       "    <tr>\n",
       "      <th>48837</th>\n",
       "      <td>27</td>\n",
       "      <td>257302</td>\n",
       "      <td>12</td>\n",
       "      <td>0</td>\n",
       "      <td>0</td>\n",
       "      <td>38</td>\n",
       "      <td>1.0</td>\n",
       "      <td>0</td>\n",
       "      <td>1</td>\n",
       "      <td>1.0</td>\n",
       "      <td>1</td>\n",
       "      <td>1</td>\n",
       "      <td>0</td>\n",
       "      <td>1</td>\n",
       "      <td>0</td>\n",
       "      <td>0</td>\n",
       "      <td>1</td>\n",
       "      <td>0</td>\n",
       "    </tr>\n",
       "    <tr>\n",
       "      <th>48838</th>\n",
       "      <td>40</td>\n",
       "      <td>154374</td>\n",
       "      <td>9</td>\n",
       "      <td>0</td>\n",
       "      <td>0</td>\n",
       "      <td>40</td>\n",
       "      <td>1.0</td>\n",
       "      <td>1</td>\n",
       "      <td>0</td>\n",
       "      <td>1.0</td>\n",
       "      <td>1</td>\n",
       "      <td>1</td>\n",
       "      <td>1</td>\n",
       "      <td>0</td>\n",
       "      <td>0</td>\n",
       "      <td>1</td>\n",
       "      <td>0</td>\n",
       "      <td>0</td>\n",
       "    </tr>\n",
       "    <tr>\n",
       "      <th>48839</th>\n",
       "      <td>58</td>\n",
       "      <td>151910</td>\n",
       "      <td>9</td>\n",
       "      <td>0</td>\n",
       "      <td>0</td>\n",
       "      <td>40</td>\n",
       "      <td>1.0</td>\n",
       "      <td>0</td>\n",
       "      <td>1</td>\n",
       "      <td>1.0</td>\n",
       "      <td>0</td>\n",
       "      <td>1</td>\n",
       "      <td>1</td>\n",
       "      <td>0</td>\n",
       "      <td>0</td>\n",
       "      <td>1</td>\n",
       "      <td>0</td>\n",
       "      <td>0</td>\n",
       "    </tr>\n",
       "    <tr>\n",
       "      <th>48840</th>\n",
       "      <td>22</td>\n",
       "      <td>201490</td>\n",
       "      <td>9</td>\n",
       "      <td>0</td>\n",
       "      <td>0</td>\n",
       "      <td>20</td>\n",
       "      <td>1.0</td>\n",
       "      <td>0</td>\n",
       "      <td>0</td>\n",
       "      <td>1.0</td>\n",
       "      <td>0</td>\n",
       "      <td>1</td>\n",
       "      <td>1</td>\n",
       "      <td>0</td>\n",
       "      <td>0</td>\n",
       "      <td>1</td>\n",
       "      <td>0</td>\n",
       "      <td>0</td>\n",
       "    </tr>\n",
       "    <tr>\n",
       "      <th>48841</th>\n",
       "      <td>52</td>\n",
       "      <td>287927</td>\n",
       "      <td>9</td>\n",
       "      <td>15024</td>\n",
       "      <td>0</td>\n",
       "      <td>40</td>\n",
       "      <td>1.0</td>\n",
       "      <td>1</td>\n",
       "      <td>1</td>\n",
       "      <td>0.0</td>\n",
       "      <td>1</td>\n",
       "      <td>1</td>\n",
       "      <td>1</td>\n",
       "      <td>0</td>\n",
       "      <td>0</td>\n",
       "      <td>0</td>\n",
       "      <td>0</td>\n",
       "      <td>1</td>\n",
       "    </tr>\n",
       "  </tbody>\n",
       "</table>\n",
       "<p>48842 rows × 18 columns</p>\n",
       "</div>"
      ],
      "text/plain": [
       "       age  fnlwgt  education-num  capital-gain  capital-loss  hours-per-week  \\\n",
       "0       25  226802              7             0             0              40   \n",
       "1       38   89814              9             0             0              50   \n",
       "2       28  336951             12             0             0              40   \n",
       "3       44  160323             10          7688             0              40   \n",
       "4       18  103497             10             0             0              30   \n",
       "...    ...     ...            ...           ...           ...             ...   \n",
       "48837   27  257302             12             0             0              38   \n",
       "48838   40  154374              9             0             0              40   \n",
       "48839   58  151910              9             0             0              40   \n",
       "48840   22  201490              9             0             0              20   \n",
       "48841   52  287927              9         15024             0              40   \n",
       "\n",
       "       native-country  income_above_50K  is_female  is_private  is_couple  \\\n",
       "0                 1.0                 0          0         1.0          0   \n",
       "1                 1.0                 0          0         1.0          1   \n",
       "2                 1.0                 1          0         0.0          1   \n",
       "3                 1.0                 1          0         1.0          1   \n",
       "4                 1.0                 0          1         1.0          0   \n",
       "...               ...               ...        ...         ...        ...   \n",
       "48837             1.0                 0          1         1.0          1   \n",
       "48838             1.0                 1          0         1.0          1   \n",
       "48839             1.0                 0          1         1.0          0   \n",
       "48840             1.0                 0          0         1.0          0   \n",
       "48841             1.0                 1          1         0.0          1   \n",
       "\n",
       "       is_white  education_level_1  education_level_2  education_level_3  \\\n",
       "0             0                  1                  0                  0   \n",
       "1             1                  1                  0                  0   \n",
       "2             1                  0                  1                  0   \n",
       "3             0                  0                  1                  0   \n",
       "4             1                  0                  1                  0   \n",
       "...         ...                ...                ...                ...   \n",
       "48837         1                  0                  1                  0   \n",
       "48838         1                  1                  0                  0   \n",
       "48839         1                  1                  0                  0   \n",
       "48840         1                  1                  0                  0   \n",
       "48841         1                  1                  0                  0   \n",
       "\n",
       "       occupation_class_1  occupation_class_2  occupation_class_3  \n",
       "0                       1                   0                   0  \n",
       "1                       1                   0                   0  \n",
       "2                       0                   0                   1  \n",
       "3                       1                   0                   0  \n",
       "4                       1                   0                   0  \n",
       "...                   ...                 ...                 ...  \n",
       "48837                   0                   1                   0  \n",
       "48838                   1                   0                   0  \n",
       "48839                   1                   0                   0  \n",
       "48840                   1                   0                   0  \n",
       "48841                   0                   0                   1  \n",
       "\n",
       "[48842 rows x 18 columns]"
      ]
     },
     "execution_count": 30,
     "metadata": {},
     "output_type": "execute_result"
    }
   ],
   "source": [
    "income_data"
   ]
  },
  {
   "cell_type": "code",
   "execution_count": 31,
   "id": "7379e37d",
   "metadata": {},
   "outputs": [
    {
     "name": "stdout",
     "output_type": "stream",
     "text": [
      "<class 'pandas.core.frame.DataFrame'>\n",
      "RangeIndex: 48842 entries, 0 to 48841\n",
      "Data columns (total 18 columns):\n",
      " #   Column              Non-Null Count  Dtype  \n",
      "---  ------              --------------  -----  \n",
      " 0   age                 48842 non-null  int64  \n",
      " 1   fnlwgt              48842 non-null  int64  \n",
      " 2   education-num       48842 non-null  int64  \n",
      " 3   capital-gain        48842 non-null  int64  \n",
      " 4   capital-loss        48842 non-null  int64  \n",
      " 5   hours-per-week      48842 non-null  int64  \n",
      " 6   native-country      48842 non-null  float64\n",
      " 7   income_above_50K    48842 non-null  int64  \n",
      " 8   is_female           48842 non-null  int64  \n",
      " 9   is_private          48842 non-null  float64\n",
      " 10  is_couple           48842 non-null  int64  \n",
      " 11  is_white            48842 non-null  int64  \n",
      " 12  education_level_1   48842 non-null  uint8  \n",
      " 13  education_level_2   48842 non-null  uint8  \n",
      " 14  education_level_3   48842 non-null  uint8  \n",
      " 15  occupation_class_1  48842 non-null  uint8  \n",
      " 16  occupation_class_2  48842 non-null  uint8  \n",
      " 17  occupation_class_3  48842 non-null  uint8  \n",
      "dtypes: float64(2), int64(10), uint8(6)\n",
      "memory usage: 4.8 MB\n"
     ]
    }
   ],
   "source": [
    "income_data.info()"
   ]
  },
  {
   "cell_type": "code",
   "execution_count": null,
   "id": "21abeb4c",
   "metadata": {},
   "outputs": [],
   "source": [
    "### There are no missing values in the columns and I can use this data for Classification Models\n"
   ]
  },
  {
   "cell_type": "markdown",
   "id": "a788218a",
   "metadata": {},
   "source": [
    "### Splitting the Data:"
   ]
  },
  {
   "cell_type": "code",
   "execution_count": null,
   "id": "c50b420f",
   "metadata": {},
   "outputs": [],
   "source": [
    "X = income_data.drop('income_above_50K',axis = 1)\n",
    "y = income_data['income_above_50K']"
   ]
  },
  {
   "cell_type": "code",
   "execution_count": 306,
   "id": "5bd9afb8",
   "metadata": {},
   "outputs": [
    {
     "data": {
      "text/plain": [
       "(48842, 17)"
      ]
     },
     "execution_count": 306,
     "metadata": {},
     "output_type": "execute_result"
    }
   ],
   "source": [
    "X.shape"
   ]
  },
  {
   "cell_type": "code",
   "execution_count": 307,
   "id": "7ed31be1",
   "metadata": {},
   "outputs": [
    {
     "data": {
      "text/plain": [
       "(48842,)"
      ]
     },
     "execution_count": 307,
     "metadata": {},
     "output_type": "execute_result"
    }
   ],
   "source": [
    "y.shape"
   ]
  },
  {
   "cell_type": "code",
   "execution_count": 309,
   "id": "48f179b4",
   "metadata": {},
   "outputs": [],
   "source": [
    "from sklearn.preprocessing import MinMaxScaler\n",
    "from sklearn.model_selection import train_test_split"
   ]
  },
  {
   "cell_type": "code",
   "execution_count": 310,
   "id": "88ffff0b",
   "metadata": {},
   "outputs": [],
   "source": [
    "X_train_org, X_test_org, y_train, y_test = train_test_split(X, y, random_state = 0)\n",
    "\n",
    "scaler = MinMaxScaler()\n",
    "X_train = scaler.fit_transform(X_train_org)\n",
    "X_test = scaler.transform(X_test_org)"
   ]
  },
  {
   "cell_type": "markdown",
   "id": "04f2264f",
   "metadata": {},
   "source": [
    "### KNN CLASSIFIER"
   ]
  },
  {
   "cell_type": "code",
   "execution_count": 311,
   "id": "3df0e6a6",
   "metadata": {},
   "outputs": [],
   "source": [
    "\n",
    "from sklearn.neighbors import KNeighborsClassifier\n",
    "\n",
    "train_score_array = []\n",
    "test_score_array = []\n",
    "\n",
    "for k in range(1,20):\n",
    "    knn = KNeighborsClassifier(k)\n",
    "    knn.fit(X_train, y_train)\n",
    "    train_score_array.append(knn.score(X_train, y_train))\n",
    "    test_score_array.append(knn.score(X_test, y_test))"
   ]
  },
  {
   "cell_type": "code",
   "execution_count": 314,
   "id": "a8f9390e",
   "metadata": {},
   "outputs": [
    {
     "data": {
      "text/plain": [
       "<matplotlib.legend.Legend at 0x14824157e20>"
      ]
     },
     "execution_count": 314,
     "metadata": {},
     "output_type": "execute_result"
    },
    {
     "data": {
      "image/png": "[encoded data removed]",
      "text/plain": [
       "<Figure size 1440x360 with 1 Axes>"
      ]
     },
     "metadata": {
      "needs_background": "light"
     },
     "output_type": "display_data"
    }
   ],
   "source": [
    "x_axis = range(1,20)\n",
    "plt.subplots(figsize = (20,5))\n",
    "plt.plot(x_axis, train_score_array, label = 'Train Score', c = 'g')\n",
    "plt.plot(x_axis, test_score_array, label = 'Test Score', c='b')\n",
    "plt.xlabel('n_neighbors')\n",
    "plt.ylabel('Accuracy')\n",
    "plt.grid()\n",
    "plt.legend()"
   ]
  },
  {
   "cell_type": "code",
   "execution_count": 327,
   "id": "f1e25578",
   "metadata": {},
   "outputs": [],
   "source": [
    "from sklearn.model_selection import GridSearchCV"
   ]
  },
  {
   "cell_type": "code",
   "execution_count": 317,
   "id": "6e63706b",
   "metadata": {},
   "outputs": [
    {
     "data": {
      "text/plain": [
       "GridSearchCV(cv=5, estimator=KNeighborsClassifier(),\n",
       "             param_grid=[{'n_neighbors': array([ 1,  2,  3,  4,  5,  6,  7,  8,  9, 10, 11, 12, 13, 14, 15, 16, 17,\n",
       "       18, 19, 20])}])"
      ]
     },
     "execution_count": 317,
     "metadata": {},
     "output_type": "execute_result"
    }
   ],
   "source": [
    "knn2 = KNeighborsClassifier()\n",
    "ki = np.arange(20)+1\n",
    "param_knn2= [{'n_neighbors':ki}]\n",
    "k_clfr = GridSearchCV(knn2, param_knn2, cv=5)\n",
    "k_clfr.fit(X_train,y_train)"
   ]
  },
  {
   "cell_type": "code",
   "execution_count": 318,
   "id": "391250f1",
   "metadata": {},
   "outputs": [],
   "source": [
    "from sklearn.metrics import classification_report"
   ]
  },
  {
   "cell_type": "code",
   "execution_count": 319,
   "id": "32929c47",
   "metadata": {},
   "outputs": [
    {
     "name": "stdout",
     "output_type": "stream",
     "text": [
      "The Best parameters: {'n_neighbors': 20}\n",
      "The Best Score: 0.8335563276466784\n"
     ]
    }
   ],
   "source": [
    "print(\"The Best parameters: {}\".format(k_clfr.best_params_))\n",
    "print(\"The Best Score: {}\".format(k_clfr.best_score_))"
   ]
  },
  {
   "cell_type": "code",
   "execution_count": 320,
   "id": "0026d0b7",
   "metadata": {},
   "outputs": [
    {
     "data": {
      "text/plain": [
       "KNeighborsClassifier(n_neighbors=20)"
      ]
     },
     "execution_count": 320,
     "metadata": {},
     "output_type": "execute_result"
    }
   ],
   "source": [
    "knn20 = KNeighborsClassifier(20)\n",
    "knn20.fit(X_train,y_train)"
   ]
  },
  {
   "cell_type": "code",
   "execution_count": 322,
   "id": "9a4d9d64",
   "metadata": {},
   "outputs": [],
   "source": [
    "knn20_predict1 = knn20.predict(X_test)"
   ]
  },
  {
   "cell_type": "code",
   "execution_count": 323,
   "id": "ef1c03aa",
   "metadata": {},
   "outputs": [
    {
     "name": "stdout",
     "output_type": "stream",
     "text": [
      "              precision    recall  f1-score   support\n",
      "\n",
      "           0       0.86      0.93      0.90      9273\n",
      "           1       0.71      0.52      0.60      2938\n",
      "\n",
      "    accuracy                           0.83     12211\n",
      "   macro avg       0.79      0.73      0.75     12211\n",
      "weighted avg       0.82      0.83      0.82     12211\n",
      "\n"
     ]
    }
   ],
   "source": [
    "print(classification_report(y_test, knn20_predict1))"
   ]
  },
  {
   "cell_type": "code",
   "execution_count": 348,
   "id": "acc6dafb",
   "metadata": {},
   "outputs": [
    {
     "data": {
      "text/plain": [
       "array([[8662,  611],\n",
       "       [1411, 1527]], dtype=int64)"
      ]
     },
     "execution_count": 348,
     "metadata": {},
     "output_type": "execute_result"
    }
   ],
   "source": [
    "from sklearn import metrics\n",
    "cm = metrics.confusion_matrix(y_test,knn20_predict1)\n",
    "cm"
   ]
  },
  {
   "cell_type": "code",
   "execution_count": null,
   "id": "5bad279c",
   "metadata": {},
   "outputs": [],
   "source": [
    "#Accuracy is 0.83"
   ]
  },
  {
   "cell_type": "markdown",
   "id": "715e6406",
   "metadata": {},
   "source": [
    "### Logistic Regression"
   ]
  },
  {
   "cell_type": "code",
   "execution_count": 328,
   "id": "0c3227d0",
   "metadata": {},
   "outputs": [],
   "source": [
    "from sklearn.linear_model import LogisticRegression"
   ]
  },
  {
   "cell_type": "code",
   "execution_count": 331,
   "id": "b1ff9d88",
   "metadata": {},
   "outputs": [],
   "source": [
    "c_range = [0.001, 0.01, 0.1, 1, 10, 100, 1000]\n",
    "train_score_l1 = []\n",
    "train_score_l2 = []\n",
    "test_score_l1 = []\n",
    "test_score_l2 = []\n",
    "\n",
    "for c in c_range:\n",
    "    log_l1 = LogisticRegression(penalty = 'l1', C = c, solver = 'liblinear', max_iter = 500)\n",
    "    log_l2 = LogisticRegression(penalty = 'l2', C = c, solver = 'lbfgs', max_iter = 500)\n",
    "    log_l1.fit(X_train, y_train)\n",
    "    log_l2.fit(X_train, y_train)\n",
    "    train_score_l1.append(log_l1.score(X_train, y_train))\n",
    "    train_score_l2.append(log_l2.score(X_train, y_train))\n",
    "    test_score_l1.append(log_l1.score(X_test, y_test))\n",
    "    test_score_l2.append(log_l2.score(X_test, y_test))"
   ]
  },
  {
   "cell_type": "code",
   "execution_count": 332,
   "id": "e10e01cc",
   "metadata": {},
   "outputs": [
    {
     "data": {
      "image/png": "[encoded data removed]",
      "text/plain": [
       "<Figure size 1440x360 with 1 Axes>"
      ]
     },
     "metadata": {
      "needs_background": "light"
     },
     "output_type": "display_data"
    }
   ],
   "source": [
    "import matplotlib.pyplot as plt\n",
    "%matplotlib inline\n",
    "\n",
    "plt.subplots(figsize = (20,5))\n",
    "plt.plot(c_range, train_score_l1, label = 'Train score, penalty = l1')\n",
    "plt.plot(c_range, test_score_l1, label = 'Test score, penalty = l1')\n",
    "plt.plot(c_range, train_score_l2, label = 'Train score, penalty = l2')\n",
    "plt.plot(c_range, test_score_l2, label = 'Test score, penalty = l2')\n",
    "plt.legend()\n",
    "plt.xlabel('Regularization parameter: C')\n",
    "plt.ylabel('Accuracy')\n",
    "plt.xscale('log')"
   ]
  },
  {
   "cell_type": "code",
   "execution_count": null,
   "id": "adf0cdc6",
   "metadata": {},
   "outputs": [],
   "source": [
    "# best parameters are c=0.1,penality=l1;"
   ]
  },
  {
   "cell_type": "code",
   "execution_count": 335,
   "id": "c0c237cf",
   "metadata": {},
   "outputs": [
    {
     "name": "stdout",
     "output_type": "stream",
     "text": [
      "Trainig set Accuracy (Logistic Regression) 0.8469\n",
      "Test set Accuracy (Logistic Regression): 0.8491\n"
     ]
    }
   ],
   "source": [
    "LR1 = LogisticRegression(penalty = 'l1', C= 0.1,solver = 'liblinear', max_iter = 500)\n",
    "LR1.fit(X_train,y_train)\n",
    "print('Trainig set Accuracy (Logistic Regression) {:.4f}'.format(LR1.score(X_train, y_train)))\n",
    "print('Test set Accuracy (Logistic Regression): {:.4f}'.format(LR1.score(X_test, y_test)))\n"
   ]
  },
  {
   "cell_type": "code",
   "execution_count": 336,
   "id": "a6bfa890",
   "metadata": {},
   "outputs": [
    {
     "name": "stdout",
     "output_type": "stream",
     "text": [
      "              precision    recall  f1-score   support\n",
      "\n",
      "           0       0.88      0.93      0.90      9273\n",
      "           1       0.74      0.58      0.65      2938\n",
      "\n",
      "    accuracy                           0.85     12211\n",
      "   macro avg       0.81      0.76      0.78     12211\n",
      "weighted avg       0.84      0.85      0.84     12211\n",
      "\n"
     ]
    }
   ],
   "source": [
    "logist_predict1 = LR1.predict(X_test)\n",
    "print(classification_report(y_test, logist_predict1))"
   ]
  },
  {
   "cell_type": "code",
   "execution_count": 339,
   "id": "c6a9349c",
   "metadata": {},
   "outputs": [
    {
     "data": {
      "text/plain": [
       "array([[8658,  615],\n",
       "       [1228, 1710]], dtype=int64)"
      ]
     },
     "execution_count": 339,
     "metadata": {},
     "output_type": "execute_result"
    }
   ],
   "source": [
    "cm1 = metrics.confusion_matrix(y_test,logist_predict1)\n",
    "cm1"
   ]
  },
  {
   "cell_type": "code",
   "execution_count": null,
   "id": "e5980729",
   "metadata": {},
   "outputs": [],
   "source": [
    "# We have an Accuracy of 0.84"
   ]
  },
  {
   "cell_type": "markdown",
   "id": "4d320e63",
   "metadata": {},
   "source": [
    "### Decision Tree"
   ]
  },
  {
   "cell_type": "code",
   "execution_count": 350,
   "id": "21b9b5c4",
   "metadata": {},
   "outputs": [],
   "source": [
    "from sklearn.tree import DecisionTreeClassifier\n",
    "from sklearn.svm import SVC,LinearSVC"
   ]
  },
  {
   "cell_type": "code",
   "execution_count": 351,
   "id": "7de49666",
   "metadata": {},
   "outputs": [],
   "source": [
    "dtree_clfr = DecisionTreeClassifier()\n",
    "parm = {'max_depth': [5, 10, 20, 50, 100]}"
   ]
  },
  {
   "cell_type": "code",
   "execution_count": 352,
   "id": "e35d632f",
   "metadata": {},
   "outputs": [
    {
     "data": {
      "text/plain": [
       "GridSearchCV(cv=5, estimator=DecisionTreeClassifier(),\n",
       "             param_grid={'max_depth': [5, 10, 20, 50, 100]},\n",
       "             return_train_score=True)"
      ]
     },
     "execution_count": 352,
     "metadata": {},
     "output_type": "execute_result"
    }
   ],
   "source": [
    "#gridsearch \n",
    "gs_dt = GridSearchCV(dtree_clfr, parm, cv = 5, return_train_score=True)\n",
    "gs_dt.fit(X_train, y_train)"
   ]
  },
  {
   "cell_type": "code",
   "execution_count": 353,
   "id": "cdedc287",
   "metadata": {},
   "outputs": [
    {
     "name": "stdout",
     "output_type": "stream",
     "text": [
      "The Best parameters are: {'max_depth': 10}\n",
      "The Best Score is : 0.8583439997934332\n"
     ]
    }
   ],
   "source": [
    "print(\"The Best parameters are: {}\".format(gs_dt.best_params_))\n",
    "print(\"The Best Score is : {}\".format(gs_dt.best_score_))"
   ]
  },
  {
   "cell_type": "code",
   "execution_count": 354,
   "id": "57872ec2",
   "metadata": {},
   "outputs": [],
   "source": [
    "dtree_c = DecisionTreeClassifier(max_depth = 5)\n",
    "dtree_c.fit(X_train,y_train)\n",
    "dtree_c_pred = dtree_c.predict(X_test)"
   ]
  },
  {
   "cell_type": "code",
   "execution_count": 356,
   "id": "896083e9",
   "metadata": {},
   "outputs": [
    {
     "name": "stdout",
     "output_type": "stream",
     "text": [
      "Accuracy on training set: 0.850\n",
      "Accuracy on test set: 0.850\n"
     ]
    }
   ],
   "source": [
    "print(\"Accuracy on training set: {:.3f}\".format(dtree_c.score(X_train, y_train)))\n",
    "print(\"Accuracy on test set: {:.3f}\".format(dtree_c.score(X_test, y_test)))"
   ]
  },
  {
   "cell_type": "code",
   "execution_count": 357,
   "id": "96c76d5d",
   "metadata": {},
   "outputs": [
    {
     "name": "stdout",
     "output_type": "stream",
     "text": [
      "              precision    recall  f1-score   support\n",
      "\n",
      "           0       0.87      0.94      0.91      9273\n",
      "           1       0.76      0.55      0.64      2938\n",
      "\n",
      "    accuracy                           0.85     12211\n",
      "   macro avg       0.81      0.75      0.77     12211\n",
      "weighted avg       0.84      0.85      0.84     12211\n",
      "\n"
     ]
    }
   ],
   "source": [
    "print(classification_report(y_test,dtree_c_pred))"
   ]
  },
  {
   "cell_type": "code",
   "execution_count": 358,
   "id": "4cbaf85c",
   "metadata": {},
   "outputs": [
    {
     "data": {
      "text/plain": [
       "array([[8762,  511],\n",
       "       [1322, 1616]], dtype=int64)"
      ]
     },
     "execution_count": 358,
     "metadata": {},
     "output_type": "execute_result"
    }
   ],
   "source": [
    "cm2 = metrics.confusion_matrix(y_test,dtree_c_pred)\n",
    "cm2"
   ]
  },
  {
   "cell_type": "code",
   "execution_count": null,
   "id": "5736e2b7",
   "metadata": {},
   "outputs": [],
   "source": [
    "#We have an accuracy of 0.85"
   ]
  },
  {
   "cell_type": "markdown",
   "id": "c834fdae",
   "metadata": {},
   "source": [
    "### Linear SVC"
   ]
  },
  {
   "cell_type": "code",
   "execution_count": null,
   "id": "5c66f505",
   "metadata": {},
   "outputs": [],
   "source": [
    "#Grid Search\n",
    "parm = {'C': [0.001, 0.01, 0.1, 1, 10, 100, 1000]}\n",
    "gs_svm = GridSearchCV(LinearSVC(), parm, return_train_score=True,cv=5)\n",
    "gs_svm.fit(X_train,y_train)\n",
    "print(gs_svm.best_params_)"
   ]
  },
  {
   "cell_type": "code",
   "execution_count": 370,
   "id": "e66617d3",
   "metadata": {},
   "outputs": [],
   "source": [
    "svm = LinearSVC(C=1)"
   ]
  },
  {
   "cell_type": "code",
   "execution_count": 371,
   "id": "b6b2f938",
   "metadata": {},
   "outputs": [],
   "source": [
    "svm.fit(X_train,y_train)\n",
    "svm_pre2 = svm.predict(X_test)"
   ]
  },
  {
   "cell_type": "code",
   "execution_count": 372,
   "id": "6d792b55",
   "metadata": {},
   "outputs": [
    {
     "name": "stdout",
     "output_type": "stream",
     "text": [
      "              precision    recall  f1-score   support\n",
      "\n",
      "           0       0.87      0.94      0.90      9273\n",
      "           1       0.74      0.58      0.65      2938\n",
      "\n",
      "    accuracy                           0.85     12211\n",
      "   macro avg       0.81      0.76      0.78     12211\n",
      "weighted avg       0.84      0.85      0.84     12211\n",
      "\n"
     ]
    }
   ],
   "source": [
    "print(classification_report(y_test,svm_pre2))"
   ]
  },
  {
   "cell_type": "code",
   "execution_count": 373,
   "id": "b883313e",
   "metadata": {},
   "outputs": [
    {
     "data": {
      "text/plain": [
       "array([[8674,  599],\n",
       "       [1248, 1690]], dtype=int64)"
      ]
     },
     "execution_count": 373,
     "metadata": {},
     "output_type": "execute_result"
    }
   ],
   "source": [
    "cm3 = metrics.confusion_matrix(y_test,svm_pre2)\n",
    "cm3"
   ]
  },
  {
   "cell_type": "code",
   "execution_count": null,
   "id": "a7d84560",
   "metadata": {},
   "outputs": [],
   "source": [
    "# Accuracy is 0.85"
   ]
  },
  {
   "cell_type": "markdown",
   "id": "642a3486",
   "metadata": {},
   "source": [
    "### Kernel SVC"
   ]
  },
  {
   "cell_type": "code",
   "execution_count": 368,
   "id": "bea857d9",
   "metadata": {},
   "outputs": [],
   "source": [
    "Kernel_SVC1 = SVC(max_iter=10000)\n",
    "Kernel_SVC1_parms = {'C':[0.001, 0.01, 0.1, 1, 10],'gamma':[1,0.1,0.001], 'kernel':['rbf','linear','poly']}"
   ]
  },
  {
   "cell_type": "code",
   "execution_count": null,
   "id": "f6989333",
   "metadata": {},
   "outputs": [],
   "source": [
    "# I am not able to run Kernel-SVC due to  Time Constriant .It is taking lot of time."
   ]
  },
  {
   "cell_type": "code",
   "execution_count": null,
   "id": "faeb6b54",
   "metadata": {},
   "outputs": [],
   "source": [
    "Kernel_SVC1_clfr = GridSearchCV(Kernel_SVC1, Kernel_SVC1_parms,cv=5)\n",
    "Kernel_SVC1_clfr.fit(X_train,y_train)"
   ]
  },
  {
   "cell_type": "markdown",
   "id": "fb79b33e",
   "metadata": {},
   "source": [
    "##### So out of all the models the best model is Decision Tree Classifier."
   ]
  },
  {
   "cell_type": "code",
   "execution_count": null,
   "id": "0bd754b6",
   "metadata": {},
   "outputs": [],
   "source": []
  }
 ],
 "metadata": {
  "kernelspec": {
   "display_name": "Python 3",
   "language": "python",
   "name": "python3"
  },
  "language_info": {
   "codemirror_mode": {
    "name": "ipython",
    "version": 3
   },
   "file_extension": ".py",
   "mimetype": "text/x-python",
   "name": "python",
   "nbconvert_exporter": "python",
   "pygments_lexer": "ipython3",
   "version": "3.8.8"
  }
 },
 "nbformat": 4,
 "nbformat_minor": 5
}
