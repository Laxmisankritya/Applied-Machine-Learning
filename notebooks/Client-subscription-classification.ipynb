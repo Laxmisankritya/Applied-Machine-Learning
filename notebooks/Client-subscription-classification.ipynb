{
 "cells": [
  {
   "cell_type": "raw",
   "metadata": {
    "id": "LJusAiwBRztp"
   },
   "source": [
    "# Homework 1"
   ]
  },
  {
   "cell_type": "markdown",
   "metadata": {
    "id": "Q00k3a7lRztt"
   },
   "source": [
    "### Import libraries"
   ]
  },
  {
   "cell_type": "code",
   "execution_count": 1,
   "metadata": {
    "id": "78XgVNnXRztu"
   },
   "outputs": [],
   "source": [
    "import pandas as pd\n",
    "import numpy as np"
   ]
  },
  {
   "cell_type": "code",
   "execution_count": 2,
   "metadata": {
    "colab": {
     "base_uri": "https://localhost:8080/",
     "height": 35
    },
    "id": "8M1yfGvcikbL",
    "outputId": "175bec3d-021d-4843-ff26-ba92ed39a5e8"
   },
   "outputs": [
    {
     "data": {
      "text/plain": [
       "'C:\\\\Users\\\\Shiva\\\\OneDrive\\\\Desktop\\\\BUAN6341\\\\ipynb'"
      ]
     },
     "execution_count": 2,
     "metadata": {},
     "output_type": "execute_result"
    }
   ],
   "source": [
    "import os\n",
    "os.getcwd()"
   ]
  },
  {
   "cell_type": "code",
   "execution_count": 3,
   "metadata": {
    "colab": {
     "base_uri": "https://localhost:8080/"
    },
    "id": "D3Aipj_-R26E",
    "outputId": "1066fb08-7fbb-4748-92d9-e3e1de499130"
   },
   "outputs": [
    {
     "name": "stdout",
     "output_type": "stream",
     "text": [
      " Volume in drive C is Local Disk\n",
      " Volume Serial Number is 8471-B1A1\n",
      "\n",
      " Directory of C:\\Users\\Shiva\\OneDrive\\Desktop\\BUAN6341\\ipynb\n",
      "\n",
      "10/13/2021  12:26 AM    <DIR>          .\n",
      "10/13/2021  12:26 AM    <DIR>          ..\n",
      "10/13/2021  12:26 AM    <DIR>          .ipynb_checkpoints\n",
      "10/13/2021  12:26 AM           313,488 Homework.ipynb\n",
      "10/12/2021  06:07 PM           190,203 Homework_1.ipynb\n",
      "10/13/2021  12:26 AM           313,488 Homework-Copy1.ipynb\n",
      "09/06/2021  04:39 PM           216,517 Introduction to Machine Learning.ipynb\n",
      "09/06/2021  04:28 PM           192,558 Numpy and Pandas Introduction(1).ipynb\n",
      "10/03/2021  05:03 PM            45,944 Part b - Regression - Labs 1 to 3.ipynb\n",
      "10/12/2021  08:49 PM            75,454 Part_b_Regression_Labs_1_to_3.ipynb\n",
      "09/18/2021  10:17 PM         2,052,435 Supervised Machine Learning.ipynb\n",
      "09/19/2021  08:55 PM           325,354 titanic(1).ipynb\n",
      "09/12/2021  04:46 PM             2,178 Untitled.ipynb\n",
      "              10 File(s)      3,727,619 bytes\n",
      "               3 Dir(s)  13,836,967,936 bytes free\n"
     ]
    }
   ],
   "source": [
    "ls"
   ]
  },
  {
   "cell_type": "code",
   "execution_count": 4,
   "metadata": {
    "colab": {
     "base_uri": "https://localhost:8080/",
     "height": 226
    },
    "id": "DC-QBVSFRztw",
    "outputId": "672e6104-15b4-4ae8-ffd3-76078643d731"
   },
   "outputs": [
    {
     "data": {
      "text/html": [
       "<div>\n",
       "<style scoped>\n",
       "    .dataframe tbody tr th:only-of-type {\n",
       "        vertical-align: middle;\n",
       "    }\n",
       "\n",
       "    .dataframe tbody tr th {\n",
       "        vertical-align: top;\n",
       "    }\n",
       "\n",
       "    .dataframe thead th {\n",
       "        text-align: right;\n",
       "    }\n",
       "</style>\n",
       "<table border=\"1\" class=\"dataframe\">\n",
       "  <thead>\n",
       "    <tr style=\"text-align: right;\">\n",
       "      <th></th>\n",
       "      <th>age</th>\n",
       "      <th>job</th>\n",
       "      <th>marital</th>\n",
       "      <th>education</th>\n",
       "      <th>default</th>\n",
       "      <th>housing</th>\n",
       "      <th>loan</th>\n",
       "      <th>contact</th>\n",
       "      <th>duration</th>\n",
       "      <th>campaign</th>\n",
       "      <th>pdays</th>\n",
       "      <th>previous</th>\n",
       "      <th>poutcome</th>\n",
       "      <th>y</th>\n",
       "    </tr>\n",
       "  </thead>\n",
       "  <tbody>\n",
       "    <tr>\n",
       "      <th>0</th>\n",
       "      <td>999</td>\n",
       "      <td>blue-collar</td>\n",
       "      <td>married</td>\n",
       "      <td>basic.4y</td>\n",
       "      <td>unknown</td>\n",
       "      <td>no</td>\n",
       "      <td>yes</td>\n",
       "      <td>cellular</td>\n",
       "      <td>105.0</td>\n",
       "      <td>1</td>\n",
       "      <td>999.0</td>\n",
       "      <td>0</td>\n",
       "      <td>nonexistent</td>\n",
       "      <td>no</td>\n",
       "    </tr>\n",
       "    <tr>\n",
       "      <th>1</th>\n",
       "      <td>36</td>\n",
       "      <td>blue-collar</td>\n",
       "      <td>married</td>\n",
       "      <td>basic.6y</td>\n",
       "      <td>no</td>\n",
       "      <td>yes</td>\n",
       "      <td>no</td>\n",
       "      <td>cellular</td>\n",
       "      <td>125.0</td>\n",
       "      <td>5</td>\n",
       "      <td>999.0</td>\n",
       "      <td>0</td>\n",
       "      <td>nonexistent</td>\n",
       "      <td>no</td>\n",
       "    </tr>\n",
       "    <tr>\n",
       "      <th>2</th>\n",
       "      <td>999</td>\n",
       "      <td>admin.</td>\n",
       "      <td>single</td>\n",
       "      <td>high.school</td>\n",
       "      <td>no</td>\n",
       "      <td>no</td>\n",
       "      <td>yes</td>\n",
       "      <td>telephone</td>\n",
       "      <td>111.0</td>\n",
       "      <td>1</td>\n",
       "      <td>999.0</td>\n",
       "      <td>0</td>\n",
       "      <td>nonexistent</td>\n",
       "      <td>no</td>\n",
       "    </tr>\n",
       "    <tr>\n",
       "      <th>3</th>\n",
       "      <td>39</td>\n",
       "      <td>blue-collar</td>\n",
       "      <td>married</td>\n",
       "      <td>basic.6y</td>\n",
       "      <td>unknown</td>\n",
       "      <td>no</td>\n",
       "      <td>no</td>\n",
       "      <td>cellular</td>\n",
       "      <td>173.0</td>\n",
       "      <td>2</td>\n",
       "      <td>999.0</td>\n",
       "      <td>0</td>\n",
       "      <td>nonexistent</td>\n",
       "      <td>no</td>\n",
       "    </tr>\n",
       "    <tr>\n",
       "      <th>4</th>\n",
       "      <td>41</td>\n",
       "      <td>housemaid</td>\n",
       "      <td>married</td>\n",
       "      <td>basic.4y</td>\n",
       "      <td>unknown</td>\n",
       "      <td>no</td>\n",
       "      <td>no</td>\n",
       "      <td>cellular</td>\n",
       "      <td>107.0</td>\n",
       "      <td>1</td>\n",
       "      <td>999.0</td>\n",
       "      <td>0</td>\n",
       "      <td>nonexistent</td>\n",
       "      <td>no</td>\n",
       "    </tr>\n",
       "  </tbody>\n",
       "</table>\n",
       "</div>"
      ],
      "text/plain": [
       "   age          job  marital    education  default housing loan    contact  \\\n",
       "0  999  blue-collar  married     basic.4y  unknown      no  yes   cellular   \n",
       "1   36  blue-collar  married     basic.6y       no     yes   no   cellular   \n",
       "2  999       admin.   single  high.school       no      no  yes  telephone   \n",
       "3   39  blue-collar  married     basic.6y  unknown      no   no   cellular   \n",
       "4   41    housemaid  married     basic.4y  unknown      no   no   cellular   \n",
       "\n",
       "   duration  campaign  pdays  previous     poutcome   y  \n",
       "0     105.0         1  999.0         0  nonexistent  no  \n",
       "1     125.0         5  999.0         0  nonexistent  no  \n",
       "2     111.0         1  999.0         0  nonexistent  no  \n",
       "3     173.0         2  999.0         0  nonexistent  no  \n",
       "4     107.0         1  999.0         0  nonexistent  no  "
      ]
     },
     "execution_count": 4,
     "metadata": {},
     "output_type": "execute_result"
    }
   ],
   "source": [
    "df_classification = pd.read_csv('../csv_file/classification.csv')\n",
    "df_classification.head()"
   ]
  },
  {
   "cell_type": "markdown",
   "metadata": {
    "id": "KWZ1Ot7URzt0"
   },
   "source": [
    "### Answer 1 \n",
    "Missing values"
   ]
  },
  {
   "cell_type": "code",
   "execution_count": 5,
   "metadata": {
    "colab": {
     "base_uri": "https://localhost:8080/"
    },
    "id": "jPnb0JR6Rzt0",
    "outputId": "b19cf0b5-c5b9-4bf7-e6cd-af7f43bccc59"
   },
   "outputs": [
    {
     "name": "stdout",
     "output_type": "stream",
     "text": [
      "<class 'pandas.core.frame.DataFrame'>\n",
      "RangeIndex: 4119 entries, 0 to 4118\n",
      "Data columns (total 14 columns):\n",
      " #   Column     Non-Null Count  Dtype  \n",
      "---  ------     --------------  -----  \n",
      " 0   age        4119 non-null   int64  \n",
      " 1   job        4119 non-null   object \n",
      " 2   marital    3991 non-null   object \n",
      " 3   education  4119 non-null   object \n",
      " 4   default    4119 non-null   object \n",
      " 5   housing    4119 non-null   object \n",
      " 6   loan       4119 non-null   object \n",
      " 7   contact    4119 non-null   object \n",
      " 8   duration   4007 non-null   float64\n",
      " 9   campaign   4119 non-null   int64  \n",
      " 10  pdays      3958 non-null   float64\n",
      " 11  previous   4119 non-null   int64  \n",
      " 12  poutcome   4119 non-null   object \n",
      " 13  y          4119 non-null   object \n",
      "dtypes: float64(2), int64(3), object(9)\n",
      "memory usage: 450.6+ KB\n"
     ]
    }
   ],
   "source": [
    "df_classification.info()"
   ]
  },
  {
   "cell_type": "markdown",
   "metadata": {
    "id": "MlGHFHlJRzt1"
   },
   "source": [
    "Columns `marital`, `duration` and `pdays` have missing values based on the info of the dataframe above."
   ]
  },
  {
   "cell_type": "markdown",
   "metadata": {
    "id": "zELsx-SWRzt2"
   },
   "source": [
    "#### Type of missing values in the columns `marital`, `duration` and `pdays`"
   ]
  },
  {
   "cell_type": "code",
   "execution_count": 6,
   "metadata": {
    "colab": {
     "base_uri": "https://localhost:8080/",
     "height": 226
    },
    "id": "cMtiJT-ORzt3",
    "outputId": "71c4efd5-7529-4742-947a-68848334ef0a"
   },
   "outputs": [
    {
     "data": {
      "text/html": [
       "<div>\n",
       "<style scoped>\n",
       "    .dataframe tbody tr th:only-of-type {\n",
       "        vertical-align: middle;\n",
       "    }\n",
       "\n",
       "    .dataframe tbody tr th {\n",
       "        vertical-align: top;\n",
       "    }\n",
       "\n",
       "    .dataframe thead th {\n",
       "        text-align: right;\n",
       "    }\n",
       "</style>\n",
       "<table border=\"1\" class=\"dataframe\">\n",
       "  <thead>\n",
       "    <tr style=\"text-align: right;\">\n",
       "      <th></th>\n",
       "      <th>age</th>\n",
       "      <th>job</th>\n",
       "      <th>marital</th>\n",
       "      <th>education</th>\n",
       "      <th>default</th>\n",
       "      <th>housing</th>\n",
       "      <th>loan</th>\n",
       "      <th>contact</th>\n",
       "      <th>duration</th>\n",
       "      <th>campaign</th>\n",
       "      <th>pdays</th>\n",
       "      <th>previous</th>\n",
       "      <th>poutcome</th>\n",
       "      <th>y</th>\n",
       "    </tr>\n",
       "  </thead>\n",
       "  <tbody>\n",
       "    <tr>\n",
       "      <th>58</th>\n",
       "      <td>27</td>\n",
       "      <td>student</td>\n",
       "      <td>NaN</td>\n",
       "      <td>high.school</td>\n",
       "      <td>unknown</td>\n",
       "      <td>yes</td>\n",
       "      <td>no</td>\n",
       "      <td>telephone</td>\n",
       "      <td>38.0</td>\n",
       "      <td>9</td>\n",
       "      <td>999.0</td>\n",
       "      <td>0</td>\n",
       "      <td>nonexistent</td>\n",
       "      <td>no</td>\n",
       "    </tr>\n",
       "    <tr>\n",
       "      <th>59</th>\n",
       "      <td>44</td>\n",
       "      <td>management</td>\n",
       "      <td>NaN</td>\n",
       "      <td>professional.course</td>\n",
       "      <td>no</td>\n",
       "      <td>no</td>\n",
       "      <td>no</td>\n",
       "      <td>cellular</td>\n",
       "      <td>65.0</td>\n",
       "      <td>1</td>\n",
       "      <td>999.0</td>\n",
       "      <td>1</td>\n",
       "      <td>failure</td>\n",
       "      <td>no</td>\n",
       "    </tr>\n",
       "    <tr>\n",
       "      <th>68</th>\n",
       "      <td>55</td>\n",
       "      <td>management</td>\n",
       "      <td>NaN</td>\n",
       "      <td>university.degree</td>\n",
       "      <td>no</td>\n",
       "      <td>no</td>\n",
       "      <td>no</td>\n",
       "      <td>cellular</td>\n",
       "      <td>171.0</td>\n",
       "      <td>2</td>\n",
       "      <td>999.0</td>\n",
       "      <td>0</td>\n",
       "      <td>nonexistent</td>\n",
       "      <td>no</td>\n",
       "    </tr>\n",
       "    <tr>\n",
       "      <th>88</th>\n",
       "      <td>32</td>\n",
       "      <td>management</td>\n",
       "      <td>NaN</td>\n",
       "      <td>university.degree</td>\n",
       "      <td>no</td>\n",
       "      <td>yes</td>\n",
       "      <td>no</td>\n",
       "      <td>cellular</td>\n",
       "      <td>129.0</td>\n",
       "      <td>2</td>\n",
       "      <td>999.0</td>\n",
       "      <td>0</td>\n",
       "      <td>nonexistent</td>\n",
       "      <td>no</td>\n",
       "    </tr>\n",
       "    <tr>\n",
       "      <th>137</th>\n",
       "      <td>37</td>\n",
       "      <td>entrepreneur</td>\n",
       "      <td>NaN</td>\n",
       "      <td>basic.9y</td>\n",
       "      <td>no</td>\n",
       "      <td>no</td>\n",
       "      <td>no</td>\n",
       "      <td>cellular</td>\n",
       "      <td>69.0</td>\n",
       "      <td>1</td>\n",
       "      <td>999.0</td>\n",
       "      <td>0</td>\n",
       "      <td>nonexistent</td>\n",
       "      <td>no</td>\n",
       "    </tr>\n",
       "  </tbody>\n",
       "</table>\n",
       "</div>"
      ],
      "text/plain": [
       "     age           job marital            education  default housing loan  \\\n",
       "58    27       student     NaN          high.school  unknown     yes   no   \n",
       "59    44    management     NaN  professional.course       no      no   no   \n",
       "68    55    management     NaN    university.degree       no      no   no   \n",
       "88    32    management     NaN    university.degree       no     yes   no   \n",
       "137   37  entrepreneur     NaN             basic.9y       no      no   no   \n",
       "\n",
       "       contact  duration  campaign  pdays  previous     poutcome   y  \n",
       "58   telephone      38.0         9  999.0         0  nonexistent  no  \n",
       "59    cellular      65.0         1  999.0         1      failure  no  \n",
       "68    cellular     171.0         2  999.0         0  nonexistent  no  \n",
       "88    cellular     129.0         2  999.0         0  nonexistent  no  \n",
       "137   cellular      69.0         1  999.0         0  nonexistent  no  "
      ]
     },
     "execution_count": 6,
     "metadata": {},
     "output_type": "execute_result"
    }
   ],
   "source": [
    "df_classification[df_classification['marital'].isnull()].head()"
   ]
  },
  {
   "cell_type": "code",
   "execution_count": 7,
   "metadata": {
    "colab": {
     "base_uri": "https://localhost:8080/",
     "height": 261
    },
    "id": "HKuqnHOARzt4",
    "outputId": "7aca967d-7e44-4098-8a30-913a7d7cac4c"
   },
   "outputs": [
    {
     "data": {
      "text/html": [
       "<div>\n",
       "<style scoped>\n",
       "    .dataframe tbody tr th:only-of-type {\n",
       "        vertical-align: middle;\n",
       "    }\n",
       "\n",
       "    .dataframe tbody tr th {\n",
       "        vertical-align: top;\n",
       "    }\n",
       "\n",
       "    .dataframe thead th {\n",
       "        text-align: right;\n",
       "    }\n",
       "</style>\n",
       "<table border=\"1\" class=\"dataframe\">\n",
       "  <thead>\n",
       "    <tr style=\"text-align: right;\">\n",
       "      <th></th>\n",
       "      <th>age</th>\n",
       "      <th>job</th>\n",
       "      <th>marital</th>\n",
       "      <th>education</th>\n",
       "      <th>default</th>\n",
       "      <th>housing</th>\n",
       "      <th>loan</th>\n",
       "      <th>contact</th>\n",
       "      <th>duration</th>\n",
       "      <th>campaign</th>\n",
       "      <th>pdays</th>\n",
       "      <th>previous</th>\n",
       "      <th>poutcome</th>\n",
       "      <th>y</th>\n",
       "    </tr>\n",
       "  </thead>\n",
       "  <tbody>\n",
       "    <tr>\n",
       "      <th>30</th>\n",
       "      <td>57</td>\n",
       "      <td>retired</td>\n",
       "      <td>married</td>\n",
       "      <td>basic.4y</td>\n",
       "      <td>unknown</td>\n",
       "      <td>yes</td>\n",
       "      <td>no</td>\n",
       "      <td>telephone</td>\n",
       "      <td>NaN</td>\n",
       "      <td>1</td>\n",
       "      <td>999.0</td>\n",
       "      <td>0</td>\n",
       "      <td>nonexistent</td>\n",
       "      <td>no</td>\n",
       "    </tr>\n",
       "    <tr>\n",
       "      <th>192</th>\n",
       "      <td>29</td>\n",
       "      <td>technician</td>\n",
       "      <td>unknown</td>\n",
       "      <td>high.school</td>\n",
       "      <td>no</td>\n",
       "      <td>yes</td>\n",
       "      <td>no</td>\n",
       "      <td>cellular</td>\n",
       "      <td>NaN</td>\n",
       "      <td>3</td>\n",
       "      <td>999.0</td>\n",
       "      <td>0</td>\n",
       "      <td>nonexistent</td>\n",
       "      <td>no</td>\n",
       "    </tr>\n",
       "    <tr>\n",
       "      <th>249</th>\n",
       "      <td>29</td>\n",
       "      <td>blue-collar</td>\n",
       "      <td>married</td>\n",
       "      <td>basic.9y</td>\n",
       "      <td>no</td>\n",
       "      <td>yes</td>\n",
       "      <td>no</td>\n",
       "      <td>cellular</td>\n",
       "      <td>NaN</td>\n",
       "      <td>1</td>\n",
       "      <td>999.0</td>\n",
       "      <td>0</td>\n",
       "      <td>nonexistent</td>\n",
       "      <td>yes</td>\n",
       "    </tr>\n",
       "    <tr>\n",
       "      <th>300</th>\n",
       "      <td>50</td>\n",
       "      <td>technician</td>\n",
       "      <td>divorced</td>\n",
       "      <td>university.degree</td>\n",
       "      <td>unknown</td>\n",
       "      <td>no</td>\n",
       "      <td>no</td>\n",
       "      <td>cellular</td>\n",
       "      <td>NaN</td>\n",
       "      <td>2</td>\n",
       "      <td>999.0</td>\n",
       "      <td>0</td>\n",
       "      <td>nonexistent</td>\n",
       "      <td>no</td>\n",
       "    </tr>\n",
       "    <tr>\n",
       "      <th>332</th>\n",
       "      <td>43</td>\n",
       "      <td>blue-collar</td>\n",
       "      <td>married</td>\n",
       "      <td>basic.9y</td>\n",
       "      <td>unknown</td>\n",
       "      <td>unknown</td>\n",
       "      <td>unknown</td>\n",
       "      <td>cellular</td>\n",
       "      <td>NaN</td>\n",
       "      <td>1</td>\n",
       "      <td>999.0</td>\n",
       "      <td>0</td>\n",
       "      <td>nonexistent</td>\n",
       "      <td>no</td>\n",
       "    </tr>\n",
       "  </tbody>\n",
       "</table>\n",
       "</div>"
      ],
      "text/plain": [
       "     age          job   marital          education  default  housing     loan  \\\n",
       "30    57      retired   married           basic.4y  unknown      yes       no   \n",
       "192   29   technician   unknown        high.school       no      yes       no   \n",
       "249   29  blue-collar   married           basic.9y       no      yes       no   \n",
       "300   50   technician  divorced  university.degree  unknown       no       no   \n",
       "332   43  blue-collar   married           basic.9y  unknown  unknown  unknown   \n",
       "\n",
       "       contact  duration  campaign  pdays  previous     poutcome    y  \n",
       "30   telephone       NaN         1  999.0         0  nonexistent   no  \n",
       "192   cellular       NaN         3  999.0         0  nonexistent   no  \n",
       "249   cellular       NaN         1  999.0         0  nonexistent  yes  \n",
       "300   cellular       NaN         2  999.0         0  nonexistent   no  \n",
       "332   cellular       NaN         1  999.0         0  nonexistent   no  "
      ]
     },
     "execution_count": 7,
     "metadata": {},
     "output_type": "execute_result"
    }
   ],
   "source": [
    "df_classification[df_classification['duration'].isnull()].head()"
   ]
  },
  {
   "cell_type": "code",
   "execution_count": 8,
   "metadata": {
    "colab": {
     "base_uri": "https://localhost:8080/",
     "height": 261
    },
    "id": "9ev13kjERzt6",
    "outputId": "896905c9-a952-4bc7-b948-30115bac36b6"
   },
   "outputs": [
    {
     "data": {
      "text/html": [
       "<div>\n",
       "<style scoped>\n",
       "    .dataframe tbody tr th:only-of-type {\n",
       "        vertical-align: middle;\n",
       "    }\n",
       "\n",
       "    .dataframe tbody tr th {\n",
       "        vertical-align: top;\n",
       "    }\n",
       "\n",
       "    .dataframe thead th {\n",
       "        text-align: right;\n",
       "    }\n",
       "</style>\n",
       "<table border=\"1\" class=\"dataframe\">\n",
       "  <thead>\n",
       "    <tr style=\"text-align: right;\">\n",
       "      <th></th>\n",
       "      <th>age</th>\n",
       "      <th>job</th>\n",
       "      <th>marital</th>\n",
       "      <th>education</th>\n",
       "      <th>default</th>\n",
       "      <th>housing</th>\n",
       "      <th>loan</th>\n",
       "      <th>contact</th>\n",
       "      <th>duration</th>\n",
       "      <th>campaign</th>\n",
       "      <th>pdays</th>\n",
       "      <th>previous</th>\n",
       "      <th>poutcome</th>\n",
       "      <th>y</th>\n",
       "    </tr>\n",
       "  </thead>\n",
       "  <tbody>\n",
       "    <tr>\n",
       "      <th>21</th>\n",
       "      <td>38</td>\n",
       "      <td>admin.</td>\n",
       "      <td>married</td>\n",
       "      <td>high.school</td>\n",
       "      <td>unknown</td>\n",
       "      <td>no</td>\n",
       "      <td>no</td>\n",
       "      <td>cellular</td>\n",
       "      <td>203.0</td>\n",
       "      <td>1</td>\n",
       "      <td>NaN</td>\n",
       "      <td>0</td>\n",
       "      <td>nonexistent</td>\n",
       "      <td>no</td>\n",
       "    </tr>\n",
       "    <tr>\n",
       "      <th>40</th>\n",
       "      <td>32</td>\n",
       "      <td>admin.</td>\n",
       "      <td>divorced</td>\n",
       "      <td>high.school</td>\n",
       "      <td>no</td>\n",
       "      <td>yes</td>\n",
       "      <td>no</td>\n",
       "      <td>cellular</td>\n",
       "      <td>134.0</td>\n",
       "      <td>1</td>\n",
       "      <td>NaN</td>\n",
       "      <td>0</td>\n",
       "      <td>nonexistent</td>\n",
       "      <td>no</td>\n",
       "    </tr>\n",
       "    <tr>\n",
       "      <th>87</th>\n",
       "      <td>56</td>\n",
       "      <td>blue-collar</td>\n",
       "      <td>married</td>\n",
       "      <td>unknown</td>\n",
       "      <td>no</td>\n",
       "      <td>yes</td>\n",
       "      <td>no</td>\n",
       "      <td>cellular</td>\n",
       "      <td>178.0</td>\n",
       "      <td>8</td>\n",
       "      <td>NaN</td>\n",
       "      <td>0</td>\n",
       "      <td>nonexistent</td>\n",
       "      <td>no</td>\n",
       "    </tr>\n",
       "    <tr>\n",
       "      <th>109</th>\n",
       "      <td>35</td>\n",
       "      <td>technician</td>\n",
       "      <td>single</td>\n",
       "      <td>professional.course</td>\n",
       "      <td>no</td>\n",
       "      <td>yes</td>\n",
       "      <td>yes</td>\n",
       "      <td>cellular</td>\n",
       "      <td>63.0</td>\n",
       "      <td>4</td>\n",
       "      <td>NaN</td>\n",
       "      <td>0</td>\n",
       "      <td>nonexistent</td>\n",
       "      <td>no</td>\n",
       "    </tr>\n",
       "    <tr>\n",
       "      <th>131</th>\n",
       "      <td>59</td>\n",
       "      <td>blue-collar</td>\n",
       "      <td>married</td>\n",
       "      <td>unknown</td>\n",
       "      <td>no</td>\n",
       "      <td>no</td>\n",
       "      <td>no</td>\n",
       "      <td>cellular</td>\n",
       "      <td>124.0</td>\n",
       "      <td>2</td>\n",
       "      <td>NaN</td>\n",
       "      <td>0</td>\n",
       "      <td>nonexistent</td>\n",
       "      <td>no</td>\n",
       "    </tr>\n",
       "  </tbody>\n",
       "</table>\n",
       "</div>"
      ],
      "text/plain": [
       "     age          job   marital            education  default housing loan  \\\n",
       "21    38       admin.   married          high.school  unknown      no   no   \n",
       "40    32       admin.  divorced          high.school       no     yes   no   \n",
       "87    56  blue-collar   married              unknown       no     yes   no   \n",
       "109   35   technician    single  professional.course       no     yes  yes   \n",
       "131   59  blue-collar   married              unknown       no      no   no   \n",
       "\n",
       "      contact  duration  campaign  pdays  previous     poutcome   y  \n",
       "21   cellular     203.0         1    NaN         0  nonexistent  no  \n",
       "40   cellular     134.0         1    NaN         0  nonexistent  no  \n",
       "87   cellular     178.0         8    NaN         0  nonexistent  no  \n",
       "109  cellular      63.0         4    NaN         0  nonexistent  no  \n",
       "131  cellular     124.0         2    NaN         0  nonexistent  no  "
      ]
     },
     "execution_count": 8,
     "metadata": {},
     "output_type": "execute_result"
    }
   ],
   "source": [
    "df_classification[df_classification['pdays'].isnull()].head()"
   ]
  },
  {
   "cell_type": "markdown",
   "metadata": {
    "id": "2bp8oCWiRzt7"
   },
   "source": [
    "It can be observed that the missing values are of type np.nan"
   ]
  },
  {
   "cell_type": "markdown",
   "metadata": {
    "id": "BX3aIYIjRzt8"
   },
   "source": [
    "### Answer 2\n",
    "Counting missing values in the dataset"
   ]
  },
  {
   "cell_type": "markdown",
   "metadata": {
    "id": "KKo3BFIsRzt8"
   },
   "source": [
    "Replacing 999 with np.NaN"
   ]
  },
  {
   "cell_type": "code",
   "execution_count": 9,
   "metadata": {
    "colab": {
     "base_uri": "https://localhost:8080/"
    },
    "id": "97weMGglRzt-",
    "outputId": "b57c8e6b-2826-43e3-e2d3-366afbc6d17f"
   },
   "outputs": [
    {
     "data": {
      "text/plain": [
       "count    4119.000000\n",
       "mean       90.199077\n",
       "std       213.543589\n",
       "min        18.000000\n",
       "25%        32.000000\n",
       "50%        39.000000\n",
       "75%        49.000000\n",
       "max       999.000000\n",
       "Name: age, dtype: float64"
      ]
     },
     "execution_count": 9,
     "metadata": {},
     "output_type": "execute_result"
    }
   ],
   "source": [
    "df_classification['age'].describe()"
   ]
  },
  {
   "cell_type": "code",
   "execution_count": 10,
   "metadata": {
    "id": "zXV_lCOeRzt_"
   },
   "outputs": [],
   "source": [
    "df_classification['age'].replace(999.0, np.NaN,inplace = True)"
   ]
  },
  {
   "cell_type": "code",
   "execution_count": 11,
   "metadata": {
    "colab": {
     "base_uri": "https://localhost:8080/"
    },
    "id": "_dslv7qNRzuB",
    "outputId": "c1fd9ea3-9a53-45ad-8dcb-1edd92105b96"
   },
   "outputs": [
    {
     "data": {
      "text/plain": [
       "count    3904.000000\n",
       "mean       40.149846\n",
       "std        10.526973\n",
       "min        18.000000\n",
       "25%        32.000000\n",
       "50%        38.000000\n",
       "75%        47.000000\n",
       "max        95.000000\n",
       "Name: age, dtype: float64"
      ]
     },
     "execution_count": 11,
     "metadata": {},
     "output_type": "execute_result"
    }
   ],
   "source": [
    "df_classification['age'].describe()"
   ]
  },
  {
   "cell_type": "code",
   "execution_count": 12,
   "metadata": {
    "colab": {
     "base_uri": "https://localhost:8080/"
    },
    "id": "PuKJl18zRzuC",
    "outputId": "9c01478b-b27a-4a3e-b27b-0df8125df008"
   },
   "outputs": [
    {
     "data": {
      "text/plain": [
       "age          215\n",
       "job            0\n",
       "marital      128\n",
       "education      0\n",
       "default        0\n",
       "housing        0\n",
       "loan           0\n",
       "contact        0\n",
       "duration     112\n",
       "campaign       0\n",
       "pdays        161\n",
       "previous       0\n",
       "poutcome       0\n",
       "y              0\n",
       "dtype: int64"
      ]
     },
     "execution_count": 12,
     "metadata": {},
     "output_type": "execute_result"
    }
   ],
   "source": [
    "df_classification.isna().sum()"
   ]
  },
  {
   "cell_type": "code",
   "execution_count": 13,
   "metadata": {
    "colab": {
     "base_uri": "https://localhost:8080/"
    },
    "id": "VjhgvOveRzuE",
    "outputId": "e44c9e3e-9842-4813-c1a6-58de7dda491b"
   },
   "outputs": [
    {
     "data": {
      "text/plain": [
       "616"
      ]
     },
     "execution_count": 13,
     "metadata": {},
     "output_type": "execute_result"
    }
   ],
   "source": [
    "df_classification.isna().sum().sum()"
   ]
  },
  {
   "cell_type": "markdown",
   "metadata": {
    "id": "-uDkIuw-RzuF"
   },
   "source": [
    "### Answer 3\n",
    "\n",
    "Percentage of the rows having at least one missing value"
   ]
  },
  {
   "cell_type": "code",
   "execution_count": 14,
   "metadata": {
    "colab": {
     "base_uri": "https://localhost:8080/"
    },
    "id": "ClKVthUPRzuG",
    "outputId": "8ad44283-a4b5-4f2c-ed9d-8316215aa97b"
   },
   "outputs": [
    {
     "data": {
      "text/plain": [
       "585"
      ]
     },
     "execution_count": 14,
     "metadata": {},
     "output_type": "execute_result"
    }
   ],
   "source": [
    "df_classification.isnull().any(axis=1).sum()"
   ]
  },
  {
   "cell_type": "code",
   "execution_count": 15,
   "metadata": {
    "colab": {
     "base_uri": "https://localhost:8080/"
    },
    "id": "K1-g5teeRzuH",
    "outputId": "281bd093-0d5c-4715-bac2-8992fc584466"
   },
   "outputs": [
    {
     "data": {
      "text/plain": [
       "14.202476329206117"
      ]
     },
     "execution_count": 15,
     "metadata": {},
     "output_type": "execute_result"
    }
   ],
   "source": [
    "(df_classification.isnull().any(axis=1).sum() / len(df_classification))*100"
   ]
  },
  {
   "cell_type": "markdown",
   "metadata": {
    "id": "mhcaCwrIRzuI"
   },
   "source": [
    "### Answer 4\n",
    "\n",
    "Columns with missing values"
   ]
  },
  {
   "cell_type": "code",
   "execution_count": 16,
   "metadata": {
    "colab": {
     "base_uri": "https://localhost:8080/"
    },
    "id": "ASdG869QRzuJ",
    "outputId": "50efed17-abb6-4a21-bd9b-febca76aabca"
   },
   "outputs": [
    {
     "data": {
      "text/plain": [
       "4"
      ]
     },
     "execution_count": 16,
     "metadata": {},
     "output_type": "execute_result"
    }
   ],
   "source": [
    "columns_missing_count = df_classification.isna().sum()\n",
    "columns_with_missing_values = columns_missing_count[columns_missing_count > 0 ]\n",
    "columns_with_missing_values.size"
   ]
  },
  {
   "cell_type": "markdown",
   "metadata": {
    "id": "7SPDyeKDRzuK"
   },
   "source": [
    "## Answer 5 \n",
    "Median of column `duration`"
   ]
  },
  {
   "cell_type": "code",
   "execution_count": 17,
   "metadata": {
    "colab": {
     "base_uri": "https://localhost:8080/"
    },
    "id": "KXK8x6TSRzuL",
    "outputId": "cf1b87f1-f511-42b5-900e-3573a58436f0"
   },
   "outputs": [
    {
     "data": {
      "text/plain": [
       "182.0"
      ]
     },
     "execution_count": 17,
     "metadata": {},
     "output_type": "execute_result"
    }
   ],
   "source": [
    "df_classification['duration'].median()"
   ]
  },
  {
   "cell_type": "markdown",
   "metadata": {
    "id": "WO37fl71Rzue"
   },
   "source": [
    "### HOMEWORK_2\n",
    "### Ans1"
   ]
  },
  {
   "cell_type": "markdown",
   "metadata": {
    "id": "ETByOAGfRzue"
   },
   "source": [
    "#### Imputing Missing value in the column 'marital' with the most frequent value in this column"
   ]
  },
  {
   "cell_type": "code",
   "execution_count": 19,
   "metadata": {
    "colab": {
     "base_uri": "https://localhost:8080/"
    },
    "id": "n93iySDKRzue",
    "outputId": "d0dee29d-bcd3-4ebf-d768-948bc6092d20"
   },
   "outputs": [
    {
     "data": {
      "text/plain": [
       "married     2456\n",
       "single      1099\n",
       "divorced     424\n",
       "unknown       12\n",
       "Name: marital, dtype: int64"
      ]
     },
     "execution_count": 19,
     "metadata": {},
     "output_type": "execute_result"
    }
   ],
   "source": [
    "df_classification['marital'].value_counts()"
   ]
  },
  {
   "cell_type": "code",
   "execution_count": 20,
   "metadata": {
    "id": "5PMrIdUyRzue"
   },
   "outputs": [],
   "source": [
    "df_classification['marital'].fillna('married', inplace = True)\n"
   ]
  },
  {
   "cell_type": "code",
   "execution_count": 21,
   "metadata": {
    "colab": {
     "base_uri": "https://localhost:8080/"
    },
    "id": "PFlM9Sn5Rzue",
    "outputId": "730fae12-56e3-4f34-a6b9-984a5e105318"
   },
   "outputs": [
    {
     "data": {
      "text/plain": [
       "married     2584\n",
       "single      1099\n",
       "divorced     424\n",
       "unknown       12\n",
       "Name: marital, dtype: int64"
      ]
     },
     "execution_count": 21,
     "metadata": {},
     "output_type": "execute_result"
    }
   ],
   "source": [
    "df_classification['marital'].value_counts()"
   ]
  },
  {
   "cell_type": "markdown",
   "metadata": {
    "id": "fIyNUqzBRzuf"
   },
   "source": [
    "### Ans 2"
   ]
  },
  {
   "cell_type": "markdown",
   "metadata": {
    "id": "x-ZLZ2HVRzuf"
   },
   "source": [
    "### Plot the histogram of column 'duration'"
   ]
  },
  {
   "cell_type": "code",
   "execution_count": 22,
   "metadata": {
    "colab": {
     "base_uri": "https://localhost:8080/",
     "height": 0
    },
    "id": "Vzc1XiWmRzuf",
    "outputId": "9c768c0c-a3bd-4125-94c1-a72ba988d5d5"
   },
   "outputs": [
    {
     "data": {
      "text/plain": [
       "<AxesSubplot:>"
      ]
     },
     "execution_count": 22,
     "metadata": {},
     "output_type": "execute_result"
    },
    {
     "data": {
      "image/png": "[encoded data removed]",
      "text/plain": [
       "<Figure size 432x288 with 1 Axes>"
      ]
     },
     "metadata": {
      "needs_background": "light"
     },
     "output_type": "display_data"
    }
   ],
   "source": [
    "df_classification['duration'].hist()\n"
   ]
  },
  {
   "cell_type": "markdown",
   "metadata": {
    "id": "GU1lKaO0Rzuf"
   },
   "source": [
    "### Ans 3"
   ]
  },
  {
   "cell_type": "markdown",
   "metadata": {
    "id": "Y8WehEYcRzug"
   },
   "source": [
    "### Replace the missing values in the column 'duration' with the median of all available values in this column"
   ]
  },
  {
   "cell_type": "code",
   "execution_count": 23,
   "metadata": {
    "colab": {
     "base_uri": "https://localhost:8080/"
    },
    "id": "eY0pWKGhRzug",
    "outputId": "bf66d093-4945-4605-a1e8-e7eaf526719e"
   },
   "outputs": [
    {
     "data": {
      "text/plain": [
       "182.0"
      ]
     },
     "execution_count": 23,
     "metadata": {},
     "output_type": "execute_result"
    }
   ],
   "source": [
    "df_classification['duration'].median()"
   ]
  },
  {
   "cell_type": "code",
   "execution_count": 24,
   "metadata": {
    "id": "-B5WfsqqRzug"
   },
   "outputs": [],
   "source": [
    "df_classification['duration'].fillna(df_classification['duration'].median(), inplace = True)\n"
   ]
  },
  {
   "cell_type": "code",
   "execution_count": 25,
   "metadata": {
    "colab": {
     "base_uri": "https://localhost:8080/"
    },
    "id": "oB-mjttQRzug",
    "outputId": "b6289410-e835-43d5-a428-51fc65f2dd59"
   },
   "outputs": [
    {
     "data": {
      "text/plain": [
       "numpy.float64"
      ]
     },
     "execution_count": 25,
     "metadata": {},
     "output_type": "execute_result"
    }
   ],
   "source": [
    "type(df_classification['duration'][0])"
   ]
  },
  {
   "cell_type": "code",
   "execution_count": 26,
   "metadata": {
    "colab": {
     "base_uri": "https://localhost:8080/"
    },
    "id": "LpEZtHsmRzuh",
    "outputId": "ecd24990-77ab-40a0-b705-f374aebcf2fe"
   },
   "outputs": [
    {
     "data": {
      "text/plain": [
       "259.2425345957757"
      ]
     },
     "execution_count": 26,
     "metadata": {},
     "output_type": "execute_result"
    }
   ],
   "source": [
    "df_classification['duration'].mean()"
   ]
  },
  {
   "cell_type": "markdown",
   "metadata": {
    "id": "EovKuNitRzuh"
   },
   "source": [
    "### Ans 4"
   ]
  },
  {
   "cell_type": "markdown",
   "metadata": {
    "id": "OQCl7nnGRzuh"
   },
   "source": [
    "Study the column 'pdays'. You can see that the customer is not contacted previously,\n",
    "represented as 999 in this dataset, or the number of days that passed by after the client was last contacted. \n",
    "We want to replace this column with a binary column with' not-contacted' and 'contacted' values. \n",
    "What is the frequency of 'contacted' after the data transformation?"
   ]
  },
  {
   "cell_type": "code",
   "execution_count": 27,
   "metadata": {
    "colab": {
     "base_uri": "https://localhost:8080/"
    },
    "id": "Cf53c0g7Rzuh",
    "outputId": "c90450e4-7b9f-4541-9057-f30ba8aa79af"
   },
   "outputs": [
    {
     "data": {
      "text/plain": [
       "999.0    3802\n",
       "3.0        47\n",
       "6.0        45\n",
       "4.0        13\n",
       "7.0         7\n",
       "2.0         7\n",
       "12.0        6\n",
       "13.0        4\n",
       "9.0         4\n",
       "16.0        3\n",
       "8.0         3\n",
       "10.0        3\n",
       "14.0        3\n",
       "1.0         3\n",
       "5.0         2\n",
       "0.0         2\n",
       "11.0        1\n",
       "15.0        1\n",
       "22.0        1\n",
       "18.0        1\n",
       "Name: pdays, dtype: int64"
      ]
     },
     "execution_count": 27,
     "metadata": {},
     "output_type": "execute_result"
    }
   ],
   "source": [
    "df_classification['pdays'].value_counts()"
   ]
  },
  {
   "cell_type": "code",
   "execution_count": 28,
   "metadata": {
    "colab": {
     "base_uri": "https://localhost:8080/"
    },
    "id": "b8beC7ukRzuh",
    "outputId": "42650e5a-724f-46d7-a3b3-a313140e38ce"
   },
   "outputs": [
    {
     "data": {
      "text/plain": [
       "161"
      ]
     },
     "execution_count": 28,
     "metadata": {},
     "output_type": "execute_result"
    }
   ],
   "source": [
    "df_classification['pdays'].isna().sum()"
   ]
  },
  {
   "cell_type": "code",
   "execution_count": 29,
   "metadata": {
    "id": "wlDU8pnbRzui"
   },
   "outputs": [],
   "source": [
    "df_classification.loc[df_classification['pdays'] < 999, 'pdays'] = 'contacted'\n",
    "df_classification.loc[df_classification['pdays'] == 999, 'pdays'] = 'not-contacted'"
   ]
  },
  {
   "cell_type": "code",
   "execution_count": 30,
   "metadata": {
    "colab": {
     "base_uri": "https://localhost:8080/"
    },
    "id": "54EQ3RPlRzui",
    "outputId": "b2231a8a-4df0-4f6c-c7d4-5f1408bdd3da"
   },
   "outputs": [
    {
     "data": {
      "text/plain": [
       "not-contacted    3802\n",
       "contacted         156\n",
       "Name: pdays, dtype: int64"
      ]
     },
     "execution_count": 30,
     "metadata": {},
     "output_type": "execute_result"
    }
   ],
   "source": [
    "df_classification['pdays'].value_counts()"
   ]
  },
  {
   "cell_type": "markdown",
   "metadata": {
    "id": "cF6WPT4hRzui"
   },
   "source": [
    "### Ans 5"
   ]
  },
  {
   "cell_type": "markdown",
   "metadata": {
    "id": "53-r9TmXRzui"
   },
   "source": [
    "(Part a)In the column 'pdays' after the transformation, replace the missing values with the value of the most frequent class in this column.\n",
    "What is the frequency of the most frequent class after the data imputation?"
   ]
  },
  {
   "cell_type": "code",
   "execution_count": 31,
   "metadata": {
    "colab": {
     "base_uri": "https://localhost:8080/"
    },
    "id": "rywEZI6QRzuj",
    "outputId": "6b3d6292-ba28-4ad7-985b-9337359d5d3a"
   },
   "outputs": [
    {
     "data": {
      "text/plain": [
       "161"
      ]
     },
     "execution_count": 31,
     "metadata": {},
     "output_type": "execute_result"
    }
   ],
   "source": [
    "df_classification['pdays'].isna().sum()"
   ]
  },
  {
   "cell_type": "code",
   "execution_count": 32,
   "metadata": {
    "id": "PL7thOWWRzuj"
   },
   "outputs": [],
   "source": [
    "df_classification['pdays'].fillna('not-contacted', inplace = True)\n"
   ]
  },
  {
   "cell_type": "code",
   "execution_count": 33,
   "metadata": {
    "colab": {
     "base_uri": "https://localhost:8080/"
    },
    "id": "5xa9O6AHRzuj",
    "outputId": "8d3ca90d-3d41-494f-8347-1a8c64e274f2"
   },
   "outputs": [
    {
     "data": {
      "text/plain": [
       "not-contacted    3963\n",
       "contacted         156\n",
       "Name: pdays, dtype: int64"
      ]
     },
     "execution_count": 33,
     "metadata": {},
     "output_type": "execute_result"
    }
   ],
   "source": [
    "df_classification['pdays'].value_counts()"
   ]
  },
  {
   "cell_type": "markdown",
   "metadata": {
    "id": "SP1vgEHhRzuj"
   },
   "source": [
    "### Ans 6"
   ]
  },
  {
   "cell_type": "markdown",
   "metadata": {
    "id": "c_JcH94ORzuk"
   },
   "source": [
    "### Replace the missing values in the column 'age' with the mean of all the available values. \n",
    "What is the mean of this column after the data imputation? Enter the answer with four digits after the decimal point."
   ]
  },
  {
   "cell_type": "code",
   "execution_count": 34,
   "metadata": {
    "colab": {
     "base_uri": "https://localhost:8080/"
    },
    "id": "5HR_oD0dRzuk",
    "outputId": "a0081abd-0fe3-44c0-86a8-9346cf3b775d"
   },
   "outputs": [
    {
     "data": {
      "text/plain": [
       "40.14984631147541"
      ]
     },
     "execution_count": 34,
     "metadata": {},
     "output_type": "execute_result"
    }
   ],
   "source": [
    "df_classification['age'].mean()"
   ]
  },
  {
   "cell_type": "code",
   "execution_count": 35,
   "metadata": {
    "id": "UWnF8tyMRzul"
   },
   "outputs": [],
   "source": [
    "df_classification['age'].fillna(df_classification['age'].mean() , inplace = True)"
   ]
  },
  {
   "cell_type": "code",
   "execution_count": 36,
   "metadata": {
    "colab": {
     "base_uri": "https://localhost:8080/"
    },
    "id": "bV_4i7nrRzul",
    "outputId": "3343c244-9676-4088-8b75-63e8d38820cb"
   },
   "outputs": [
    {
     "data": {
      "text/plain": [
       "40.14984631147537"
      ]
     },
     "execution_count": 36,
     "metadata": {},
     "output_type": "execute_result"
    }
   ],
   "source": [
    "df_classification['age'].mean()"
   ]
  },
  {
   "cell_type": "markdown",
   "metadata": {
    "id": "-mcKMyiORzul"
   },
   "source": [
    "### Ans 7"
   ]
  },
  {
   "cell_type": "markdown",
   "metadata": {
    "id": "uxvWLZXZRzul"
   },
   "source": [
    "(Part a)What should be an appropriate data transformations strategy for the column 'job'?\n",
    "(Apply the transformation on the data frame)"
   ]
  },
  {
   "cell_type": "code",
   "execution_count": 37,
   "metadata": {
    "colab": {
     "base_uri": "https://localhost:8080/",
     "height": 0
    },
    "id": "Lky1SoumRzum",
    "outputId": "270260bf-5e0a-45ed-c896-94d3dcc6b443"
   },
   "outputs": [
    {
     "data": {
      "text/html": [
       "<div>\n",
       "<style scoped>\n",
       "    .dataframe tbody tr th:only-of-type {\n",
       "        vertical-align: middle;\n",
       "    }\n",
       "\n",
       "    .dataframe tbody tr th {\n",
       "        vertical-align: top;\n",
       "    }\n",
       "\n",
       "    .dataframe thead th {\n",
       "        text-align: right;\n",
       "    }\n",
       "</style>\n",
       "<table border=\"1\" class=\"dataframe\">\n",
       "  <thead>\n",
       "    <tr style=\"text-align: right;\">\n",
       "      <th></th>\n",
       "      <th>age</th>\n",
       "      <th>job</th>\n",
       "      <th>marital</th>\n",
       "      <th>education</th>\n",
       "      <th>default</th>\n",
       "      <th>housing</th>\n",
       "      <th>loan</th>\n",
       "      <th>contact</th>\n",
       "      <th>duration</th>\n",
       "      <th>campaign</th>\n",
       "      <th>pdays</th>\n",
       "      <th>previous</th>\n",
       "      <th>poutcome</th>\n",
       "      <th>y</th>\n",
       "    </tr>\n",
       "  </thead>\n",
       "  <tbody>\n",
       "    <tr>\n",
       "      <th>0</th>\n",
       "      <td>40.149846</td>\n",
       "      <td>blue-collar</td>\n",
       "      <td>married</td>\n",
       "      <td>basic.4y</td>\n",
       "      <td>unknown</td>\n",
       "      <td>no</td>\n",
       "      <td>yes</td>\n",
       "      <td>cellular</td>\n",
       "      <td>105.0</td>\n",
       "      <td>1</td>\n",
       "      <td>not-contacted</td>\n",
       "      <td>0</td>\n",
       "      <td>nonexistent</td>\n",
       "      <td>no</td>\n",
       "    </tr>\n",
       "    <tr>\n",
       "      <th>1</th>\n",
       "      <td>36.000000</td>\n",
       "      <td>blue-collar</td>\n",
       "      <td>married</td>\n",
       "      <td>basic.6y</td>\n",
       "      <td>no</td>\n",
       "      <td>yes</td>\n",
       "      <td>no</td>\n",
       "      <td>cellular</td>\n",
       "      <td>125.0</td>\n",
       "      <td>5</td>\n",
       "      <td>not-contacted</td>\n",
       "      <td>0</td>\n",
       "      <td>nonexistent</td>\n",
       "      <td>no</td>\n",
       "    </tr>\n",
       "    <tr>\n",
       "      <th>2</th>\n",
       "      <td>40.149846</td>\n",
       "      <td>admin.</td>\n",
       "      <td>single</td>\n",
       "      <td>high.school</td>\n",
       "      <td>no</td>\n",
       "      <td>no</td>\n",
       "      <td>yes</td>\n",
       "      <td>telephone</td>\n",
       "      <td>111.0</td>\n",
       "      <td>1</td>\n",
       "      <td>not-contacted</td>\n",
       "      <td>0</td>\n",
       "      <td>nonexistent</td>\n",
       "      <td>no</td>\n",
       "    </tr>\n",
       "    <tr>\n",
       "      <th>3</th>\n",
       "      <td>39.000000</td>\n",
       "      <td>blue-collar</td>\n",
       "      <td>married</td>\n",
       "      <td>basic.6y</td>\n",
       "      <td>unknown</td>\n",
       "      <td>no</td>\n",
       "      <td>no</td>\n",
       "      <td>cellular</td>\n",
       "      <td>173.0</td>\n",
       "      <td>2</td>\n",
       "      <td>not-contacted</td>\n",
       "      <td>0</td>\n",
       "      <td>nonexistent</td>\n",
       "      <td>no</td>\n",
       "    </tr>\n",
       "    <tr>\n",
       "      <th>4</th>\n",
       "      <td>41.000000</td>\n",
       "      <td>housemaid</td>\n",
       "      <td>married</td>\n",
       "      <td>basic.4y</td>\n",
       "      <td>unknown</td>\n",
       "      <td>no</td>\n",
       "      <td>no</td>\n",
       "      <td>cellular</td>\n",
       "      <td>107.0</td>\n",
       "      <td>1</td>\n",
       "      <td>not-contacted</td>\n",
       "      <td>0</td>\n",
       "      <td>nonexistent</td>\n",
       "      <td>no</td>\n",
       "    </tr>\n",
       "  </tbody>\n",
       "</table>\n",
       "</div>"
      ],
      "text/plain": [
       "         age          job  marital    education  default housing loan  \\\n",
       "0  40.149846  blue-collar  married     basic.4y  unknown      no  yes   \n",
       "1  36.000000  blue-collar  married     basic.6y       no     yes   no   \n",
       "2  40.149846       admin.   single  high.school       no      no  yes   \n",
       "3  39.000000  blue-collar  married     basic.6y  unknown      no   no   \n",
       "4  41.000000    housemaid  married     basic.4y  unknown      no   no   \n",
       "\n",
       "     contact  duration  campaign          pdays  previous     poutcome   y  \n",
       "0   cellular     105.0         1  not-contacted         0  nonexistent  no  \n",
       "1   cellular     125.0         5  not-contacted         0  nonexistent  no  \n",
       "2  telephone     111.0         1  not-contacted         0  nonexistent  no  \n",
       "3   cellular     173.0         2  not-contacted         0  nonexistent  no  \n",
       "4   cellular     107.0         1  not-contacted         0  nonexistent  no  "
      ]
     },
     "execution_count": 37,
     "metadata": {},
     "output_type": "execute_result"
    }
   ],
   "source": [
    "df_classification.head()"
   ]
  },
  {
   "cell_type": "code",
   "execution_count": 38,
   "metadata": {
    "colab": {
     "base_uri": "https://localhost:8080/"
    },
    "id": "587-Fc9lRzum",
    "outputId": "c654bc33-9c3a-4896-f4de-df41bebeadf5"
   },
   "outputs": [
    {
     "data": {
      "text/plain": [
       "admin.           1098\n",
       "blue-collar       900\n",
       "technician        672\n",
       "services          375\n",
       "management        278\n",
       "retired           178\n",
       "entrepreneur      147\n",
       "self-employed     120\n",
       "unemployed        116\n",
       "housemaid         111\n",
       "student            89\n",
       "unknown            35\n",
       "Name: job, dtype: int64"
      ]
     },
     "execution_count": 38,
     "metadata": {},
     "output_type": "execute_result"
    }
   ],
   "source": [
    "df_classification['job'].value_counts()"
   ]
  },
  {
   "cell_type": "code",
   "execution_count": 39,
   "metadata": {
    "id": "vL-crFgfRzum"
   },
   "outputs": [],
   "source": [
    "cols_job = pd.get_dummies(df_classification['job'], prefix= 'job')\n",
    "df_classification[cols_job.columns] = cols_job\n",
    "df_classification.drop('job', axis = 1, inplace = True)"
   ]
  },
  {
   "cell_type": "markdown",
   "metadata": {
    "id": "jbpZUYRMRzum"
   },
   "source": [
    "### Ans 8"
   ]
  },
  {
   "cell_type": "markdown",
   "metadata": {
    "id": "XaDft1DSRzun"
   },
   "source": [
    "What should be an appropriate data transformations strategy for the column 'marital'? \n",
    "(Apply the transformation on the data frame)"
   ]
  },
  {
   "cell_type": "code",
   "execution_count": 40,
   "metadata": {
    "colab": {
     "base_uri": "https://localhost:8080/"
    },
    "id": "-uHhT739Rzun",
    "outputId": "c01f252c-9ea7-4c76-995b-8ec558c228ee"
   },
   "outputs": [
    {
     "data": {
      "text/plain": [
       "married     2584\n",
       "single      1099\n",
       "divorced     424\n",
       "unknown       12\n",
       "Name: marital, dtype: int64"
      ]
     },
     "execution_count": 40,
     "metadata": {},
     "output_type": "execute_result"
    }
   ],
   "source": [
    "df_classification['marital'].value_counts()"
   ]
  },
  {
   "cell_type": "code",
   "execution_count": 41,
   "metadata": {
    "id": "LTIaDBKiRzun"
   },
   "outputs": [],
   "source": [
    "cols_marital = pd.get_dummies(df_classification['marital'], prefix= 'marital')\n",
    "df_classification[cols_marital.columns] = cols_marital\n",
    "df_classification.drop('marital', axis = 1, inplace = True)"
   ]
  },
  {
   "cell_type": "markdown",
   "metadata": {
    "id": "bKYkHuTjRzup"
   },
   "source": [
    "### Ans 9"
   ]
  },
  {
   "cell_type": "markdown",
   "metadata": {
    "id": "c_FfwMSwRzup"
   },
   "source": [
    "In the column 'education', one of the values is 'unknown. \n",
    "This value can be considered as a sentinel value.\n",
    "We want to replace it with the value of the most frequent class in this column. \n",
    "What is the frequency of the most frequent class after the data imputation?\n"
   ]
  },
  {
   "cell_type": "code",
   "execution_count": 42,
   "metadata": {
    "colab": {
     "base_uri": "https://localhost:8080/"
    },
    "id": "w_GH_bxZRzup",
    "outputId": "f85820e2-83f1-4fac-b2af-f87a76bd1031"
   },
   "outputs": [
    {
     "data": {
      "text/plain": [
       "university.degree      1231\n",
       "high.school             942\n",
       "basic.9y                612\n",
       "professional.course     530\n",
       "basic.4y                418\n",
       "basic.6y                223\n",
       "unknown                 160\n",
       "illiterate                3\n",
       "Name: education, dtype: int64"
      ]
     },
     "execution_count": 42,
     "metadata": {},
     "output_type": "execute_result"
    }
   ],
   "source": [
    "df_classification['education'].value_counts()"
   ]
  },
  {
   "cell_type": "code",
   "execution_count": 43,
   "metadata": {
    "id": "Y16yL20KRzuq"
   },
   "outputs": [],
   "source": [
    "df_classification['education'] = df_classification['education'].replace(to_replace =\"unknown\",\n",
    "                 value =\"university.degree\")"
   ]
  },
  {
   "cell_type": "code",
   "execution_count": 44,
   "metadata": {
    "colab": {
     "base_uri": "https://localhost:8080/"
    },
    "id": "5TbynLybFa-Q",
    "outputId": "aaa851d2-5f90-4dd4-aa9b-19013a25b1a8"
   },
   "outputs": [
    {
     "data": {
      "text/plain": [
       "university.degree      1391\n",
       "high.school             942\n",
       "basic.9y                612\n",
       "professional.course     530\n",
       "basic.4y                418\n",
       "basic.6y                223\n",
       "illiterate                3\n",
       "Name: education, dtype: int64"
      ]
     },
     "execution_count": 44,
     "metadata": {},
     "output_type": "execute_result"
    }
   ],
   "source": [
    "df_classification['education'].value_counts()"
   ]
  },
  {
   "cell_type": "markdown",
   "metadata": {
    "id": "R1kN3Xc6Rzuq"
   },
   "source": [
    "### Ans 10"
   ]
  },
  {
   "cell_type": "markdown",
   "metadata": {
    "id": "eMxpT6brRzuq"
   },
   "source": [
    "Appropriate data transformations strategy for the column 'education' "
   ]
  },
  {
   "cell_type": "code",
   "execution_count": 45,
   "metadata": {
    "id": "yesPab7-Rzuq"
   },
   "outputs": [],
   "source": [
    "df_classification['education'] = df_classification['education'].map(\n",
    "    {'illiterate':0, 'basic.4y': 1, 'basic.6y': 2, 'basic.9y': 3, 'high.school': 4,\n",
    "     'professional.course':5, 'university.degree':6})"
   ]
  },
  {
   "cell_type": "code",
   "execution_count": 46,
   "metadata": {
    "colab": {
     "base_uri": "https://localhost:8080/",
     "height": 0
    },
    "id": "QG5Jin4XRzur",
    "outputId": "44693305-acfe-419c-ac7b-f48eb94a6235"
   },
   "outputs": [
    {
     "data": {
      "text/html": [
       "<div>\n",
       "<style scoped>\n",
       "    .dataframe tbody tr th:only-of-type {\n",
       "        vertical-align: middle;\n",
       "    }\n",
       "\n",
       "    .dataframe tbody tr th {\n",
       "        vertical-align: top;\n",
       "    }\n",
       "\n",
       "    .dataframe thead th {\n",
       "        text-align: right;\n",
       "    }\n",
       "</style>\n",
       "<table border=\"1\" class=\"dataframe\">\n",
       "  <thead>\n",
       "    <tr style=\"text-align: right;\">\n",
       "      <th></th>\n",
       "      <th>age</th>\n",
       "      <th>education</th>\n",
       "      <th>default</th>\n",
       "      <th>housing</th>\n",
       "      <th>loan</th>\n",
       "      <th>contact</th>\n",
       "      <th>duration</th>\n",
       "      <th>campaign</th>\n",
       "      <th>pdays</th>\n",
       "      <th>previous</th>\n",
       "      <th>...</th>\n",
       "      <th>job_self-employed</th>\n",
       "      <th>job_services</th>\n",
       "      <th>job_student</th>\n",
       "      <th>job_technician</th>\n",
       "      <th>job_unemployed</th>\n",
       "      <th>job_unknown</th>\n",
       "      <th>marital_divorced</th>\n",
       "      <th>marital_married</th>\n",
       "      <th>marital_single</th>\n",
       "      <th>marital_unknown</th>\n",
       "    </tr>\n",
       "  </thead>\n",
       "  <tbody>\n",
       "    <tr>\n",
       "      <th>0</th>\n",
       "      <td>40.149846</td>\n",
       "      <td>1</td>\n",
       "      <td>unknown</td>\n",
       "      <td>no</td>\n",
       "      <td>yes</td>\n",
       "      <td>cellular</td>\n",
       "      <td>105.0</td>\n",
       "      <td>1</td>\n",
       "      <td>not-contacted</td>\n",
       "      <td>0</td>\n",
       "      <td>...</td>\n",
       "      <td>0</td>\n",
       "      <td>0</td>\n",
       "      <td>0</td>\n",
       "      <td>0</td>\n",
       "      <td>0</td>\n",
       "      <td>0</td>\n",
       "      <td>0</td>\n",
       "      <td>1</td>\n",
       "      <td>0</td>\n",
       "      <td>0</td>\n",
       "    </tr>\n",
       "    <tr>\n",
       "      <th>1</th>\n",
       "      <td>36.000000</td>\n",
       "      <td>2</td>\n",
       "      <td>no</td>\n",
       "      <td>yes</td>\n",
       "      <td>no</td>\n",
       "      <td>cellular</td>\n",
       "      <td>125.0</td>\n",
       "      <td>5</td>\n",
       "      <td>not-contacted</td>\n",
       "      <td>0</td>\n",
       "      <td>...</td>\n",
       "      <td>0</td>\n",
       "      <td>0</td>\n",
       "      <td>0</td>\n",
       "      <td>0</td>\n",
       "      <td>0</td>\n",
       "      <td>0</td>\n",
       "      <td>0</td>\n",
       "      <td>1</td>\n",
       "      <td>0</td>\n",
       "      <td>0</td>\n",
       "    </tr>\n",
       "    <tr>\n",
       "      <th>2</th>\n",
       "      <td>40.149846</td>\n",
       "      <td>4</td>\n",
       "      <td>no</td>\n",
       "      <td>no</td>\n",
       "      <td>yes</td>\n",
       "      <td>telephone</td>\n",
       "      <td>111.0</td>\n",
       "      <td>1</td>\n",
       "      <td>not-contacted</td>\n",
       "      <td>0</td>\n",
       "      <td>...</td>\n",
       "      <td>0</td>\n",
       "      <td>0</td>\n",
       "      <td>0</td>\n",
       "      <td>0</td>\n",
       "      <td>0</td>\n",
       "      <td>0</td>\n",
       "      <td>0</td>\n",
       "      <td>0</td>\n",
       "      <td>1</td>\n",
       "      <td>0</td>\n",
       "    </tr>\n",
       "    <tr>\n",
       "      <th>3</th>\n",
       "      <td>39.000000</td>\n",
       "      <td>2</td>\n",
       "      <td>unknown</td>\n",
       "      <td>no</td>\n",
       "      <td>no</td>\n",
       "      <td>cellular</td>\n",
       "      <td>173.0</td>\n",
       "      <td>2</td>\n",
       "      <td>not-contacted</td>\n",
       "      <td>0</td>\n",
       "      <td>...</td>\n",
       "      <td>0</td>\n",
       "      <td>0</td>\n",
       "      <td>0</td>\n",
       "      <td>0</td>\n",
       "      <td>0</td>\n",
       "      <td>0</td>\n",
       "      <td>0</td>\n",
       "      <td>1</td>\n",
       "      <td>0</td>\n",
       "      <td>0</td>\n",
       "    </tr>\n",
       "    <tr>\n",
       "      <th>4</th>\n",
       "      <td>41.000000</td>\n",
       "      <td>1</td>\n",
       "      <td>unknown</td>\n",
       "      <td>no</td>\n",
       "      <td>no</td>\n",
       "      <td>cellular</td>\n",
       "      <td>107.0</td>\n",
       "      <td>1</td>\n",
       "      <td>not-contacted</td>\n",
       "      <td>0</td>\n",
       "      <td>...</td>\n",
       "      <td>0</td>\n",
       "      <td>0</td>\n",
       "      <td>0</td>\n",
       "      <td>0</td>\n",
       "      <td>0</td>\n",
       "      <td>0</td>\n",
       "      <td>0</td>\n",
       "      <td>1</td>\n",
       "      <td>0</td>\n",
       "      <td>0</td>\n",
       "    </tr>\n",
       "  </tbody>\n",
       "</table>\n",
       "<p>5 rows × 28 columns</p>\n",
       "</div>"
      ],
      "text/plain": [
       "         age  education  default housing loan    contact  duration  campaign  \\\n",
       "0  40.149846          1  unknown      no  yes   cellular     105.0         1   \n",
       "1  36.000000          2       no     yes   no   cellular     125.0         5   \n",
       "2  40.149846          4       no      no  yes  telephone     111.0         1   \n",
       "3  39.000000          2  unknown      no   no   cellular     173.0         2   \n",
       "4  41.000000          1  unknown      no   no   cellular     107.0         1   \n",
       "\n",
       "           pdays  previous  ... job_self-employed job_services  job_student  \\\n",
       "0  not-contacted         0  ...                 0            0            0   \n",
       "1  not-contacted         0  ...                 0            0            0   \n",
       "2  not-contacted         0  ...                 0            0            0   \n",
       "3  not-contacted         0  ...                 0            0            0   \n",
       "4  not-contacted         0  ...                 0            0            0   \n",
       "\n",
       "   job_technician  job_unemployed  job_unknown  marital_divorced  \\\n",
       "0               0               0            0                 0   \n",
       "1               0               0            0                 0   \n",
       "2               0               0            0                 0   \n",
       "3               0               0            0                 0   \n",
       "4               0               0            0                 0   \n",
       "\n",
       "   marital_married  marital_single  marital_unknown  \n",
       "0                1               0                0  \n",
       "1                1               0                0  \n",
       "2                0               1                0  \n",
       "3                1               0                0  \n",
       "4                1               0                0  \n",
       "\n",
       "[5 rows x 28 columns]"
      ]
     },
     "execution_count": 46,
     "metadata": {},
     "output_type": "execute_result"
    }
   ],
   "source": [
    "df_classification.head()"
   ]
  },
  {
   "cell_type": "markdown",
   "metadata": {
    "id": "i94eypOcRzur"
   },
   "source": [
    "### Ans 11"
   ]
  },
  {
   "cell_type": "markdown",
   "metadata": {
    "id": "roR-IwWFRzur"
   },
   "source": [
    "What should be an appropriate data transformations strategy for the column 'default'"
   ]
  },
  {
   "cell_type": "code",
   "execution_count": 47,
   "metadata": {
    "colab": {
     "base_uri": "https://localhost:8080/"
    },
    "id": "J2NECpsPRzur",
    "outputId": "9717dfd1-1cfc-4e61-94d4-7d02d5385db9"
   },
   "outputs": [
    {
     "data": {
      "text/plain": [
       "no         3281\n",
       "unknown     838\n",
       "Name: default, dtype: int64"
      ]
     },
     "execution_count": 47,
     "metadata": {},
     "output_type": "execute_result"
    }
   ],
   "source": [
    "df_classification['default'].value_counts()"
   ]
  },
  {
   "cell_type": "code",
   "execution_count": 48,
   "metadata": {
    "id": "8zJdbgoBRzus"
   },
   "outputs": [],
   "source": [
    "df_classification['default'] = df_classification['default'].map({'no':1, 'unknown':0}).astype(int)\n"
   ]
  },
  {
   "cell_type": "markdown",
   "metadata": {
    "id": "Luotha6iRzus"
   },
   "source": [
    "### Ans 12"
   ]
  },
  {
   "cell_type": "markdown",
   "metadata": {
    "id": "h3nLJApcRzus"
   },
   "source": [
    "In the column 'housing', one of the values is 'unknown.\n",
    "This value can be considered as a sentinel value.\n",
    "We want to replace it with the value of the most frequent class in this column.\n",
    "What is the frequency of the most frequent class after the data imputation?"
   ]
  },
  {
   "cell_type": "code",
   "execution_count": 49,
   "metadata": {
    "colab": {
     "base_uri": "https://localhost:8080/"
    },
    "id": "6WxEg2q6Rzus",
    "outputId": "e34246db-02bc-4f98-eee5-57e983184180"
   },
   "outputs": [
    {
     "data": {
      "text/plain": [
       "yes        2140\n",
       "no         1870\n",
       "unknown     109\n",
       "Name: housing, dtype: int64"
      ]
     },
     "execution_count": 49,
     "metadata": {},
     "output_type": "execute_result"
    }
   ],
   "source": [
    "df_classification['housing'].value_counts()"
   ]
  },
  {
   "cell_type": "code",
   "execution_count": 50,
   "metadata": {
    "id": "r7wV79rtRzut"
   },
   "outputs": [],
   "source": [
    "df_classification['housing'].replace(\"unknown\", \"yes\", inplace = True)"
   ]
  },
  {
   "cell_type": "code",
   "execution_count": 51,
   "metadata": {
    "colab": {
     "base_uri": "https://localhost:8080/"
    },
    "id": "d3fTlkvzRzut",
    "outputId": "883e462e-5b4d-484c-9d6a-1a5d7505400f"
   },
   "outputs": [
    {
     "data": {
      "text/plain": [
       "yes    2249\n",
       "no     1870\n",
       "Name: housing, dtype: int64"
      ]
     },
     "execution_count": 51,
     "metadata": {},
     "output_type": "execute_result"
    }
   ],
   "source": [
    "df_classification['housing'].value_counts()"
   ]
  },
  {
   "cell_type": "markdown",
   "metadata": {
    "id": "TkinFcv3Rzut"
   },
   "source": [
    "### Ans 13"
   ]
  },
  {
   "cell_type": "code",
   "execution_count": 52,
   "metadata": {
    "id": "vOzLCjUkRzut"
   },
   "outputs": [],
   "source": [
    "df_classification['housing'] = df_classification['housing'].map({'yes':1, 'no':0}).astype(int)\n"
   ]
  },
  {
   "cell_type": "markdown",
   "metadata": {
    "id": "SBHGWoZ9Rzut"
   },
   "source": [
    "### Ans 14"
   ]
  },
  {
   "cell_type": "markdown",
   "metadata": {
    "id": "npdmpK8KRzuu"
   },
   "source": [
    "In the column 'loan', one of the values is 'unknown'. \n",
    "This value can be considered as a sentinel value. \n",
    "We want to replace it with the value of the most frequent class in this column. \n",
    "What should be an appropriate data transformations strategy for the column 'loan'?"
   ]
  },
  {
   "cell_type": "code",
   "execution_count": 53,
   "metadata": {
    "colab": {
     "base_uri": "https://localhost:8080/"
    },
    "id": "sYZC2erqRzuu",
    "outputId": "6262da35-dbb4-4c6a-a556-68fe6cc1e094"
   },
   "outputs": [
    {
     "data": {
      "text/plain": [
       "no         3384\n",
       "yes         626\n",
       "unknown     109\n",
       "Name: loan, dtype: int64"
      ]
     },
     "execution_count": 53,
     "metadata": {},
     "output_type": "execute_result"
    }
   ],
   "source": [
    "df_classification['loan'].value_counts()"
   ]
  },
  {
   "cell_type": "code",
   "execution_count": 54,
   "metadata": {
    "id": "XAArH0veRzuu"
   },
   "outputs": [],
   "source": [
    "df_classification['loan'].replace(\"unknown\", \"no\", inplace = True)"
   ]
  },
  {
   "cell_type": "code",
   "execution_count": 55,
   "metadata": {
    "colab": {
     "base_uri": "https://localhost:8080/"
    },
    "id": "8ecPpDsIRzuv",
    "outputId": "a32dd4a9-7a08-4ad7-c110-454978c353bb"
   },
   "outputs": [
    {
     "data": {
      "text/plain": [
       "no     3493\n",
       "yes     626\n",
       "Name: loan, dtype: int64"
      ]
     },
     "execution_count": 55,
     "metadata": {},
     "output_type": "execute_result"
    }
   ],
   "source": [
    "df_classification['loan'].value_counts()"
   ]
  },
  {
   "cell_type": "code",
   "execution_count": 56,
   "metadata": {
    "id": "00meaNCARzuv"
   },
   "outputs": [],
   "source": [
    "df_classification['loan'] = df_classification['loan'].map({'no':1, 'yes':0}).astype(int)\n"
   ]
  },
  {
   "cell_type": "markdown",
   "metadata": {
    "id": "eQAFx2rXRzuv"
   },
   "source": [
    "### Ans 15"
   ]
  },
  {
   "cell_type": "markdown",
   "metadata": {
    "id": "64YrBQAlRzuw"
   },
   "source": [
    "What should be an appropriate data transformations strategy for the column 'contact'?"
   ]
  },
  {
   "cell_type": "code",
   "execution_count": 57,
   "metadata": {
    "colab": {
     "base_uri": "https://localhost:8080/"
    },
    "id": "Q6x9XifgRzuw",
    "outputId": "3b9fd3fb-42c5-48b1-ef71-f0aa10bab7a0"
   },
   "outputs": [
    {
     "data": {
      "text/plain": [
       "cellular     2585\n",
       "telephone    1534\n",
       "Name: contact, dtype: int64"
      ]
     },
     "execution_count": 57,
     "metadata": {},
     "output_type": "execute_result"
    }
   ],
   "source": [
    "df_classification['contact'].value_counts()"
   ]
  },
  {
   "cell_type": "code",
   "execution_count": 58,
   "metadata": {
    "id": "vY7-PjtSRzuw"
   },
   "outputs": [],
   "source": [
    "df_classification['contact'] = df_classification['contact'].map({'cellular':1, 'telephone':0}).astype(int)\n"
   ]
  },
  {
   "cell_type": "markdown",
   "metadata": {
    "id": "-zhJhoskRzux"
   },
   "source": [
    "### Ans 16"
   ]
  },
  {
   "cell_type": "markdown",
   "metadata": {
    "id": "awAmWn_6Rzux"
   },
   "source": [
    "What should be an appropriate data transformations strategy for the column 'pdays'? "
   ]
  },
  {
   "cell_type": "code",
   "execution_count": 59,
   "metadata": {
    "colab": {
     "base_uri": "https://localhost:8080/"
    },
    "id": "w3K5li5VRzux",
    "outputId": "d5e8909b-0328-4bd6-96b2-78ab17c6aeed"
   },
   "outputs": [
    {
     "data": {
      "text/plain": [
       "not-contacted    3963\n",
       "contacted         156\n",
       "Name: pdays, dtype: int64"
      ]
     },
     "execution_count": 59,
     "metadata": {},
     "output_type": "execute_result"
    }
   ],
   "source": [
    "df_classification['pdays'].value_counts()"
   ]
  },
  {
   "cell_type": "code",
   "execution_count": 60,
   "metadata": {
    "id": "mz_kCYhWRzux"
   },
   "outputs": [],
   "source": [
    "df_classification['pdays'] = df_classification['pdays'].map({'not-contacted':1, 'contacted':0}).astype(int)\n"
   ]
  },
  {
   "cell_type": "markdown",
   "metadata": {
    "id": "viZLVWmTRzuy"
   },
   "source": [
    "### Ans 17"
   ]
  },
  {
   "cell_type": "markdown",
   "metadata": {
    "id": "CcN9sJGuRzuy"
   },
   "source": [
    "What should be an appropriate data transformations strategy for the column 'poutcome'"
   ]
  },
  {
   "cell_type": "code",
   "execution_count": 61,
   "metadata": {
    "colab": {
     "base_uri": "https://localhost:8080/"
    },
    "id": "M7QL4jNlRzuy",
    "outputId": "0b6b62dd-7d40-4fb8-b15d-15434c0edcf7"
   },
   "outputs": [
    {
     "data": {
      "text/plain": [
       "nonexistent    3566\n",
       "failure         404\n",
       "success         149\n",
       "Name: poutcome, dtype: int64"
      ]
     },
     "execution_count": 61,
     "metadata": {},
     "output_type": "execute_result"
    }
   ],
   "source": [
    "df_classification['poutcome'].value_counts()"
   ]
  },
  {
   "cell_type": "code",
   "execution_count": 62,
   "metadata": {
    "id": "id-VnPzfRzuy"
   },
   "outputs": [],
   "source": [
    "cols_poutcome = pd.get_dummies(df_classification['poutcome'], prefix= 'poutcome')\n",
    "df_classification[cols_poutcome.columns] = cols_poutcome\n",
    "df_classification.drop('poutcome', axis = 1, inplace = True)"
   ]
  },
  {
   "cell_type": "code",
   "execution_count": 64,
   "metadata": {
    "id": "dKBao2NyRzvG"
   },
   "outputs": [],
   "source": [
    "### HW_4"
   ]
  },
  {
   "cell_type": "markdown",
   "metadata": {
    "id": "eITWdxXByd0b"
   },
   "source": [
    "(Part a)Consider 'y' as the target column of Part a data frame. \n",
    "Split this data frame into train and test with a test size of 25% of the whole data. \n",
    "Then use the MinMAxScaler to scale the train and the test. What is the best value of the hyperparameter n_neighbors? \n",
    "Build your model given the following range of values for the model hyperparameters.\n",
    "n_neighbors= [1, 2, 3, 4, 5], metric = 'manhattan'"
   ]
  },
  {
   "cell_type": "markdown",
   "metadata": {
    "id": "Sx5N0MzDyZQx"
   },
   "source": []
  },
  {
   "cell_type": "code",
   "execution_count": 65,
   "metadata": {
    "colab": {
     "base_uri": "https://localhost:8080/"
    },
    "id": "Xda9ImC9xYWB",
    "outputId": "59fc3649-db71-471f-b61b-6b93e2c1631f"
   },
   "outputs": [
    {
     "data": {
      "text/plain": [
       "age                     0\n",
       "education               0\n",
       "default                 0\n",
       "housing                 0\n",
       "loan                    0\n",
       "contact                 0\n",
       "duration                0\n",
       "campaign                0\n",
       "pdays                   0\n",
       "previous                0\n",
       "y                       0\n",
       "job_admin.              0\n",
       "job_blue-collar         0\n",
       "job_entrepreneur        0\n",
       "job_housemaid           0\n",
       "job_management          0\n",
       "job_retired             0\n",
       "job_self-employed       0\n",
       "job_services            0\n",
       "job_student             0\n",
       "job_technician          0\n",
       "job_unemployed          0\n",
       "job_unknown             0\n",
       "marital_divorced        0\n",
       "marital_married         0\n",
       "marital_single          0\n",
       "marital_unknown         0\n",
       "poutcome_failure        0\n",
       "poutcome_nonexistent    0\n",
       "poutcome_success        0\n",
       "dtype: int64"
      ]
     },
     "execution_count": 65,
     "metadata": {},
     "output_type": "execute_result"
    }
   ],
   "source": [
    "df_classification.isna().sum()\n"
   ]
  },
  {
   "cell_type": "code",
   "execution_count": 66,
   "metadata": {
    "id": "8GpyRaa3wyMZ"
   },
   "outputs": [],
   "source": [
    "feature_names = ['age', 'education', 'default', 'housing', 'loan', 'contact', 'duration',\n",
    "       'campaign', 'pdays', 'previous', 'job_admin.', 'job_blue-collar',\n",
    "       'job_entrepreneur', 'job_housemaid', 'job_management', 'job_retired',\n",
    "       'job_self-employed', 'job_services', 'job_student', 'job_technician',\n",
    "       'job_unemployed', 'job_unknown', 'marital_divorced', 'marital_married',\n",
    "       'marital_single', 'marital_unknown', 'poutcome_failure',\n",
    "       'poutcome_nonexistent', 'poutcome_success']\n",
    "X = df_classification[feature_names]\n",
    "y = df_classification['y']"
   ]
  },
  {
   "cell_type": "code",
   "execution_count": 67,
   "metadata": {
    "id": "Ya2E7IY8ijCZ"
   },
   "outputs": [],
   "source": [
    "from sklearn.preprocessing import MinMaxScaler\n",
    "from sklearn.model_selection import train_test_split"
   ]
  },
  {
   "cell_type": "code",
   "execution_count": 68,
   "metadata": {
    "colab": {
     "base_uri": "https://localhost:8080/",
     "height": 0
    },
    "id": "3AsRLP9nux3Y",
    "outputId": "2b2e0c79-4c81-4186-833b-130bafb9ff40"
   },
   "outputs": [
    {
     "data": {
      "text/html": [
       "<div>\n",
       "<style scoped>\n",
       "    .dataframe tbody tr th:only-of-type {\n",
       "        vertical-align: middle;\n",
       "    }\n",
       "\n",
       "    .dataframe tbody tr th {\n",
       "        vertical-align: top;\n",
       "    }\n",
       "\n",
       "    .dataframe thead th {\n",
       "        text-align: right;\n",
       "    }\n",
       "</style>\n",
       "<table border=\"1\" class=\"dataframe\">\n",
       "  <thead>\n",
       "    <tr style=\"text-align: right;\">\n",
       "      <th></th>\n",
       "      <th>age</th>\n",
       "      <th>education</th>\n",
       "      <th>default</th>\n",
       "      <th>housing</th>\n",
       "      <th>loan</th>\n",
       "      <th>contact</th>\n",
       "      <th>duration</th>\n",
       "      <th>campaign</th>\n",
       "      <th>pdays</th>\n",
       "      <th>previous</th>\n",
       "      <th>...</th>\n",
       "      <th>job_technician</th>\n",
       "      <th>job_unemployed</th>\n",
       "      <th>job_unknown</th>\n",
       "      <th>marital_divorced</th>\n",
       "      <th>marital_married</th>\n",
       "      <th>marital_single</th>\n",
       "      <th>marital_unknown</th>\n",
       "      <th>poutcome_failure</th>\n",
       "      <th>poutcome_nonexistent</th>\n",
       "      <th>poutcome_success</th>\n",
       "    </tr>\n",
       "  </thead>\n",
       "  <tbody>\n",
       "    <tr>\n",
       "      <th>0</th>\n",
       "      <td>40.149846</td>\n",
       "      <td>1</td>\n",
       "      <td>0</td>\n",
       "      <td>0</td>\n",
       "      <td>0</td>\n",
       "      <td>1</td>\n",
       "      <td>105.0</td>\n",
       "      <td>1</td>\n",
       "      <td>1</td>\n",
       "      <td>0</td>\n",
       "      <td>...</td>\n",
       "      <td>0</td>\n",
       "      <td>0</td>\n",
       "      <td>0</td>\n",
       "      <td>0</td>\n",
       "      <td>1</td>\n",
       "      <td>0</td>\n",
       "      <td>0</td>\n",
       "      <td>0</td>\n",
       "      <td>1</td>\n",
       "      <td>0</td>\n",
       "    </tr>\n",
       "    <tr>\n",
       "      <th>1</th>\n",
       "      <td>36.000000</td>\n",
       "      <td>2</td>\n",
       "      <td>1</td>\n",
       "      <td>1</td>\n",
       "      <td>1</td>\n",
       "      <td>1</td>\n",
       "      <td>125.0</td>\n",
       "      <td>5</td>\n",
       "      <td>1</td>\n",
       "      <td>0</td>\n",
       "      <td>...</td>\n",
       "      <td>0</td>\n",
       "      <td>0</td>\n",
       "      <td>0</td>\n",
       "      <td>0</td>\n",
       "      <td>1</td>\n",
       "      <td>0</td>\n",
       "      <td>0</td>\n",
       "      <td>0</td>\n",
       "      <td>1</td>\n",
       "      <td>0</td>\n",
       "    </tr>\n",
       "    <tr>\n",
       "      <th>2</th>\n",
       "      <td>40.149846</td>\n",
       "      <td>4</td>\n",
       "      <td>1</td>\n",
       "      <td>0</td>\n",
       "      <td>0</td>\n",
       "      <td>0</td>\n",
       "      <td>111.0</td>\n",
       "      <td>1</td>\n",
       "      <td>1</td>\n",
       "      <td>0</td>\n",
       "      <td>...</td>\n",
       "      <td>0</td>\n",
       "      <td>0</td>\n",
       "      <td>0</td>\n",
       "      <td>0</td>\n",
       "      <td>0</td>\n",
       "      <td>1</td>\n",
       "      <td>0</td>\n",
       "      <td>0</td>\n",
       "      <td>1</td>\n",
       "      <td>0</td>\n",
       "    </tr>\n",
       "    <tr>\n",
       "      <th>3</th>\n",
       "      <td>39.000000</td>\n",
       "      <td>2</td>\n",
       "      <td>0</td>\n",
       "      <td>0</td>\n",
       "      <td>1</td>\n",
       "      <td>1</td>\n",
       "      <td>173.0</td>\n",
       "      <td>2</td>\n",
       "      <td>1</td>\n",
       "      <td>0</td>\n",
       "      <td>...</td>\n",
       "      <td>0</td>\n",
       "      <td>0</td>\n",
       "      <td>0</td>\n",
       "      <td>0</td>\n",
       "      <td>1</td>\n",
       "      <td>0</td>\n",
       "      <td>0</td>\n",
       "      <td>0</td>\n",
       "      <td>1</td>\n",
       "      <td>0</td>\n",
       "    </tr>\n",
       "    <tr>\n",
       "      <th>4</th>\n",
       "      <td>41.000000</td>\n",
       "      <td>1</td>\n",
       "      <td>0</td>\n",
       "      <td>0</td>\n",
       "      <td>1</td>\n",
       "      <td>1</td>\n",
       "      <td>107.0</td>\n",
       "      <td>1</td>\n",
       "      <td>1</td>\n",
       "      <td>0</td>\n",
       "      <td>...</td>\n",
       "      <td>0</td>\n",
       "      <td>0</td>\n",
       "      <td>0</td>\n",
       "      <td>0</td>\n",
       "      <td>1</td>\n",
       "      <td>0</td>\n",
       "      <td>0</td>\n",
       "      <td>0</td>\n",
       "      <td>1</td>\n",
       "      <td>0</td>\n",
       "    </tr>\n",
       "  </tbody>\n",
       "</table>\n",
       "<p>5 rows × 29 columns</p>\n",
       "</div>"
      ],
      "text/plain": [
       "         age  education  default  housing  loan  contact  duration  campaign  \\\n",
       "0  40.149846          1        0        0     0        1     105.0         1   \n",
       "1  36.000000          2        1        1     1        1     125.0         5   \n",
       "2  40.149846          4        1        0     0        0     111.0         1   \n",
       "3  39.000000          2        0        0     1        1     173.0         2   \n",
       "4  41.000000          1        0        0     1        1     107.0         1   \n",
       "\n",
       "   pdays  previous  ...  job_technician  job_unemployed  job_unknown  \\\n",
       "0      1         0  ...               0               0            0   \n",
       "1      1         0  ...               0               0            0   \n",
       "2      1         0  ...               0               0            0   \n",
       "3      1         0  ...               0               0            0   \n",
       "4      1         0  ...               0               0            0   \n",
       "\n",
       "   marital_divorced  marital_married  marital_single  marital_unknown  \\\n",
       "0                 0                1               0                0   \n",
       "1                 0                1               0                0   \n",
       "2                 0                0               1                0   \n",
       "3                 0                1               0                0   \n",
       "4                 0                1               0                0   \n",
       "\n",
       "   poutcome_failure  poutcome_nonexistent  poutcome_success  \n",
       "0                 0                     1                 0  \n",
       "1                 0                     1                 0  \n",
       "2                 0                     1                 0  \n",
       "3                 0                     1                 0  \n",
       "4                 0                     1                 0  \n",
       "\n",
       "[5 rows x 29 columns]"
      ]
     },
     "execution_count": 68,
     "metadata": {},
     "output_type": "execute_result"
    }
   ],
   "source": [
    "X.head()"
   ]
  },
  {
   "cell_type": "code",
   "execution_count": 69,
   "metadata": {
    "id": "ZxNCMdM9klT3"
   },
   "outputs": [],
   "source": [
    "X_train_org, X_test_org, y_train, y_test = train_test_split(X, y, random_state = 0, test_size = 0.25)\n",
    "\n",
    "scaler = MinMaxScaler()\n",
    "X_train = scaler.fit_transform(X_train_org)\n",
    "X_test = scaler.transform(X_test_org)"
   ]
  },
  {
   "cell_type": "code",
   "execution_count": 70,
   "metadata": {
    "colab": {
     "base_uri": "https://localhost:8080/"
    },
    "id": "73_Fg5mnlelH",
    "outputId": "d4afb961-d0b3-4190-b237-d5727ae02842"
   },
   "outputs": [
    {
     "data": {
      "text/plain": [
       "array([[0.09210526, 0.66666667, 1.        , ..., 0.        , 1.        ,\n",
       "        0.        ],\n",
       "       [0.42105263, 0.16666667, 0.        , ..., 0.        , 1.        ,\n",
       "        0.        ],\n",
       "       [0.36842105, 0.5       , 1.        , ..., 0.        , 1.        ,\n",
       "        0.        ],\n",
       "       ...,\n",
       "       [0.27828745, 0.83333333, 1.        , ..., 0.        , 1.        ,\n",
       "        0.        ],\n",
       "       [0.07894737, 0.66666667, 1.        , ..., 0.        , 1.        ,\n",
       "        0.        ],\n",
       "       [0.11842105, 0.66666667, 1.        , ..., 0.        , 1.        ,\n",
       "        0.        ]])"
      ]
     },
     "execution_count": 70,
     "metadata": {},
     "output_type": "execute_result"
    }
   ],
   "source": [
    "X_train"
   ]
  },
  {
   "cell_type": "code",
   "execution_count": 71,
   "metadata": {
    "id": "sgbMPm_moxO0"
   },
   "outputs": [],
   "source": [
    "from sklearn.neighbors import KNeighborsClassifier\n",
    "\n",
    "train_score_array = []\n",
    "test_score_array = []\n",
    "\n",
    "for k in range(1,6):\n",
    "    knn = KNeighborsClassifier(k, p=1)\n",
    "    knn.fit(X_train, y_train)\n",
    "    train_score_array.append(knn.score(X_train, y_train))\n",
    "    test_score_array.append(knn.score(X_test, y_test))"
   ]
  },
  {
   "cell_type": "code",
   "execution_count": 74,
   "metadata": {
    "colab": {
     "base_uri": "https://localhost:8080/",
     "height": 0
    },
    "id": "7UR1gBINlfpc",
    "outputId": "fe00d694-c340-4d56-c430-89195ba5d873"
   },
   "outputs": [
    {
     "data": {
      "text/plain": [
       "<matplotlib.legend.Legend at 0x1754e3cda00>"
      ]
     },
     "execution_count": 74,
     "metadata": {},
     "output_type": "execute_result"
    },
    {
     "data": {
      "image/png": "[encoded data removed]",
      "text/plain": [
       "<Figure size 1440x360 with 1 Axes>"
      ]
     },
     "metadata": {
      "needs_background": "light"
     },
     "output_type": "display_data"
    }
   ],
   "source": [
    "import matplotlib.pyplot as plt\n",
    "\n",
    "x_axis = range(1,6)\n",
    "%matplotlib inline\n",
    "\n",
    "\n",
    "plt.subplots(figsize = (20,5))\n",
    "plt.plot(x_axis, train_score_array, label = 'Train Score', c = 'g')\n",
    "plt.plot(x_axis, test_score_array, label = 'Test Score', c='b')\n",
    "plt.xlabel('n_neighbors')\n",
    "plt.ylabel('Accuracy')\n",
    "plt.xticks(x_axis, np.arange(1,6))\n",
    "plt.grid()\n",
    "plt.legend()"
   ]
  },
  {
   "cell_type": "markdown",
   "metadata": {
    "id": "9RgtfqhLJNF9"
   },
   "source": [
    "Train a KNeighborsClassifier with the best hyperparameters found in the previous questions on the training dataset. What is the test score of this model? (Enter the answer with two digits after the decimal point)\n",
    "\n"
   ]
  },
  {
   "cell_type": "code",
   "execution_count": 75,
   "metadata": {
    "colab": {
     "base_uri": "https://localhost:8080/"
    },
    "id": "78nlQXCqJSKl",
    "outputId": "89e9d647-c304-4c86-fbec-aa0185321271"
   },
   "outputs": [
    {
     "name": "stdout",
     "output_type": "stream",
     "text": [
      "Train score: 0.9068\n",
      "Test score: 0.8864\n"
     ]
    }
   ],
   "source": [
    "knn = KNeighborsClassifier(4)\n",
    "knn.fit(X_train, y_train)\n",
    "print('Train score: {:.4f}'.format(knn.score(X_train, y_train)))\n",
    "print('Test score: {:.4f}'.format(knn.score(X_test, y_test)))"
   ]
  },
  {
   "cell_type": "markdown",
   "metadata": {
    "id": "901fQhifK0In"
   },
   "source": [
    "Find the best hyperparameters of a LogisticRegression machine learning model. Which of the following values of C will result in a model with the smallest gap between the train and test accuracy score? Use the following parameters to create your model: solver = 'lbfgs', penalty = 'l2', max_iter = 1000.\n"
   ]
  },
  {
   "cell_type": "code",
   "execution_count": 76,
   "metadata": {
    "id": "nBt39XaGK20e"
   },
   "outputs": [],
   "source": [
    "from sklearn.linear_model import LogisticRegression\n",
    "\n",
    "c_range = [0.001, 0.01, 0.1, 1, 10, 100, 1000]\n",
    "train_score_l1 = []\n",
    "train_score_l2 = []\n",
    "test_score_l1 = []\n",
    "test_score_l2 = []\n",
    "\n",
    "for c in c_range:\n",
    "    #log_l1 = LogisticRegression(penalty = 'l1', C = c, solver = 'liblinear', max_iter = 500)\n",
    "    log_l1 = LogisticRegression(penalty = 'l2', C = c, solver = 'lbfgs', max_iter = 1000)\n",
    "    log_l1.fit(X_train, y_train)\n",
    "    #log_l2.fit(X_train, y_train)\n",
    "    train_score_l1.append(log_l1.score(X_train, y_train))\n",
    "    #train_score_l2.append(log_l2.score(X_train, y_train))\n",
    "    test_score_l1.append(log_l1.score(X_test, y_test))\n",
    "    #test_score_l2.append(log_l2.score(X_test, y_test))\n",
    "  "
   ]
  },
  {
   "cell_type": "code",
   "execution_count": 77,
   "metadata": {
    "colab": {
     "base_uri": "https://localhost:8080/",
     "height": 0
    },
    "id": "xcxoi5AoMSE-",
    "outputId": "e2cc7e89-2716-4cfe-a755-b8c1ced497ee"
   },
   "outputs": [
    {
     "data": {
      "image/png": "[encoded data removed]",
      "text/plain": [
       "<Figure size 1440x360 with 1 Axes>"
      ]
     },
     "metadata": {
      "needs_background": "light"
     },
     "output_type": "display_data"
    }
   ],
   "source": [
    "import matplotlib.pyplot as plt\n",
    "%matplotlib inline\n",
    "\n",
    "plt.subplots(figsize = (20,5))\n",
    "plt.plot(c_range, train_score_l1, label = 'Train score, penalty = l2')\n",
    "plt.plot(c_range, test_score_l1, label = 'Test score, penalty = l2')\n",
    "#plt.plot(c_range, train_score_l2, label = 'Train score, penalty = l2')\n",
    "#plt.plot(c_range, test_score_l2, label = 'Test score, penalty = l2')\n",
    "plt.legend()\n",
    "plt.xlabel('Regularization parameter: C')\n",
    "plt.ylabel('Accuracy')\n",
    "plt.xscale('log')"
   ]
  },
  {
   "cell_type": "code",
   "execution_count": 78,
   "metadata": {
    "colab": {
     "base_uri": "https://localhost:8080/"
    },
    "id": "OCe6f4cHMh5W",
    "outputId": "3d3fc718-213d-4c7e-b865-e210dfe2a122"
   },
   "outputs": [
    {
     "data": {
      "text/plain": [
       "0.8951456310679612"
      ]
     },
     "execution_count": 78,
     "metadata": {},
     "output_type": "execute_result"
    }
   ],
   "source": [
    "%matplotlib inline\n",
    "\n",
    "from mlxtend.plotting import plot_decision_regions\n",
    "\n",
    "#X_b = X_train[200:, [7,23]]\n",
    "#y_b = y_train[200:]\n",
    "\n",
    "lreg = LogisticRegression(C = 0.1, penalty = 'l2')\n",
    "\n",
    "lreg.fit(X_train, y_train) \n",
    "lreg.score(X_test, y_test)"
   ]
  },
  {
   "cell_type": "markdown",
   "metadata": {
    "id": "K3rM7-KDRq_L"
   },
   "source": [
    "Train a SVC model on the train dataset with a different range of values for C and gamma. Which tuple of (C, gamma) results in a best fit. To answer this question find a pair that results in a smallerst gap between the train and test score."
   ]
  },
  {
   "cell_type": "code",
   "execution_count": 79,
   "metadata": {
    "colab": {
     "base_uri": "https://localhost:8080/"
    },
    "id": "ayvA7GiuRsVg",
    "outputId": "326d7a9c-9a9b-4fba-a699-24e652b2e53b"
   },
   "outputs": [
    {
     "name": "stdout",
     "output_type": "stream",
     "text": [
      "(0.01, 0.01) -0.007805649234521539\n",
      "(0.01, 0.1) -0.007805649234521539\n",
      "(0.01, 1) -0.007805649234521539\n",
      "(0.01, 10) -0.007805649234521539\n",
      "(0.1, 0.01) -0.007805649234521539\n",
      "(0.1, 0.1) 0.0035264499460974097\n",
      "(0.1, 1) -0.007805649234521539\n",
      "(0.1, 10) -0.007805649234521539\n",
      "(1, 0.01) 0.004821367395110077\n",
      "(1, 0.1) 0.004821367395110077\n",
      "(1, 1) 0.015181021287562824\n",
      "(1, 10) 0.04139964232619975\n",
      "(10, 0.01) 0.004821367395110077\n",
      "(10, 0.1) 0.00805834671729\n",
      "(10, 1) 0.05208333988125735\n",
      "(10, 10) 0.08963406010051322\n"
     ]
    },
    {
     "data": {
      "text/plain": [
       "0.0035264499460974097"
      ]
     },
     "execution_count": 79,
     "metadata": {},
     "output_type": "execute_result"
    }
   ],
   "source": [
    "from sklearn.svm import SVC, LinearSVC\n",
    "svc_score_diff = []\n",
    "c = [0.01,0.1,1,10]\n",
    "gamma = [0.01,0.1,1,10]\n",
    "for x, y in [(x,y) for x in gamma for y in c]:\n",
    "    clf1 = SVC(kernel='rbf', gamma=y, C=x)\n",
    "    clf1.fit(X_train,y_train)\n",
    "    svc_score_diff.append(abs(clf1.score(X_train,y_train)-clf1.score(X_test,y_test)))\n",
    "    print((x,y),(clf1.score(X_train,y_train)-clf1.score(X_test,y_test)))\n",
    "min(svc_score_diff)"
   ]
  },
  {
   "cell_type": "markdown",
   "metadata": {
    "id": "0p0vaIffuGhK"
   },
   "source": []
  },
  {
   "cell_type": "markdown",
   "metadata": {
    "id": "ZMTP3m4gZBcs"
   },
   "source": [
    "The last model we will explore in this Lab is DecisionTreeClassifier. As seen in the lectures, there are many different early stopping conditions to control a decision tree model complexity. We want to see which early stopping condition works better for this dataset. For this purpose, you should train a DecisionTreeClassifier model with one of the following early stopping conditions. Which is the best choice in terms of train accuracy for this dataset?"
   ]
  },
  {
   "cell_type": "code",
   "execution_count": 80,
   "metadata": {
    "colab": {
     "base_uri": "https://localhost:8080/"
    },
    "id": "baDAnk5LZCdR",
    "outputId": "868b7cc7-9d79-458c-b8ac-6efbddc79cad"
   },
   "outputs": [
    {
     "data": {
      "text/plain": [
       "0.8611650485436894"
      ]
     },
     "execution_count": 80,
     "metadata": {},
     "output_type": "execute_result"
    }
   ],
   "source": [
    "from sklearn.tree import DecisionTreeClassifier\n",
    "\n",
    "tree = DecisionTreeClassifier(criterion= 'entropy')\n",
    "tree.fit(X_train, y_train)\n",
    "tree.score(X_train, y_train)\n",
    "tree.score(X_test, y_test)"
   ]
  },
  {
   "cell_type": "code",
   "execution_count": 81,
   "metadata": {
    "colab": {
     "base_uri": "https://localhost:8080/"
    },
    "id": "6yGMA_iredI0",
    "outputId": "c4c8cbeb-fc21-4484-fce7-e4ccdec13d7a"
   },
   "outputs": [
    {
     "data": {
      "text/plain": [
       "0.904823567497572"
      ]
     },
     "execution_count": 81,
     "metadata": {},
     "output_type": "execute_result"
    }
   ],
   "source": [
    "tree = DecisionTreeClassifier(min_samples_leaf=50)\n",
    "tree.fit(X_train, y_train)\n",
    "tree.score(X_train, y_train)\n"
   ]
  },
  {
   "cell_type": "code",
   "execution_count": 82,
   "metadata": {
    "colab": {
     "base_uri": "https://localhost:8080/"
    },
    "id": "q1huVedRfka-",
    "outputId": "2f24b445-b62e-4d5b-dacc-bd4e57671ee1"
   },
   "outputs": [
    {
     "data": {
      "text/plain": [
       "0.9329880220135967"
      ]
     },
     "execution_count": 82,
     "metadata": {},
     "output_type": "execute_result"
    }
   ],
   "source": [
    "tree = DecisionTreeClassifier(max_depth= 7)\n",
    "tree.fit(X_train, y_train)\n",
    "tree.score(X_train, y_train)\n"
   ]
  },
  {
   "cell_type": "code",
   "execution_count": 83,
   "metadata": {
    "colab": {
     "base_uri": "https://localhost:8080/"
    },
    "id": "nIhFFyf_gRBA",
    "outputId": "3f52fed1-e9e2-417a-9b77-54ba6bab9b15"
   },
   "outputs": [
    {
     "data": {
      "text/plain": [
       "0.9080608611201036"
      ]
     },
     "execution_count": 83,
     "metadata": {},
     "output_type": "execute_result"
    }
   ],
   "source": [
    "tree = DecisionTreeClassifier(min_samples_split = 150)\n",
    "tree.fit(X_train, y_train)\n",
    "tree.score(X_train, y_train)"
   ]
  },
  {
   "cell_type": "code",
   "execution_count": 84,
   "metadata": {
    "colab": {
     "base_uri": "https://localhost:8080/"
    },
    "id": "BvwNjsU6ghUY",
    "outputId": "99754a3b-ebfa-49a2-e8fc-ea8d8e0d8fa6"
   },
   "outputs": [
    {
     "data": {
      "text/plain": [
       "0.8947879572677242"
      ]
     },
     "execution_count": 84,
     "metadata": {},
     "output_type": "execute_result"
    }
   ],
   "source": [
    "tree = DecisionTreeClassifier(min_impurity_decrease = 0.005)\n",
    "tree.fit(X_train, y_train)\n",
    "tree.score(X_train, y_train)"
   ]
  },
  {
   "cell_type": "markdown",
   "metadata": {
    "id": "imVzgJnug5Lk"
   },
   "source": [
    "Train the DecisionTree model with max_depth= 2, random_state = 0. Plot this tree using the GraphViz tool in Python. What is the gini score of the leaf node with the highest number of samples? Enter the answer with four digits after the decimal point."
   ]
  },
  {
   "cell_type": "code",
   "execution_count": 85,
   "metadata": {
    "colab": {
     "base_uri": "https://localhost:8080/",
     "height": 0
    },
    "id": "mMZxbfW6g6VJ",
    "outputId": "9579eff5-2a8d-4167-fa3a-df42da380103"
   },
   "outputs": [],
   "source": [
    "# import os \n",
    "# import graphviz\n",
    "\n",
    "# # os.environ[\"PATH\"] += os.pathsep + 'C:/Users/Shiva/anaconda3/pkgs/graphviz-2.38-hfd603c8_2/Library/bin/dot.bat'\n",
    "# tree = DecisionTreeClassifier(max_depth= 2,random_state = 0)\n",
    "# tree.fit(X_train, y_train)\n",
    "# tree.score(X_train, y_train)\n",
    "\n",
    "# # Create DOT data\n",
    "# from sklearn.tree import export_graphviz\n",
    "\n",
    "# dot_data = export_graphviz(tree, out_file=None, filled=True, rounded=True, feature_names=X.columns) \n",
    "\n",
    "# # Draw graph\n",
    "# graph = graphviz.Source(dot_data) \n",
    "\n",
    "# # Show graph\n",
    "# graph "
   ]
  },
  {
   "cell_type": "markdown",
   "metadata": {
    "id": "iB0t1SO9uMHA"
   },
   "source": [
    "# Homework_5\n"
   ]
  },
  {
   "cell_type": "markdown",
   "metadata": {
    "id": "6XWtbhx0ub1O"
   },
   "source": [
    "For this lab, we consider the 'yes' in the target column as the positive label. The easiest way we can enforce this assumption is to map 'no' tp 0 and 'yes' to 1. From now on, the target column of X_train and X_test should hold binary values 0 and 1. Use the GridSearchCV with 5 folds and the default scoring to find the best hyperparameters of a SVC model on this dataset. Which of the following is the best set of hyperparameters: (Set random_state = 0."
   ]
  },
  {
   "cell_type": "code",
   "execution_count": 86,
   "metadata": {
    "colab": {
     "base_uri": "https://localhost:8080/"
    },
    "id": "qB4D1gwkuY4n",
    "outputId": "4ba9e2f2-86ee-4e9b-9d52-3d4a3794b524"
   },
   "outputs": [
    {
     "name": "stdout",
     "output_type": "stream",
     "text": [
      "Parameter grid:\n",
      "{'C': [0.001, 0.01, 0.1, 1, 10, 100], 'gamma': [0.001, 0.01, 0.1, 1, 10, 100]}\n"
     ]
    },
    {
     "data": {
      "text/plain": [
       "GridSearchCV(cv=5, estimator=SVC(),\n",
       "             param_grid={'C': [0.001, 0.01, 0.1, 1, 10, 100],\n",
       "                         'gamma': [0.001, 0.01, 0.1, 1, 10, 100]},\n",
       "             return_train_score=True)"
      ]
     },
     "execution_count": 86,
     "metadata": {},
     "output_type": "execute_result"
    }
   ],
   "source": [
    "from sklearn.model_selection import GridSearchCV\n",
    "from sklearn.svm import SVC\n",
    "y_train = y_train.map(dict(yes=1, no=0))\n",
    "y_test = y_test.map(dict(yes=1, no=0)) \n",
    "param_grid = {'C': [0.001, 0.01, 0.1, 1, 10, 100],\n",
    "              'gamma': [0.001, 0.01, 0.1, 1, 10, 100]}\n",
    "print(\"Parameter grid:\\n{}\".format(param_grid))\n",
    "grid_search = GridSearchCV(SVC(), param_grid, cv=5, return_train_score=True)\n",
    "grid_search.fit(X_train, y_train)\n",
    "GridSearchCV(cv=5, estimator=SVC(),\n",
    "             param_grid={'C': [0.001, 0.01, 0.1, 1, 10, 100],\n",
    "                         'gamma': [0.001, 0.01, 0.1, 1, 10, 100]},\n",
    "             return_train_score=True)"
   ]
  },
  {
   "cell_type": "code",
   "execution_count": 87,
   "metadata": {
    "colab": {
     "base_uri": "https://localhost:8080/"
    },
    "id": "oz8vGPLsR06b",
    "outputId": "2657b177-04c8-4785-a092-e3815e6b31f0"
   },
   "outputs": [
    {
     "name": "stdout",
     "output_type": "stream",
     "text": [
      "Best parameters: {'C': 1, 'gamma': 0.01}\n",
      "Best cross-validation score: 0.89803\n"
     ]
    }
   ],
   "source": [
    "print(\"Best parameters: {}\".format(grid_search.best_params_))\n",
    "print(\"Best cross-validation score: {:.5f}\".format(grid_search.best_score_))"
   ]
  },
  {
   "cell_type": "markdown",
   "metadata": {
    "id": "ZTx8brL9VpRj"
   },
   "source": [
    "What is the best score of the grid search model in the previous question. Enter the answer with four digits after the decimal point."
   ]
  },
  {
   "cell_type": "code",
   "execution_count": 88,
   "metadata": {
    "colab": {
     "base_uri": "https://localhost:8080/"
    },
    "id": "jU65tz1kVqpS",
    "outputId": "3b3df151-34a4-42cb-b14d-7cf5c7f71ca3"
   },
   "outputs": [
    {
     "data": {
      "text/plain": [
       "0.89803"
      ]
     },
     "execution_count": 88,
     "metadata": {},
     "output_type": "execute_result"
    }
   ],
   "source": [
    " 0.89803\n"
   ]
  },
  {
   "cell_type": "markdown",
   "metadata": {
    "id": "aRVOK7T9WF1F"
   },
   "source": [
    "Now instantiate a SVC model with the best hyperparameters you have found in the last two questions. Based on the recall and precision score of the test data frame, which of the following statements is true?"
   ]
  },
  {
   "cell_type": "code",
   "execution_count": 89,
   "metadata": {
    "colab": {
     "base_uri": "https://localhost:8080/"
    },
    "id": "od-4ZBrCF_wY",
    "outputId": "3684f3fe-acd1-4d30-d3c6-cbfd0cd9d7ca"
   },
   "outputs": [
    {
     "name": "stdout",
     "output_type": "stream",
     "text": [
      "Precision:  0.5641025641025641\n",
      "Recall:  0.19130434782608696\n"
     ]
    }
   ],
   "source": [
    "from sklearn.svm import SVC\n",
    "from sklearn.metrics import precision_score, recall_score\n",
    "svc = SVC(kernel = 'rbf', C = 1, gamma = 0.01)\n",
    "svc.fit(X_train, y_train)\n",
    "y_predict = np.where(svc.decision_function(X_test) >= 0, 1, 0)\n",
    "# y_predict = svc.predict(X_test)\n",
    "print('Precision: ', precision_score(y_test, y_predict))\n",
    "print('Recall: ', recall_score(y_test, y_predict))"
   ]
  },
  {
   "cell_type": "markdown",
   "metadata": {
    "id": "8Y3k7uP1occy"
   },
   "source": [
    "Use the GridSearchCV with 5 folds and the scoring function you choose in the previous question to find the best hyperparameters of a SVC model on this dataset. Which of the following is the best set of hyperparameters: (Set random_state = 0."
   ]
  },
  {
   "cell_type": "code",
   "execution_count": 90,
   "metadata": {
    "colab": {
     "base_uri": "https://localhost:8080/"
    },
    "id": "ikIg0V1_omzE",
    "outputId": "669cf91d-6be0-4a0d-820a-f88f89d3a77d"
   },
   "outputs": [
    {
     "name": "stdout",
     "output_type": "stream",
     "text": [
      "Parameter grid:\n",
      "{'C': [0.001, 0.01, 0.1, 1, 10, 100], 'gamma': [0.001, 0.01, 0.1, 1, 10, 100]}\n"
     ]
    },
    {
     "data": {
      "text/plain": [
       "GridSearchCV(cv=5, estimator=SVC(),\n",
       "             param_grid={'C': [0.001, 0.01, 0.1, 1, 10, 100],\n",
       "                         'gamma': [0.001, 0.01, 0.1, 1, 10, 100]},\n",
       "             return_train_score=True, scoring='recall')"
      ]
     },
     "execution_count": 90,
     "metadata": {},
     "output_type": "execute_result"
    }
   ],
   "source": [
    "param_grid = {'C': [0.001, 0.01, 0.1, 1, 10, 100],\n",
    "              'gamma': [0.001, 0.01, 0.1, 1, 10, 100]}\n",
    "print(\"Parameter grid:\\n{}\".format(param_grid))\n",
    "# grid_search = GridSearchCV(SVC(), param_grid, cv=5, return_train_score=True)\n",
    "grid_search = GridSearchCV(cv=5, estimator=SVC(),\n",
    "             param_grid={'C': [0.001, 0.01, 0.1, 1, 10, 100],\n",
    "                         'gamma': [0.001, 0.01, 0.1, 1, 10, 100]},scoring='recall',\n",
    "                         return_train_score=True )\n",
    "grid_search.fit(X_train, y_train)\n"
   ]
  },
  {
   "cell_type": "code",
   "execution_count": 91,
   "metadata": {
    "colab": {
     "base_uri": "https://localhost:8080/",
     "height": 183
    },
    "id": "VgqQL2SaXVHD",
    "outputId": "c7a90a61-ee9c-40e8-cec6-77f5c9fcc49f"
   },
   "outputs": [
    {
     "name": "stdout",
     "output_type": "stream",
     "text": [
      "Best parameters: {'C': 100, 'gamma': 0.1}\n",
      "Best cross-validation score: 0.31973\n"
     ]
    }
   ],
   "source": [
    "print(\"Best parameters: {}\".format(grid_search.best_params_))\n",
    "print(\"Best cross-validation score: {:.5f}\".format(grid_search.best_score_))"
   ]
  },
  {
   "cell_type": "markdown",
   "metadata": {},
   "source": [
    "# Now run a logistic regression model on this dataset with the following hyperparameters: C = 1, \n",
    "penalty = 'l2', random_state = 0. Use the best evaluation function in the previous question.\n",
    "Which of the following statements is correct:"
   ]
  },
  {
   "cell_type": "code",
   "execution_count": 138,
   "metadata": {},
   "outputs": [
    {
     "name": "stdout",
     "output_type": "stream",
     "text": [
      "Macro recall test:  0.5999524827750059\n",
      "Macro recall train:  0.6165047624740954\n"
     ]
    }
   ],
   "source": [
    "from sklearn.metrics import accuracy_score\n",
    "from sklearn.metrics import accuracy_score, recall_score, f1_score\n",
    "\n",
    "lr = LogisticRegression(C=1, penalty = 'l2', random_state=0, max_iter=1000)\n",
    "lr.fit(X_train, y_train)\n",
    "\n",
    "pred_test = lr.predict(X_test)\n",
    "pred_train = lr.predict(X_train)\n",
    "\n",
    "print('Macro recall test: ', recall_score(y_test, pred_test, average= 'macro'))\n",
    "print('Macro recall train: ', recall_score(y_train, pred_train, average= 'macro'))"
   ]
  },
  {
   "cell_type": "markdown",
   "metadata": {},
   "source": [
    "### Plot the precision_recall curve of the model in the previous question. Which value of threshold will give the smallest distance of precision to 0.5"
   ]
  },
  {
   "cell_type": "code",
   "execution_count": 207,
   "metadata": {},
   "outputs": [
    {
     "data": {
      "image/png": "[encoded data removed]",
      "text/plain": [
       "<Figure size 1440x360 with 1 Axes>"
      ]
     },
     "metadata": {
      "needs_background": "light"
     },
     "output_type": "display_data"
    }
   ],
   "source": [
    "from sklearn.metrics import precision_recall_curve\n",
    "\n",
    "plt.subplots(figsize = (20,5))\n",
    "\n",
    "precision, recall, thresholds = precision_recall_curve(y_test, lr.predict_proba(X_test)[:,1])\n",
    "                                                                \n",
    "close_zero = np.argmin(np.abs(thresholds))\n",
    "\n",
    "plt.plot(precision[close_zero], recall[close_zero], 'o', markersize=10,\n",
    "         label=\"threshold zero lr\", fillstyle=\"none\", c='k', mew=2)\n",
    "\n",
    "close_default_lr = np.argmin(np.abs(thresholds - 0.5))\n",
    "\n",
    "plt.plot(precision[close_default_lr], recall[close_default_lr], '^', c='k',\n",
    "         markersize=10, label=\"threshold 0.5 lr\", fillstyle=\"none\", mew=2)\n",
    "plt.plot(precision, recall, label=\"precision recall curve\")\n",
    "plt.xlabel(\"Precision\")\n",
    "plt.ylabel(\"Recall\")\n",
    "plt.legend(loc=\"best\")\n",
    "plt.grid()"
   ]
  },
  {
   "cell_type": "code",
   "execution_count": 208,
   "metadata": {},
   "outputs": [
    {
     "data": {
      "text/plain": [
       "0.4956223123710961"
      ]
     },
     "execution_count": 208,
     "metadata": {},
     "output_type": "execute_result"
    }
   ],
   "source": [
    "thresholds[close_default_lr]"
   ]
  },
  {
   "cell_type": "markdown",
   "metadata": {},
   "source": [
    "##### Now, change the threshold to the value you have found in the previous question. What is the test recall score considering the new probability threshold? (Enter the answer with four digits after the decimal point)"
   ]
  },
  {
   "cell_type": "code",
   "execution_count": 209,
   "metadata": {},
   "outputs": [
    {
     "data": {
      "text/plain": [
       "0.21739130434782608"
      ]
     },
     "execution_count": 209,
     "metadata": {},
     "output_type": "execute_result"
    }
   ],
   "source": [
    "recall[close_default_lr]"
   ]
  },
  {
   "cell_type": "markdown",
   "metadata": {},
   "source": [
    "#### Now train a SVC model with the following list of parameters on this dataset: kernel = 'rbf', C = 0.5, gamma = 0.1. What is the roc_auc score of the test dataset? Enter your answer with four digits after the decimal point.)"
   ]
  },
  {
   "cell_type": "code",
   "execution_count": 210,
   "metadata": {},
   "outputs": [
    {
     "data": {
      "text/plain": [
       "0.8427655024946543"
      ]
     },
     "execution_count": 210,
     "metadata": {},
     "output_type": "execute_result"
    }
   ],
   "source": [
    "from sklearn.metrics import roc_auc_score\n",
    "\n",
    "svc = SVC(kernel = 'rbf', C = 0.5, gamma = 0.1)\n",
    "svc.fit(X_train, y_train)\n",
    "roc_auc_score(y_test, svc.decision_function(X_test))"
   ]
  },
  {
   "cell_type": "markdown",
   "metadata": {},
   "source": [
    "#### Use a grid search model to find the best parameters of a DecisionTreeClassifer model on this dataset. Make sure to use the scoring function you have found in the Question 6. What the best hyperparameter of this model"
   ]
  },
  {
   "cell_type": "code",
   "execution_count": 225,
   "metadata": {},
   "outputs": [
    {
     "name": "stdout",
     "output_type": "stream",
     "text": [
      "Parameter grid:\n",
      "{'max_depth': [1, 2, 3, 4, 5]}\n"
     ]
    },
    {
     "data": {
      "text/plain": [
       "GridSearchCV(cv=5, estimator=DecisionTreeClassifier(),\n",
       "             param_grid={'max_depth': [1, 2, 3, 4, 5]}, return_train_score=True,\n",
       "             scoring='recall')"
      ]
     },
     "execution_count": 225,
     "metadata": {},
     "output_type": "execute_result"
    }
   ],
   "source": [
    "from sklearn.tree import DecisionTreeClassifier\n",
    "tree = DecisionTreeClassifier()\n",
    "tree.fit(X_train,y_train)\n",
    "pred_tree = tree.predict(X_test)\n",
    "\n",
    "param_grid = {'max_depth': [1,2,3,4,5]}\n",
    "\n",
    "print(\"Parameter grid:\\n{}\".format(param_grid))\n",
    "grid_search = GridSearchCV(tree, param_grid, cv=5,\n",
    "                 scoring='recall', return_train_score=True )\n",
    "grid_search.fit(X_train, y_train)"
   ]
  },
  {
   "cell_type": "code",
   "execution_count": 226,
   "metadata": {},
   "outputs": [
    {
     "name": "stdout",
     "output_type": "stream",
     "text": [
      "Best parameters: {'max_depth': 4}\n",
      "Best cross-validation score: 0.38723\n"
     ]
    }
   ],
   "source": [
    "print(\"Best parameters: {}\".format(grid_search.best_params_))\n",
    "print(\"Best cross-validation score: {:.5f}\".format(grid_search.best_score_))"
   ]
  },
  {
   "cell_type": "markdown",
   "metadata": {},
   "source": [
    "#### Now change the default threshold probability to 0.4. What is the test score of the Decision Tree model with the best hyperparameter you have found in the last two questions? Enter the answer with four digits after the decimal point. Compare your result with the best validation score computed in the last question.\n",
    "\n"
   ]
  },
  {
   "cell_type": "code",
   "execution_count": 233,
   "metadata": {},
   "outputs": [
    {
     "data": {
      "text/plain": [
       "0.7063435495367071"
      ]
     },
     "execution_count": 233,
     "metadata": {},
     "output_type": "execute_result"
    }
   ],
   "source": [
    "tree = DecisionTreeClassifier(max_depth=4).fit(X_train, y_train)\n",
    "y_pred = (tree.predict_proba(X_test)[:,1] >= 0.4).astype(bool) # set threshold as 0.4\n",
    "\n",
    "recall_score(y_test, y_pred, average= 'macro')"
   ]
  },
  {
   "cell_type": "code",
   "execution_count": 229,
   "metadata": {},
   "outputs": [
    {
     "data": {
      "text/plain": [
       "array([[0.90807175, 0.09192825],\n",
       "       [0.90807175, 0.09192825],\n",
       "       [0.72566372, 0.27433628],\n",
       "       ...,\n",
       "       [0.98109864, 0.01890136],\n",
       "       [0.98109864, 0.01890136],\n",
       "       [0.90807175, 0.09192825]])"
      ]
     },
     "execution_count": 229,
     "metadata": {},
     "output_type": "execute_result"
    }
   ],
   "source": [
    "tree.predict_proba(X_test)"
   ]
  },
  {
   "cell_type": "code",
   "execution_count": 231,
   "metadata": {},
   "outputs": [
    {
     "data": {
      "text/plain": [
       "array([0.90807175, 0.90807175, 0.72566372, ..., 0.98109864, 0.98109864,\n",
       "       0.90807175])"
      ]
     },
     "execution_count": 231,
     "metadata": {},
     "output_type": "execute_result"
    }
   ],
   "source": [
    "tree.predict_proba(X_test)[:,0]"
   ]
  },
  {
   "cell_type": "code",
   "execution_count": null,
   "metadata": {},
   "outputs": [],
   "source": []
  }
 ],
 "metadata": {
  "colab": {
   "name": "Homework_1.ipynb",
   "provenance": []
  },
  "kernelspec": {
   "display_name": "Python 3",
   "language": "python",
   "name": "python3"
  },
  "language_info": {
   "codemirror_mode": {
    "name": "ipython",
    "version": 3
   },
   "file_extension": ".py",
   "mimetype": "text/x-python",
   "name": "python",
   "nbconvert_exporter": "python",
   "pygments_lexer": "ipython3",
   "version": "3.8.8"
  }
 },
 "nbformat": 4,
 "nbformat_minor": 1
}
