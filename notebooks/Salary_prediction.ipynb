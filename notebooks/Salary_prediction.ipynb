{
 "cells": [
  {
   "cell_type": "markdown",
   "metadata": {
    "id": "HnN184fFMZGe"
   },
   "source": [
    "# Salary prediction"
   ]
  },
  {
   "cell_type": "code",
   "execution_count": 118,
   "metadata": {
    "id": "iAJzMEIqMZGi"
   },
   "outputs": [],
   "source": [
    "import pandas as pd\n",
    "import numpy as np\n",
    "import matplotlib.pyplot as plt"
   ]
  },
  {
   "cell_type": "markdown",
   "metadata": {},
   "source": [
    "## Read data"
   ]
  },
  {
   "cell_type": "code",
   "execution_count": 120,
   "metadata": {
    "id": "gQbZKKv9MZGk"
   },
   "outputs": [],
   "source": [
    "df_regression = pd.read_csv('../csv_file/regression.csv')"
   ]
  },
  {
   "cell_type": "markdown",
   "metadata": {},
   "source": [
    "## Data Cleaning"
   ]
  },
  {
   "cell_type": "code",
   "execution_count": 121,
   "metadata": {
    "colab": {
     "base_uri": "https://localhost:8080/"
    },
    "id": "L_BksKl7MZGl",
    "outputId": "7881af67-03a3-42ba-8325-e3d3634dfeff"
   },
   "outputs": [
    {
     "name": "stdout",
     "output_type": "stream",
     "text": [
      "<class 'pandas.core.frame.DataFrame'>\n",
      "RangeIndex: 311 entries, 0 to 310\n",
      "Data columns (total 17 columns):\n",
      " #   Column                Non-Null Count  Dtype  \n",
      "---  ------                --------------  -----  \n",
      " 0   Employee_Name         311 non-null    object \n",
      " 1   EmpID                 311 non-null    int64  \n",
      " 2   EmpStatusID           302 non-null    float64\n",
      " 3   Salary                311 non-null    int64  \n",
      " 4   Termd                 311 non-null    int64  \n",
      " 5   DOB                   311 non-null    object \n",
      " 6   Gender                311 non-null    object \n",
      " 7   MaritalDesc           307 non-null    object \n",
      " 8   CitizenDesc           307 non-null    object \n",
      " 9   DateofHire            311 non-null    object \n",
      " 10  DateofTermination     104 non-null    object \n",
      " 11  PerformanceScore      311 non-null    object \n",
      " 12  EngagementSurvey      311 non-null    float64\n",
      " 13  EmpSatisfaction       311 non-null    int64  \n",
      " 14  SpecialProjectsCount  311 non-null    int64  \n",
      " 15  DaysLateLast30        311 non-null    int64  \n",
      " 16  Absences              311 non-null    int64  \n",
      "dtypes: float64(2), int64(7), object(8)\n",
      "memory usage: 41.4+ KB\n"
     ]
    }
   ],
   "source": [
    "df_regression.info()"
   ]
  },
  {
   "cell_type": "code",
   "execution_count": 123,
   "metadata": {
    "id": "zNKWo116MZGm"
   },
   "outputs": [],
   "source": [
    "df_regression['DateofHire'] = df_regression['DateofHire'].astype(np.datetime64)\n",
    "df_regression['DateofTermination'].fillna('1/1/2022', inplace = True)\n",
    "df_regression['DateofTermination'] = df_regression['DateofTermination'].astype(np.datetime64)\n",
    "df_regression['Years of Tenure'] = df_regression['DateofTermination'].dt.year - df_regression['DateofHire'].dt.year\n",
    "df_regression['Years of Tenure'] = df_regression['Years of Tenure'].astype(int)"
   ]
  },
  {
   "cell_type": "code",
   "execution_count": 66,
   "metadata": {
    "colab": {
     "base_uri": "https://localhost:8080/"
    },
    "id": "yv23RRIUMZGn",
    "outputId": "edd1e49f-7e6e-4018-dd16-93c44116e896"
   },
   "outputs": [
    {
     "data": {
      "text/plain": [
       "6.961414790996785"
      ]
     },
     "execution_count": 66,
     "metadata": {},
     "output_type": "execute_result"
    }
   ],
   "source": [
    "df_regression['Years of Tenure'].mean()"
   ]
  },
  {
   "cell_type": "code",
   "execution_count": 67,
   "metadata": {
    "colab": {
     "base_uri": "https://localhost:8080/"
    },
    "id": "Np_LBD8oMZGn",
    "outputId": "78f1ab03-2365-4745-cc02-cd28603387cc"
   },
   "outputs": [
    {
     "data": {
      "text/plain": [
       "(311, 16)"
      ]
     },
     "execution_count": 67,
     "metadata": {},
     "output_type": "execute_result"
    }
   ],
   "source": [
    "df_regression.drop(['DateofHire', 'DateofTermination'], axis = 1, inplace = True)\n",
    "df_regression.shape"
   ]
  },
  {
   "cell_type": "code",
   "execution_count": 68,
   "metadata": {
    "colab": {
     "base_uri": "https://localhost:8080/"
    },
    "id": "PKDzXVrrMZGo",
    "outputId": "f6fc2499-7954-41b3-bd30-5b126b1e3820"
   },
   "outputs": [
    {
     "data": {
      "text/plain": [
       "42.0"
      ]
     },
     "execution_count": 68,
     "metadata": {},
     "output_type": "execute_result"
    }
   ],
   "source": [
    "df_regression['DOB'] = df_regression['DOB'].astype(np.datetime64)\n",
    "df_regression['Age'] = 2022 - df_regression['DOB'].dt.year\n",
    "df_regression['Age'].median()"
   ]
  },
  {
   "cell_type": "code",
   "execution_count": 69,
   "metadata": {
    "colab": {
     "base_uri": "https://localhost:8080/"
    },
    "id": "GR4f9mYxMZGo",
    "outputId": "5f87c839-3b89-47c8-e7ea-b9ecd4b38723"
   },
   "outputs": [
    {
     "name": "stdout",
     "output_type": "stream",
     "text": [
      "<class 'pandas.core.frame.DataFrame'>\n",
      "RangeIndex: 311 entries, 0 to 310\n",
      "Data columns (total 16 columns):\n",
      " #   Column                Non-Null Count  Dtype  \n",
      "---  ------                --------------  -----  \n",
      " 0   Employee_Name         311 non-null    object \n",
      " 1   EmpID                 311 non-null    int64  \n",
      " 2   EmpStatusID           302 non-null    float64\n",
      " 3   Salary                311 non-null    int64  \n",
      " 4   Termd                 311 non-null    int64  \n",
      " 5   Gender                311 non-null    object \n",
      " 6   MaritalDesc           307 non-null    object \n",
      " 7   CitizenDesc           307 non-null    object \n",
      " 8   PerformanceScore      311 non-null    object \n",
      " 9   EngagementSurvey      311 non-null    float64\n",
      " 10  EmpSatisfaction       311 non-null    int64  \n",
      " 11  SpecialProjectsCount  311 non-null    int64  \n",
      " 12  DaysLateLast30        311 non-null    int64  \n",
      " 13  Absences              311 non-null    int64  \n",
      " 14  Years of Tenure       311 non-null    int32  \n",
      " 15  Age                   311 non-null    int64  \n",
      "dtypes: float64(2), int32(1), int64(8), object(5)\n",
      "memory usage: 37.8+ KB\n"
     ]
    }
   ],
   "source": [
    "df_regression.drop(['DOB'], axis = 1, inplace = True)\n",
    "df_regression.info()"
   ]
  },
  {
   "cell_type": "code",
   "execution_count": 70,
   "metadata": {
    "colab": {
     "base_uri": "https://localhost:8080/"
    },
    "id": "SV-tI-sgMZGp",
    "outputId": "c596326b-7a68-4823-e193-8cb397b739ed"
   },
   "outputs": [
    {
     "data": {
      "text/plain": [
       "17"
      ]
     },
     "execution_count": 70,
     "metadata": {},
     "output_type": "execute_result"
    }
   ],
   "source": [
    "count = 0\n",
    "for col in df_regression.columns:\n",
    "    count += df_regression.shape[0] - df_regression[col].count() \n",
    "    \n",
    "count"
   ]
  },
  {
   "cell_type": "code",
   "execution_count": 71,
   "metadata": {
    "colab": {
     "base_uri": "https://localhost:8080/"
    },
    "id": "fSI8HaxlMZGp",
    "outputId": "abcc6386-0ca8-4ab8-b3dd-884e64744cff"
   },
   "outputs": [
    {
     "data": {
      "text/plain": [
       "(17, 16)"
      ]
     },
     "execution_count": 71,
     "metadata": {},
     "output_type": "execute_result"
    }
   ],
   "source": [
    "df_regression[df_regression.isnull().any(axis = 1)].shape"
   ]
  },
  {
   "cell_type": "code",
   "execution_count": 72,
   "metadata": {
    "colab": {
     "base_uri": "https://localhost:8080/"
    },
    "id": "tZ2kuGlFMZGq",
    "outputId": "9f2d366e-0a98-47fc-fb87-54b7f7973fd4"
   },
   "outputs": [
    {
     "data": {
      "text/plain": [
       "10.237942122186496"
      ]
     },
     "execution_count": 72,
     "metadata": {},
     "output_type": "execute_result"
    }
   ],
   "source": [
    "df_regression['Absences'].astype(float).mean()"
   ]
  },
  {
   "cell_type": "code",
   "execution_count": 73,
   "metadata": {
    "colab": {
     "base_uri": "https://localhost:8080/"
    },
    "id": "3eiWPFgEMZGq",
    "outputId": "858bc0ce-9fdb-40bb-949c-00f012c6101f"
   },
   "outputs": [
    {
     "name": "stdout",
     "output_type": "stream",
     "text": [
      "<class 'pandas.core.frame.DataFrame'>\n",
      "RangeIndex: 311 entries, 0 to 310\n",
      "Data columns (total 16 columns):\n",
      " #   Column                Non-Null Count  Dtype  \n",
      "---  ------                --------------  -----  \n",
      " 0   Employee_Name         311 non-null    object \n",
      " 1   EmpID                 311 non-null    int64  \n",
      " 2   EmpStatusID           302 non-null    float64\n",
      " 3   Salary                311 non-null    int64  \n",
      " 4   Termd                 311 non-null    int64  \n",
      " 5   Gender                311 non-null    object \n",
      " 6   MaritalDesc           307 non-null    object \n",
      " 7   CitizenDesc           307 non-null    object \n",
      " 8   PerformanceScore      311 non-null    object \n",
      " 9   EngagementSurvey      311 non-null    float64\n",
      " 10  EmpSatisfaction       311 non-null    int64  \n",
      " 11  SpecialProjectsCount  311 non-null    int64  \n",
      " 12  DaysLateLast30        311 non-null    int64  \n",
      " 13  Absences              311 non-null    int64  \n",
      " 14  Years of Tenure       311 non-null    int32  \n",
      " 15  Age                   311 non-null    int64  \n",
      "dtypes: float64(2), int32(1), int64(8), object(5)\n",
      "memory usage: 37.8+ KB\n"
     ]
    }
   ],
   "source": [
    "df_regression.info()"
   ]
  },
  {
   "cell_type": "markdown",
   "metadata": {
    "id": "AK1pXYm5MZGr"
   },
   "source": [
    "---"
   ]
  },
  {
   "cell_type": "markdown",
   "metadata": {
    "id": "KZTiMjF7MZGr"
   },
   "source": [
    "# Lab 2"
   ]
  },
  {
   "cell_type": "code",
   "execution_count": 74,
   "metadata": {
    "colab": {
     "base_uri": "https://localhost:8080/"
    },
    "id": "lGZ9Sv-iMZGs",
    "outputId": "25e01c41-8e2a-41ba-fc4b-94d804db5de3"
   },
   "outputs": [
    {
     "data": {
      "text/plain": [
       "1.0    189\n",
       "5.0     85\n",
       "3.0     14\n",
       "4.0     14\n",
       "2.0      9\n",
       "Name: EmpStatusID, dtype: int64"
      ]
     },
     "execution_count": 74,
     "metadata": {},
     "output_type": "execute_result"
    }
   ],
   "source": [
    "df_regression['EmpStatusID'].fillna(df_regression['EmpStatusID'].mode()[0], inplace = True)\n",
    "df_regression['EmpStatusID'].value_counts()"
   ]
  },
  {
   "cell_type": "code",
   "execution_count": 75,
   "metadata": {
    "colab": {
     "base_uri": "https://localhost:8080/"
    },
    "id": "NZD-CpXDMZGs",
    "outputId": "fd0ade94-3201-4f77-b32f-8627fddcd577"
   },
   "outputs": [
    {
     "data": {
      "text/plain": [
       "Single       139\n",
       "Married      123\n",
       "Divorced      30\n",
       "Separated     12\n",
       "Widowed        7\n",
       "Name: MaritalDesc, dtype: int64"
      ]
     },
     "execution_count": 75,
     "metadata": {},
     "output_type": "execute_result"
    }
   ],
   "source": [
    "df_regression['MaritalDesc'].fillna(df_regression['MaritalDesc'].mode()[0], inplace = True)\n",
    "df_regression['MaritalDesc'].value_counts()"
   ]
  },
  {
   "cell_type": "code",
   "execution_count": 76,
   "metadata": {
    "colab": {
     "base_uri": "https://localhost:8080/"
    },
    "id": "ynFgj3yaMZGt",
    "outputId": "ff8d2be6-e489-4e5f-980d-b36912c55856"
   },
   "outputs": [
    {
     "data": {
      "text/plain": [
       "US Citizen             295\n",
       "Eligible NonCitizen     12\n",
       "Non-Citizen              4\n",
       "Name: CitizenDesc, dtype: int64"
      ]
     },
     "execution_count": 76,
     "metadata": {},
     "output_type": "execute_result"
    }
   ],
   "source": [
    "df_regression['CitizenDesc'].fillna(df_regression['CitizenDesc'].mode()[0], inplace = True)\n",
    "df_regression['CitizenDesc'].value_counts()"
   ]
  },
  {
   "cell_type": "code",
   "execution_count": 77,
   "metadata": {
    "colab": {
     "base_uri": "https://localhost:8080/"
    },
    "id": "yrDlfYhqMZGu",
    "outputId": "07ec2202-4a5e-44d4-92c0-72536d4f6900"
   },
   "outputs": [
    {
     "name": "stdout",
     "output_type": "stream",
     "text": [
      "<class 'pandas.core.frame.DataFrame'>\n",
      "RangeIndex: 311 entries, 0 to 310\n",
      "Data columns (total 16 columns):\n",
      " #   Column                Non-Null Count  Dtype  \n",
      "---  ------                --------------  -----  \n",
      " 0   Employee_Name         311 non-null    object \n",
      " 1   EmpID                 311 non-null    int64  \n",
      " 2   EmpStatusID           311 non-null    float64\n",
      " 3   Salary                311 non-null    int64  \n",
      " 4   Termd                 311 non-null    int64  \n",
      " 5   Gender                311 non-null    object \n",
      " 6   MaritalDesc           311 non-null    object \n",
      " 7   CitizenDesc           311 non-null    object \n",
      " 8   PerformanceScore      311 non-null    object \n",
      " 9   EngagementSurvey      311 non-null    float64\n",
      " 10  EmpSatisfaction       311 non-null    int64  \n",
      " 11  SpecialProjectsCount  311 non-null    int64  \n",
      " 12  DaysLateLast30        311 non-null    int64  \n",
      " 13  Absences              311 non-null    int64  \n",
      " 14  Years of Tenure       311 non-null    int32  \n",
      " 15  Age                   311 non-null    int64  \n",
      "dtypes: float64(2), int32(1), int64(8), object(5)\n",
      "memory usage: 37.8+ KB\n"
     ]
    }
   ],
   "source": [
    "df_regression.info()"
   ]
  },
  {
   "cell_type": "code",
   "execution_count": 78,
   "metadata": {
    "id": "qNxczPVUMZGu"
   },
   "outputs": [],
   "source": [
    "df_regression.drop(['Employee_Name', 'EmpID'], axis = 1, inplace = True)"
   ]
  },
  {
   "cell_type": "code",
   "execution_count": 79,
   "metadata": {
    "colab": {
     "base_uri": "https://localhost:8080/"
    },
    "id": "5mYaD_mXMZGv",
    "outputId": "9589b081-0f80-4614-9cf4-9b368d4649f2"
   },
   "outputs": [
    {
     "name": "stdout",
     "output_type": "stream",
     "text": [
      "<class 'pandas.core.frame.DataFrame'>\n",
      "RangeIndex: 311 entries, 0 to 310\n",
      "Data columns (total 18 columns):\n",
      " #   Column                Non-Null Count  Dtype  \n",
      "---  ------                --------------  -----  \n",
      " 0   Salary                311 non-null    int64  \n",
      " 1   Termd                 311 non-null    int64  \n",
      " 2   Gender                311 non-null    object \n",
      " 3   MaritalDesc           311 non-null    object \n",
      " 4   CitizenDesc           311 non-null    object \n",
      " 5   PerformanceScore      311 non-null    object \n",
      " 6   EngagementSurvey      311 non-null    float64\n",
      " 7   EmpSatisfaction       311 non-null    int64  \n",
      " 8   SpecialProjectsCount  311 non-null    int64  \n",
      " 9   DaysLateLast30        311 non-null    int64  \n",
      " 10  Absences              311 non-null    int64  \n",
      " 11  Years of Tenure       311 non-null    int32  \n",
      " 12  Age                   311 non-null    int64  \n",
      " 13  EmpStatusID_1         311 non-null    uint8  \n",
      " 14  EmpStatusID_2         311 non-null    uint8  \n",
      " 15  EmpStatusID_3         311 non-null    uint8  \n",
      " 16  EmpStatusID_4         311 non-null    uint8  \n",
      " 17  EmpStatusID_5         311 non-null    uint8  \n",
      "dtypes: float64(1), int32(1), int64(7), object(4), uint8(5)\n",
      "memory usage: 32.0+ KB\n"
     ]
    }
   ],
   "source": [
    "df_regression['EmpStatusID'] = df_regression['EmpStatusID'].astype(int)\n",
    "cols = pd.get_dummies(df_regression['EmpStatusID'], prefix= 'EmpStatusID')\n",
    "df_regression[cols.columns] = cols\n",
    "df_regression.drop('EmpStatusID', axis = 1, inplace = True)\n",
    "df_regression.info()\n"
   ]
  },
  {
   "cell_type": "code",
   "execution_count": 80,
   "metadata": {
    "colab": {
     "base_uri": "https://localhost:8080/"
    },
    "id": "EDP6dTP5MZGw",
    "outputId": "a59afa22-2cd2-42b4-f30c-0ad5bf766d83"
   },
   "outputs": [
    {
     "name": "stdout",
     "output_type": "stream",
     "text": [
      "<class 'pandas.core.frame.DataFrame'>\n",
      "RangeIndex: 311 entries, 0 to 310\n",
      "Data columns (total 22 columns):\n",
      " #   Column                Non-Null Count  Dtype  \n",
      "---  ------                --------------  -----  \n",
      " 0   Salary                311 non-null    int64  \n",
      " 1   Termd                 311 non-null    int64  \n",
      " 2   Gender                311 non-null    object \n",
      " 3   CitizenDesc           311 non-null    object \n",
      " 4   PerformanceScore      311 non-null    object \n",
      " 5   EngagementSurvey      311 non-null    float64\n",
      " 6   EmpSatisfaction       311 non-null    int64  \n",
      " 7   SpecialProjectsCount  311 non-null    int64  \n",
      " 8   DaysLateLast30        311 non-null    int64  \n",
      " 9   Absences              311 non-null    int64  \n",
      " 10  Years of Tenure       311 non-null    int32  \n",
      " 11  Age                   311 non-null    int64  \n",
      " 12  EmpStatusID_1         311 non-null    uint8  \n",
      " 13  EmpStatusID_2         311 non-null    uint8  \n",
      " 14  EmpStatusID_3         311 non-null    uint8  \n",
      " 15  EmpStatusID_4         311 non-null    uint8  \n",
      " 16  EmpStatusID_5         311 non-null    uint8  \n",
      " 17  Divorced              311 non-null    uint8  \n",
      " 18  Married               311 non-null    uint8  \n",
      " 19  Separated             311 non-null    uint8  \n",
      " 20  Single                311 non-null    uint8  \n",
      " 21  Widowed               311 non-null    uint8  \n",
      "dtypes: float64(1), int32(1), int64(7), object(3), uint8(10)\n",
      "memory usage: 31.1+ KB\n"
     ]
    }
   ],
   "source": [
    "cols = pd.get_dummies(df_regression['MaritalDesc'])\n",
    "df_regression[cols.columns] = cols\n",
    "df_regression.drop('MaritalDesc', axis = 1, inplace = True)\n",
    "df_regression.info()"
   ]
  },
  {
   "cell_type": "code",
   "execution_count": 81,
   "metadata": {
    "colab": {
     "base_uri": "https://localhost:8080/"
    },
    "id": "BraWbA7zMZGw",
    "outputId": "2a344c74-9c6c-41ba-f2b1-07d31c574279"
   },
   "outputs": [
    {
     "name": "stdout",
     "output_type": "stream",
     "text": [
      "<class 'pandas.core.frame.DataFrame'>\n",
      "RangeIndex: 311 entries, 0 to 310\n",
      "Data columns (total 24 columns):\n",
      " #   Column                Non-Null Count  Dtype  \n",
      "---  ------                --------------  -----  \n",
      " 0   Salary                311 non-null    int64  \n",
      " 1   Termd                 311 non-null    int64  \n",
      " 2   Gender                311 non-null    object \n",
      " 3   PerformanceScore      311 non-null    object \n",
      " 4   EngagementSurvey      311 non-null    float64\n",
      " 5   EmpSatisfaction       311 non-null    int64  \n",
      " 6   SpecialProjectsCount  311 non-null    int64  \n",
      " 7   DaysLateLast30        311 non-null    int64  \n",
      " 8   Absences              311 non-null    int64  \n",
      " 9   Years of Tenure       311 non-null    int32  \n",
      " 10  Age                   311 non-null    int64  \n",
      " 11  EmpStatusID_1         311 non-null    uint8  \n",
      " 12  EmpStatusID_2         311 non-null    uint8  \n",
      " 13  EmpStatusID_3         311 non-null    uint8  \n",
      " 14  EmpStatusID_4         311 non-null    uint8  \n",
      " 15  EmpStatusID_5         311 non-null    uint8  \n",
      " 16  Divorced              311 non-null    uint8  \n",
      " 17  Married               311 non-null    uint8  \n",
      " 18  Separated             311 non-null    uint8  \n",
      " 19  Single                311 non-null    uint8  \n",
      " 20  Widowed               311 non-null    uint8  \n",
      " 21  Eligible NonCitizen   311 non-null    uint8  \n",
      " 22  Non-Citizen           311 non-null    uint8  \n",
      " 23  US Citizen            311 non-null    uint8  \n",
      "dtypes: float64(1), int32(1), int64(7), object(2), uint8(13)\n",
      "memory usage: 29.6+ KB\n"
     ]
    }
   ],
   "source": [
    "cols = pd.get_dummies(df_regression['CitizenDesc'])\n",
    "df_regression[cols.columns] = cols\n",
    "df_regression.drop('CitizenDesc', axis = 1, inplace = True)\n",
    "df_regression.info()"
   ]
  },
  {
   "cell_type": "code",
   "execution_count": 82,
   "metadata": {
    "colab": {
     "base_uri": "https://localhost:8080/"
    },
    "id": "vMEQuCE4MZGx",
    "outputId": "209d911f-da59-462b-836c-2d56573af5ec"
   },
   "outputs": [
    {
     "data": {
      "text/plain": [
       "array(['Exceeds', 'Fully Meets', 'Needs Improvement', 'PIP'], dtype=object)"
      ]
     },
     "execution_count": 82,
     "metadata": {},
     "output_type": "execute_result"
    }
   ],
   "source": [
    "df_regression['PerformanceScore'].unique()"
   ]
  },
  {
   "cell_type": "code",
   "execution_count": 83,
   "metadata": {
    "colab": {
     "base_uri": "https://localhost:8080/"
    },
    "id": "X2LjKQjcMZGx",
    "outputId": "2706ae7a-f54f-4b09-f3fe-58c889f252ef"
   },
   "outputs": [
    {
     "data": {
      "text/plain": [
       "Fully Meets          243\n",
       "Exceeds               37\n",
       "Needs Improvement     18\n",
       "PIP                   13\n",
       "Name: PerformanceScore, dtype: int64"
      ]
     },
     "execution_count": 83,
     "metadata": {},
     "output_type": "execute_result"
    }
   ],
   "source": [
    "df_regression['PerformanceScore'].value_counts()"
   ]
  },
  {
   "cell_type": "code",
   "execution_count": 84,
   "metadata": {
    "colab": {
     "base_uri": "https://localhost:8080/"
    },
    "id": "Bt664T_oMZGy",
    "outputId": "f820606e-e7f3-4634-91ab-036f5fb6aaed"
   },
   "outputs": [
    {
     "name": "stdout",
     "output_type": "stream",
     "text": [
      "<class 'pandas.core.frame.DataFrame'>\n",
      "RangeIndex: 311 entries, 0 to 310\n",
      "Data columns (total 24 columns):\n",
      " #   Column                Non-Null Count  Dtype  \n",
      "---  ------                --------------  -----  \n",
      " 0   Salary                311 non-null    int64  \n",
      " 1   Termd                 311 non-null    int64  \n",
      " 2   Gender                311 non-null    object \n",
      " 3   PerformanceScore      311 non-null    int32  \n",
      " 4   EngagementSurvey      311 non-null    float64\n",
      " 5   EmpSatisfaction       311 non-null    int64  \n",
      " 6   SpecialProjectsCount  311 non-null    int64  \n",
      " 7   DaysLateLast30        311 non-null    int64  \n",
      " 8   Absences              311 non-null    int64  \n",
      " 9   Years of Tenure       311 non-null    int32  \n",
      " 10  Age                   311 non-null    int64  \n",
      " 11  EmpStatusID_1         311 non-null    uint8  \n",
      " 12  EmpStatusID_2         311 non-null    uint8  \n",
      " 13  EmpStatusID_3         311 non-null    uint8  \n",
      " 14  EmpStatusID_4         311 non-null    uint8  \n",
      " 15  EmpStatusID_5         311 non-null    uint8  \n",
      " 16  Divorced              311 non-null    uint8  \n",
      " 17  Married               311 non-null    uint8  \n",
      " 18  Separated             311 non-null    uint8  \n",
      " 19  Single                311 non-null    uint8  \n",
      " 20  Widowed               311 non-null    uint8  \n",
      " 21  Eligible NonCitizen   311 non-null    uint8  \n",
      " 22  Non-Citizen           311 non-null    uint8  \n",
      " 23  US Citizen            311 non-null    uint8  \n",
      "dtypes: float64(1), int32(2), int64(7), object(1), uint8(13)\n",
      "memory usage: 28.4+ KB\n"
     ]
    }
   ],
   "source": [
    "df_regression['PerformanceScore'] = df_regression['PerformanceScore'].map({'Exceeds':3, 'Fully Meets':2, 'Needs Improvement':1, 'PIP':0}).astype(int)\n",
    "df_regression.info()"
   ]
  },
  {
   "cell_type": "code",
   "execution_count": 85,
   "metadata": {
    "colab": {
     "base_uri": "https://localhost:8080/"
    },
    "id": "w776hdgSMZGy",
    "outputId": "e540a49b-e2b6-4e80-d4fa-fc3d2a8ca2f7"
   },
   "outputs": [
    {
     "data": {
      "text/plain": [
       "F    176\n",
       "M    135\n",
       "Name: Gender, dtype: int64"
      ]
     },
     "execution_count": 85,
     "metadata": {},
     "output_type": "execute_result"
    }
   ],
   "source": [
    "df_regression['Gender'].value_counts()"
   ]
  },
  {
   "cell_type": "code",
   "execution_count": 86,
   "metadata": {
    "colab": {
     "base_uri": "https://localhost:8080/"
    },
    "id": "hb7bQ_k0MZGz",
    "outputId": "0e4735af-5be5-4846-f7fe-293f7a2bbd72"
   },
   "outputs": [
    {
     "name": "stdout",
     "output_type": "stream",
     "text": [
      "<class 'pandas.core.frame.DataFrame'>\n",
      "RangeIndex: 311 entries, 0 to 310\n",
      "Data columns (total 24 columns):\n",
      " #   Column                Non-Null Count  Dtype  \n",
      "---  ------                --------------  -----  \n",
      " 0   Salary                311 non-null    int64  \n",
      " 1   Termd                 311 non-null    int64  \n",
      " 2   Gender                311 non-null    int32  \n",
      " 3   PerformanceScore      311 non-null    int32  \n",
      " 4   EngagementSurvey      311 non-null    float64\n",
      " 5   EmpSatisfaction       311 non-null    int64  \n",
      " 6   SpecialProjectsCount  311 non-null    int64  \n",
      " 7   DaysLateLast30        311 non-null    int64  \n",
      " 8   Absences              311 non-null    int64  \n",
      " 9   Years of Tenure       311 non-null    int32  \n",
      " 10  Age                   311 non-null    int64  \n",
      " 11  EmpStatusID_1         311 non-null    uint8  \n",
      " 12  EmpStatusID_2         311 non-null    uint8  \n",
      " 13  EmpStatusID_3         311 non-null    uint8  \n",
      " 14  EmpStatusID_4         311 non-null    uint8  \n",
      " 15  EmpStatusID_5         311 non-null    uint8  \n",
      " 16  Divorced              311 non-null    uint8  \n",
      " 17  Married               311 non-null    uint8  \n",
      " 18  Separated             311 non-null    uint8  \n",
      " 19  Single                311 non-null    uint8  \n",
      " 20  Widowed               311 non-null    uint8  \n",
      " 21  Eligible NonCitizen   311 non-null    uint8  \n",
      " 22  Non-Citizen           311 non-null    uint8  \n",
      " 23  US Citizen            311 non-null    uint8  \n",
      "dtypes: float64(1), int32(3), int64(7), uint8(13)\n",
      "memory usage: 27.2 KB\n"
     ]
    }
   ],
   "source": [
    "df_regression['Gender'] = df_regression['Gender'].map({'F':1, 'M':0}).astype(int)\n",
    "df_regression.info()"
   ]
  },
  {
   "cell_type": "code",
   "execution_count": 87,
   "metadata": {
    "colab": {
     "base_uri": "https://localhost:8080/"
    },
    "id": "oUIBSAHvMZG0",
    "outputId": "cb629b9b-7663-481b-c2a3-8be47decdd22"
   },
   "outputs": [
    {
     "data": {
      "text/plain": [
       "(311, 24)"
      ]
     },
     "execution_count": 87,
     "metadata": {},
     "output_type": "execute_result"
    }
   ],
   "source": [
    "df_regression.shape"
   ]
  },
  {
   "cell_type": "markdown",
   "metadata": {
    "id": "gvRc-XbFMZG0"
   },
   "source": [
    "## Data Preparation"
   ]
  },
  {
   "cell_type": "code",
   "execution_count": 88,
   "metadata": {
    "colab": {
     "base_uri": "https://localhost:8080/",
     "height": 261
    },
    "id": "h2sQmjkQMZG0",
    "outputId": "a1ceb5d8-cd12-4f82-c3db-b5891e6281d1"
   },
   "outputs": [
    {
     "data": {
      "text/html": [
       "<div>\n",
       "<style scoped>\n",
       "    .dataframe tbody tr th:only-of-type {\n",
       "        vertical-align: middle;\n",
       "    }\n",
       "\n",
       "    .dataframe tbody tr th {\n",
       "        vertical-align: top;\n",
       "    }\n",
       "\n",
       "    .dataframe thead th {\n",
       "        text-align: right;\n",
       "    }\n",
       "</style>\n",
       "<table border=\"1\" class=\"dataframe\">\n",
       "  <thead>\n",
       "    <tr style=\"text-align: right;\">\n",
       "      <th></th>\n",
       "      <th>Salary</th>\n",
       "      <th>Termd</th>\n",
       "      <th>Gender</th>\n",
       "      <th>PerformanceScore</th>\n",
       "      <th>EngagementSurvey</th>\n",
       "      <th>EmpSatisfaction</th>\n",
       "      <th>SpecialProjectsCount</th>\n",
       "      <th>DaysLateLast30</th>\n",
       "      <th>Absences</th>\n",
       "      <th>Years of Tenure</th>\n",
       "      <th>...</th>\n",
       "      <th>EmpStatusID_4</th>\n",
       "      <th>EmpStatusID_5</th>\n",
       "      <th>Divorced</th>\n",
       "      <th>Married</th>\n",
       "      <th>Separated</th>\n",
       "      <th>Single</th>\n",
       "      <th>Widowed</th>\n",
       "      <th>Eligible NonCitizen</th>\n",
       "      <th>Non-Citizen</th>\n",
       "      <th>US Citizen</th>\n",
       "    </tr>\n",
       "  </thead>\n",
       "  <tbody>\n",
       "    <tr>\n",
       "      <th>0</th>\n",
       "      <td>62506</td>\n",
       "      <td>0</td>\n",
       "      <td>0</td>\n",
       "      <td>3</td>\n",
       "      <td>4.60</td>\n",
       "      <td>5</td>\n",
       "      <td>0</td>\n",
       "      <td>0</td>\n",
       "      <td>1</td>\n",
       "      <td>11</td>\n",
       "      <td>...</td>\n",
       "      <td>0</td>\n",
       "      <td>0</td>\n",
       "      <td>0</td>\n",
       "      <td>0</td>\n",
       "      <td>0</td>\n",
       "      <td>1</td>\n",
       "      <td>0</td>\n",
       "      <td>0</td>\n",
       "      <td>0</td>\n",
       "      <td>1</td>\n",
       "    </tr>\n",
       "    <tr>\n",
       "      <th>1</th>\n",
       "      <td>104437</td>\n",
       "      <td>1</td>\n",
       "      <td>0</td>\n",
       "      <td>2</td>\n",
       "      <td>4.96</td>\n",
       "      <td>3</td>\n",
       "      <td>6</td>\n",
       "      <td>0</td>\n",
       "      <td>17</td>\n",
       "      <td>1</td>\n",
       "      <td>...</td>\n",
       "      <td>0</td>\n",
       "      <td>1</td>\n",
       "      <td>0</td>\n",
       "      <td>1</td>\n",
       "      <td>0</td>\n",
       "      <td>0</td>\n",
       "      <td>0</td>\n",
       "      <td>0</td>\n",
       "      <td>0</td>\n",
       "      <td>1</td>\n",
       "    </tr>\n",
       "    <tr>\n",
       "      <th>2</th>\n",
       "      <td>64955</td>\n",
       "      <td>1</td>\n",
       "      <td>1</td>\n",
       "      <td>2</td>\n",
       "      <td>3.02</td>\n",
       "      <td>3</td>\n",
       "      <td>0</td>\n",
       "      <td>0</td>\n",
       "      <td>3</td>\n",
       "      <td>1</td>\n",
       "      <td>...</td>\n",
       "      <td>0</td>\n",
       "      <td>1</td>\n",
       "      <td>0</td>\n",
       "      <td>1</td>\n",
       "      <td>0</td>\n",
       "      <td>0</td>\n",
       "      <td>0</td>\n",
       "      <td>0</td>\n",
       "      <td>0</td>\n",
       "      <td>1</td>\n",
       "    </tr>\n",
       "    <tr>\n",
       "      <th>3</th>\n",
       "      <td>64991</td>\n",
       "      <td>0</td>\n",
       "      <td>1</td>\n",
       "      <td>2</td>\n",
       "      <td>4.84</td>\n",
       "      <td>5</td>\n",
       "      <td>0</td>\n",
       "      <td>0</td>\n",
       "      <td>15</td>\n",
       "      <td>14</td>\n",
       "      <td>...</td>\n",
       "      <td>0</td>\n",
       "      <td>0</td>\n",
       "      <td>0</td>\n",
       "      <td>1</td>\n",
       "      <td>0</td>\n",
       "      <td>0</td>\n",
       "      <td>0</td>\n",
       "      <td>0</td>\n",
       "      <td>0</td>\n",
       "      <td>1</td>\n",
       "    </tr>\n",
       "    <tr>\n",
       "      <th>4</th>\n",
       "      <td>50825</td>\n",
       "      <td>1</td>\n",
       "      <td>1</td>\n",
       "      <td>2</td>\n",
       "      <td>5.00</td>\n",
       "      <td>4</td>\n",
       "      <td>0</td>\n",
       "      <td>0</td>\n",
       "      <td>2</td>\n",
       "      <td>5</td>\n",
       "      <td>...</td>\n",
       "      <td>0</td>\n",
       "      <td>1</td>\n",
       "      <td>1</td>\n",
       "      <td>0</td>\n",
       "      <td>0</td>\n",
       "      <td>0</td>\n",
       "      <td>0</td>\n",
       "      <td>0</td>\n",
       "      <td>0</td>\n",
       "      <td>1</td>\n",
       "    </tr>\n",
       "  </tbody>\n",
       "</table>\n",
       "<p>5 rows × 24 columns</p>\n",
       "</div>"
      ],
      "text/plain": [
       "   Salary  Termd  Gender  PerformanceScore  EngagementSurvey  EmpSatisfaction  \\\n",
       "0   62506      0       0                 3              4.60                5   \n",
       "1  104437      1       0                 2              4.96                3   \n",
       "2   64955      1       1                 2              3.02                3   \n",
       "3   64991      0       1                 2              4.84                5   \n",
       "4   50825      1       1                 2              5.00                4   \n",
       "\n",
       "   SpecialProjectsCount  DaysLateLast30  Absences  Years of Tenure  ...  \\\n",
       "0                     0               0         1               11  ...   \n",
       "1                     6               0        17                1  ...   \n",
       "2                     0               0         3                1  ...   \n",
       "3                     0               0        15               14  ...   \n",
       "4                     0               0         2                5  ...   \n",
       "\n",
       "   EmpStatusID_4  EmpStatusID_5  Divorced  Married  Separated  Single  \\\n",
       "0              0              0         0        0          0       1   \n",
       "1              0              1         0        1          0       0   \n",
       "2              0              1         0        1          0       0   \n",
       "3              0              0         0        1          0       0   \n",
       "4              0              1         1        0          0       0   \n",
       "\n",
       "   Widowed  Eligible NonCitizen  Non-Citizen  US Citizen  \n",
       "0        0                    0            0           1  \n",
       "1        0                    0            0           1  \n",
       "2        0                    0            0           1  \n",
       "3        0                    0            0           1  \n",
       "4        0                    0            0           1  \n",
       "\n",
       "[5 rows x 24 columns]"
      ]
     },
     "execution_count": 88,
     "metadata": {},
     "output_type": "execute_result"
    }
   ],
   "source": [
    "df_regression.head()"
   ]
  },
  {
   "cell_type": "markdown",
   "metadata": {},
   "source": [
    "### Train-test split"
   ]
  },
  {
   "cell_type": "code",
   "execution_count": 89,
   "metadata": {
    "id": "nfc_BYxuMZG1"
   },
   "outputs": [],
   "source": [
    "from sklearn.model_selection import train_test_split\n",
    "from sklearn.preprocessing import StandardScaler\n",
    "X = df_regression.drop('Salary', axis = 1)\n",
    "y = df_regression['Salary']\n",
    "\n",
    "X_train_orig, X_test_orig, y_train, y_test = train_test_split(X, y, random_state = 0)\n",
    "\n",
    "\n",
    "scaler = StandardScaler()\n",
    "X_train = scaler.fit_transform(X_train_orig)\n",
    "X_test = scaler.transform(X_test_orig)"
   ]
  },
  {
   "cell_type": "code",
   "execution_count": 90,
   "metadata": {
    "colab": {
     "base_uri": "https://localhost:8080/",
     "height": 243
    },
    "id": "r2XBdxLAMZG1",
    "outputId": "a9a3b37d-b9b8-4a2f-a1b7-211a1fbb8fe9"
   },
   "outputs": [
    {
     "data": {
      "text/html": [
       "<div>\n",
       "<style scoped>\n",
       "    .dataframe tbody tr th:only-of-type {\n",
       "        vertical-align: middle;\n",
       "    }\n",
       "\n",
       "    .dataframe tbody tr th {\n",
       "        vertical-align: top;\n",
       "    }\n",
       "\n",
       "    .dataframe thead th {\n",
       "        text-align: right;\n",
       "    }\n",
       "</style>\n",
       "<table border=\"1\" class=\"dataframe\">\n",
       "  <thead>\n",
       "    <tr style=\"text-align: right;\">\n",
       "      <th></th>\n",
       "      <th>Termd</th>\n",
       "      <th>Gender</th>\n",
       "      <th>PerformanceScore</th>\n",
       "      <th>EngagementSurvey</th>\n",
       "      <th>EmpSatisfaction</th>\n",
       "      <th>SpecialProjectsCount</th>\n",
       "      <th>DaysLateLast30</th>\n",
       "      <th>Absences</th>\n",
       "      <th>Years of Tenure</th>\n",
       "      <th>Age</th>\n",
       "      <th>...</th>\n",
       "      <th>EmpStatusID_4</th>\n",
       "      <th>EmpStatusID_5</th>\n",
       "      <th>Divorced</th>\n",
       "      <th>Married</th>\n",
       "      <th>Separated</th>\n",
       "      <th>Single</th>\n",
       "      <th>Widowed</th>\n",
       "      <th>Eligible NonCitizen</th>\n",
       "      <th>Non-Citizen</th>\n",
       "      <th>US Citizen</th>\n",
       "    </tr>\n",
       "  </thead>\n",
       "  <tbody>\n",
       "    <tr>\n",
       "      <th>0</th>\n",
       "      <td>1.344332</td>\n",
       "      <td>-1.153256</td>\n",
       "      <td>1.703128</td>\n",
       "      <td>1.138943</td>\n",
       "      <td>-0.929092</td>\n",
       "      <td>-0.525316</td>\n",
       "      <td>-0.343888</td>\n",
       "      <td>-0.511747</td>\n",
       "      <td>-1.201727</td>\n",
       "      <td>2.273953</td>\n",
       "      <td>...</td>\n",
       "      <td>-0.222597</td>\n",
       "      <td>1.574043</td>\n",
       "      <td>-0.314733</td>\n",
       "      <td>-0.807764</td>\n",
       "      <td>-0.188562</td>\n",
       "      <td>1.075829</td>\n",
       "      <td>-0.132164</td>\n",
       "      <td>-0.175993</td>\n",
       "      <td>-0.114208</td>\n",
       "      <td>0.211762</td>\n",
       "    </tr>\n",
       "    <tr>\n",
       "      <th>1</th>\n",
       "      <td>-0.743864</td>\n",
       "      <td>-1.153256</td>\n",
       "      <td>0.063339</td>\n",
       "      <td>-1.177928</td>\n",
       "      <td>1.214258</td>\n",
       "      <td>-0.525316</td>\n",
       "      <td>-0.343888</td>\n",
       "      <td>-1.033191</td>\n",
       "      <td>0.378422</td>\n",
       "      <td>0.263633</td>\n",
       "      <td>...</td>\n",
       "      <td>-0.222597</td>\n",
       "      <td>-0.635307</td>\n",
       "      <td>-0.314733</td>\n",
       "      <td>-0.807764</td>\n",
       "      <td>-0.188562</td>\n",
       "      <td>1.075829</td>\n",
       "      <td>-0.132164</td>\n",
       "      <td>-0.175993</td>\n",
       "      <td>-0.114208</td>\n",
       "      <td>0.211762</td>\n",
       "    </tr>\n",
       "    <tr>\n",
       "      <th>2</th>\n",
       "      <td>-0.743864</td>\n",
       "      <td>0.867110</td>\n",
       "      <td>0.063339</td>\n",
       "      <td>0.893771</td>\n",
       "      <td>0.142583</td>\n",
       "      <td>-0.525316</td>\n",
       "      <td>-0.343888</td>\n",
       "      <td>-1.033191</td>\n",
       "      <td>1.010482</td>\n",
       "      <td>-0.853212</td>\n",
       "      <td>...</td>\n",
       "      <td>-0.222597</td>\n",
       "      <td>-0.635307</td>\n",
       "      <td>-0.314733</td>\n",
       "      <td>-0.807764</td>\n",
       "      <td>-0.188562</td>\n",
       "      <td>1.075829</td>\n",
       "      <td>-0.132164</td>\n",
       "      <td>-0.175993</td>\n",
       "      <td>-0.114208</td>\n",
       "      <td>0.211762</td>\n",
       "    </tr>\n",
       "    <tr>\n",
       "      <th>3</th>\n",
       "      <td>-0.743864</td>\n",
       "      <td>0.867110</td>\n",
       "      <td>1.703128</td>\n",
       "      <td>0.280842</td>\n",
       "      <td>-0.929092</td>\n",
       "      <td>-0.525316</td>\n",
       "      <td>-0.343888</td>\n",
       "      <td>-1.554635</td>\n",
       "      <td>0.378422</td>\n",
       "      <td>1.045424</td>\n",
       "      <td>...</td>\n",
       "      <td>-0.222597</td>\n",
       "      <td>-0.635307</td>\n",
       "      <td>-0.314733</td>\n",
       "      <td>-0.807764</td>\n",
       "      <td>-0.188562</td>\n",
       "      <td>1.075829</td>\n",
       "      <td>-0.132164</td>\n",
       "      <td>-0.175993</td>\n",
       "      <td>-0.114208</td>\n",
       "      <td>0.211762</td>\n",
       "    </tr>\n",
       "    <tr>\n",
       "      <th>4</th>\n",
       "      <td>-0.743864</td>\n",
       "      <td>0.867110</td>\n",
       "      <td>0.063339</td>\n",
       "      <td>0.526014</td>\n",
       "      <td>-2.000767</td>\n",
       "      <td>1.922656</td>\n",
       "      <td>-0.343888</td>\n",
       "      <td>0.704957</td>\n",
       "      <td>2.274602</td>\n",
       "      <td>-0.964896</td>\n",
       "      <td>...</td>\n",
       "      <td>-0.222597</td>\n",
       "      <td>-0.635307</td>\n",
       "      <td>-0.314733</td>\n",
       "      <td>1.237986</td>\n",
       "      <td>-0.188562</td>\n",
       "      <td>-0.929516</td>\n",
       "      <td>-0.132164</td>\n",
       "      <td>-0.175993</td>\n",
       "      <td>-0.114208</td>\n",
       "      <td>0.211762</td>\n",
       "    </tr>\n",
       "  </tbody>\n",
       "</table>\n",
       "<p>5 rows × 23 columns</p>\n",
       "</div>"
      ],
      "text/plain": [
       "      Termd    Gender  PerformanceScore  EngagementSurvey  EmpSatisfaction  \\\n",
       "0  1.344332 -1.153256          1.703128          1.138943        -0.929092   \n",
       "1 -0.743864 -1.153256          0.063339         -1.177928         1.214258   \n",
       "2 -0.743864  0.867110          0.063339          0.893771         0.142583   \n",
       "3 -0.743864  0.867110          1.703128          0.280842        -0.929092   \n",
       "4 -0.743864  0.867110          0.063339          0.526014        -2.000767   \n",
       "\n",
       "   SpecialProjectsCount  DaysLateLast30  Absences  Years of Tenure       Age  \\\n",
       "0             -0.525316       -0.343888 -0.511747        -1.201727  2.273953   \n",
       "1             -0.525316       -0.343888 -1.033191         0.378422  0.263633   \n",
       "2             -0.525316       -0.343888 -1.033191         1.010482 -0.853212   \n",
       "3             -0.525316       -0.343888 -1.554635         0.378422  1.045424   \n",
       "4              1.922656       -0.343888  0.704957         2.274602 -0.964896   \n",
       "\n",
       "   ...  EmpStatusID_4  EmpStatusID_5  Divorced   Married  Separated    Single  \\\n",
       "0  ...      -0.222597       1.574043 -0.314733 -0.807764  -0.188562  1.075829   \n",
       "1  ...      -0.222597      -0.635307 -0.314733 -0.807764  -0.188562  1.075829   \n",
       "2  ...      -0.222597      -0.635307 -0.314733 -0.807764  -0.188562  1.075829   \n",
       "3  ...      -0.222597      -0.635307 -0.314733 -0.807764  -0.188562  1.075829   \n",
       "4  ...      -0.222597      -0.635307 -0.314733  1.237986  -0.188562 -0.929516   \n",
       "\n",
       "    Widowed  Eligible NonCitizen  Non-Citizen  US Citizen  \n",
       "0 -0.132164            -0.175993    -0.114208    0.211762  \n",
       "1 -0.132164            -0.175993    -0.114208    0.211762  \n",
       "2 -0.132164            -0.175993    -0.114208    0.211762  \n",
       "3 -0.132164            -0.175993    -0.114208    0.211762  \n",
       "4 -0.132164            -0.175993    -0.114208    0.211762  \n",
       "\n",
       "[5 rows x 23 columns]"
      ]
     },
     "execution_count": 90,
     "metadata": {},
     "output_type": "execute_result"
    }
   ],
   "source": [
    "X_train_df_regression = pd.DataFrame(X_train, columns= X.columns)\n",
    "X_test_df_regression = pd.DataFrame(X_test, columns= X.columns)\n",
    "\n",
    "X_train_df_regression.head()"
   ]
  },
  {
   "cell_type": "code",
   "execution_count": 91,
   "metadata": {
    "colab": {
     "base_uri": "https://localhost:8080/"
    },
    "id": "72KSz4rfMZG2",
    "outputId": "18f868eb-0176-41dc-df1b-57149aef677d"
   },
   "outputs": [
    {
     "data": {
      "text/plain": [
       "69205.03846153847"
      ]
     },
     "execution_count": 91,
     "metadata": {},
     "output_type": "execute_result"
    }
   ],
   "source": [
    "y_test.mean()"
   ]
  },
  {
   "cell_type": "markdown",
   "metadata": {},
   "source": [
    "## Model Training"
   ]
  },
  {
   "cell_type": "markdown",
   "metadata": {},
   "source": [
    "### Linear Regression"
   ]
  },
  {
   "cell_type": "code",
   "execution_count": 92,
   "metadata": {
    "colab": {
     "base_uri": "https://localhost:8080/"
    },
    "id": "dKDRXjsWMZG2",
    "outputId": "e0b5f824-d4fa-4b96-fa78-39172c9efb87"
   },
   "outputs": [
    {
     "data": {
      "text/plain": [
       "0.2847958989579439"
      ]
     },
     "execution_count": 92,
     "metadata": {},
     "output_type": "execute_result"
    }
   ],
   "source": [
    "from sklearn.linear_model import LinearRegression\n",
    "\n",
    "lreg = LinearRegression()\n",
    "lreg.fit(X_train, y_train)\n",
    "lreg.score(X_test, y_test)"
   ]
  },
  {
   "cell_type": "code",
   "execution_count": 93,
   "metadata": {
    "colab": {
     "base_uri": "https://localhost:8080/"
    },
    "id": "el4LIAmzMZG3",
    "outputId": "481ae471-57d0-4d9b-f60c-f8441d47940d"
   },
   "outputs": [
    {
     "data": {
      "text/plain": [
       "0.30740909242672354"
      ]
     },
     "execution_count": 93,
     "metadata": {},
     "output_type": "execute_result"
    }
   ],
   "source": [
    "lreg.score(X_train, y_train)"
   ]
  },
  {
   "cell_type": "markdown",
   "metadata": {},
   "source": [
    "### Lasso Regression - hyperparameter tuning"
   ]
  },
  {
   "cell_type": "code",
   "execution_count": 94,
   "metadata": {
    "colab": {
     "base_uri": "https://localhost:8080/"
    },
    "id": "wzdKpe9LMZG3",
    "outputId": "5739ea94-f39f-4740-f2df-6c707c311204"
   },
   "outputs": [
    {
     "name": "stdout",
     "output_type": "stream",
     "text": [
      "alpha:  1\n",
      "[ -183.82297514    78.02777328  1642.28334319  1307.84206705\n",
      "  1372.07062015 12833.69624092  2399.00640441  2346.99344264\n",
      "  1170.87938956  5317.90326076     0.           441.98112531\n",
      " -1211.2182427    882.93483714  -977.28978894 -1246.7522953\n",
      "   460.20249514 -1579.66940581     0.          -430.62770442\n",
      "   181.74007174   653.88688473  -765.07291268]\n",
      "alpha:  10\n",
      "[ -128.50926816    66.13142474  1619.03430655  1289.71052404\n",
      "  1361.27729787 12823.78183448  2352.73708038  2341.62264531\n",
      "  1167.02226476  5300.59145793     0.           434.94809438\n",
      " -1198.82913705   858.66423469 -1014.7302432  -1240.7627572\n",
      "   446.16233004 -1571.57814256     0.          -423.08875582\n",
      "     0.           524.50057383  -977.5133459 ]\n",
      "alpha:  100\n",
      "[   -0.             0.          1383.77515449  1100.75689627\n",
      "  1254.04034445 12715.34223138  1908.02577722  2272.37656613\n",
      "  1047.90666096  5150.11271655     0.           345.64192331\n",
      " -1086.54289899   764.4596627  -1067.52011299 -1174.71677284\n",
      "   320.60473223 -1486.75816844     0.          -348.36196336\n",
      "     0.           435.51037292  -943.80588061]\n",
      "alpha:  1000\n",
      "[   -0.            -0.           194.36215648     0.\n",
      "   333.8573093  11917.80965425     0.          1453.91113806\n",
      "     0.          3781.72285466     0.             0.\n",
      "    -0.            19.99088197  -484.20187992  -252.98684485\n",
      "     0.          -471.26183313     0.            -0.\n",
      "     0.             0.          -320.42759737]\n"
     ]
    }
   ],
   "source": [
    "from sklearn.linear_model import Lasso\n",
    "for alpha in [1, 10, 100, 1000]:\n",
    "    lasso = Lasso(random_state = 0, alpha = alpha, max_iter = 10000)\n",
    "    lasso.fit(X_train, y_train)\n",
    "    print('alpha: ', alpha)\n",
    "    print(lasso.coef_)"
   ]
  },
  {
   "cell_type": "code",
   "execution_count": 95,
   "metadata": {
    "colab": {
     "base_uri": "https://localhost:8080/"
    },
    "id": "G2-P9BkeMZG4",
    "outputId": "e16a7788-f3da-4806-c2e2-7b343434e6d7"
   },
   "outputs": [
    {
     "name": "stdout",
     "output_type": "stream",
     "text": [
      "train:  0.2854761956682975\n",
      "test:  0.2988094307536576\n"
     ]
    }
   ],
   "source": [
    "lasso = Lasso(alpha = 1000, random_state= 0)\n",
    "lasso.fit(X_train, y_train)\n",
    "print('train: ', lasso.score(X_train, y_train))\n",
    "print('test: ', lasso.score(X_test, y_test))"
   ]
  },
  {
   "cell_type": "markdown",
   "metadata": {},
   "source": [
    "### Polynomial Regression"
   ]
  },
  {
   "cell_type": "code",
   "execution_count": 96,
   "metadata": {
    "id": "4ogXm30DMZG4"
   },
   "outputs": [],
   "source": [
    "from sklearn.preprocessing import PolynomialFeatures\n",
    "\n",
    "poly = PolynomialFeatures(degree = 2)\n",
    "X_train_poly = poly.fit_transform(X_train)\n",
    "X_test_poly = poly.transform(X_test)\n",
    "lreg = LinearRegression()"
   ]
  },
  {
   "cell_type": "code",
   "execution_count": 97,
   "metadata": {
    "colab": {
     "base_uri": "https://localhost:8080/"
    },
    "id": "-3iWZxGdMZG5",
    "outputId": "c74c8bb9-eb41-4434-9039-23661e46db5a"
   },
   "outputs": [
    {
     "data": {
      "text/plain": [
       "(233, 300)"
      ]
     },
     "execution_count": 97,
     "metadata": {},
     "output_type": "execute_result"
    }
   ],
   "source": [
    "X_train_poly.shape"
   ]
  },
  {
   "cell_type": "code",
   "execution_count": 98,
   "metadata": {
    "colab": {
     "base_uri": "https://localhost:8080/"
    },
    "id": "LhdZLViJMZG5",
    "outputId": "66f123c5-ae49-4113-f489-a1623ab806c4"
   },
   "outputs": [
    {
     "data": {
      "text/plain": [
       "0.714378665438317"
      ]
     },
     "execution_count": 98,
     "metadata": {},
     "output_type": "execute_result"
    }
   ],
   "source": [
    "lreg.fit(X_train_poly, y_train)\n",
    "lreg.score(X_train_poly, y_train)"
   ]
  },
  {
   "cell_type": "code",
   "execution_count": 99,
   "metadata": {
    "colab": {
     "base_uri": "https://localhost:8080/"
    },
    "id": "q9nDs__mMZG5",
    "outputId": "6b1a4900-5641-4d08-fbcd-b176085f455d"
   },
   "outputs": [
    {
     "name": "stdout",
     "output_type": "stream",
     "text": [
      "-29459376736403877326225408.000000\n"
     ]
    }
   ],
   "source": [
    "print('%f'%lreg.score(X_test_poly, y_test))"
   ]
  },
  {
   "cell_type": "markdown",
   "metadata": {
    "id": "VLWEdm74inPc"
   },
   "source": [
    "We usually use the LinearRegression as a base model to evaluate other regression models. You have already fit a LinearRegression model on this dataset in Lab 3. Which of the following models with all default hyperparameters and random_state = 0 overperform LinearRegression model? Only consider the train score."
   ]
  },
  {
   "cell_type": "code",
   "execution_count": 101,
   "metadata": {
    "colab": {
     "base_uri": "https://localhost:8080/",
     "height": 261
    },
    "id": "xG6ZTBRGPipf",
    "outputId": "2a4503de-d34e-4015-fe99-4aad7efc934a"
   },
   "outputs": [
    {
     "data": {
      "text/html": [
       "<div>\n",
       "<style scoped>\n",
       "    .dataframe tbody tr th:only-of-type {\n",
       "        vertical-align: middle;\n",
       "    }\n",
       "\n",
       "    .dataframe tbody tr th {\n",
       "        vertical-align: top;\n",
       "    }\n",
       "\n",
       "    .dataframe thead th {\n",
       "        text-align: right;\n",
       "    }\n",
       "</style>\n",
       "<table border=\"1\" class=\"dataframe\">\n",
       "  <thead>\n",
       "    <tr style=\"text-align: right;\">\n",
       "      <th></th>\n",
       "      <th>Salary</th>\n",
       "      <th>Termd</th>\n",
       "      <th>Gender</th>\n",
       "      <th>PerformanceScore</th>\n",
       "      <th>EngagementSurvey</th>\n",
       "      <th>EmpSatisfaction</th>\n",
       "      <th>SpecialProjectsCount</th>\n",
       "      <th>DaysLateLast30</th>\n",
       "      <th>Absences</th>\n",
       "      <th>Years of Tenure</th>\n",
       "      <th>...</th>\n",
       "      <th>EmpStatusID_4</th>\n",
       "      <th>EmpStatusID_5</th>\n",
       "      <th>Divorced</th>\n",
       "      <th>Married</th>\n",
       "      <th>Separated</th>\n",
       "      <th>Single</th>\n",
       "      <th>Widowed</th>\n",
       "      <th>Eligible NonCitizen</th>\n",
       "      <th>Non-Citizen</th>\n",
       "      <th>US Citizen</th>\n",
       "    </tr>\n",
       "  </thead>\n",
       "  <tbody>\n",
       "    <tr>\n",
       "      <th>0</th>\n",
       "      <td>62506</td>\n",
       "      <td>0</td>\n",
       "      <td>0</td>\n",
       "      <td>3</td>\n",
       "      <td>4.60</td>\n",
       "      <td>5</td>\n",
       "      <td>0</td>\n",
       "      <td>0</td>\n",
       "      <td>1</td>\n",
       "      <td>11</td>\n",
       "      <td>...</td>\n",
       "      <td>0</td>\n",
       "      <td>0</td>\n",
       "      <td>0</td>\n",
       "      <td>0</td>\n",
       "      <td>0</td>\n",
       "      <td>1</td>\n",
       "      <td>0</td>\n",
       "      <td>0</td>\n",
       "      <td>0</td>\n",
       "      <td>1</td>\n",
       "    </tr>\n",
       "    <tr>\n",
       "      <th>1</th>\n",
       "      <td>104437</td>\n",
       "      <td>1</td>\n",
       "      <td>0</td>\n",
       "      <td>2</td>\n",
       "      <td>4.96</td>\n",
       "      <td>3</td>\n",
       "      <td>6</td>\n",
       "      <td>0</td>\n",
       "      <td>17</td>\n",
       "      <td>1</td>\n",
       "      <td>...</td>\n",
       "      <td>0</td>\n",
       "      <td>1</td>\n",
       "      <td>0</td>\n",
       "      <td>1</td>\n",
       "      <td>0</td>\n",
       "      <td>0</td>\n",
       "      <td>0</td>\n",
       "      <td>0</td>\n",
       "      <td>0</td>\n",
       "      <td>1</td>\n",
       "    </tr>\n",
       "    <tr>\n",
       "      <th>2</th>\n",
       "      <td>64955</td>\n",
       "      <td>1</td>\n",
       "      <td>1</td>\n",
       "      <td>2</td>\n",
       "      <td>3.02</td>\n",
       "      <td>3</td>\n",
       "      <td>0</td>\n",
       "      <td>0</td>\n",
       "      <td>3</td>\n",
       "      <td>1</td>\n",
       "      <td>...</td>\n",
       "      <td>0</td>\n",
       "      <td>1</td>\n",
       "      <td>0</td>\n",
       "      <td>1</td>\n",
       "      <td>0</td>\n",
       "      <td>0</td>\n",
       "      <td>0</td>\n",
       "      <td>0</td>\n",
       "      <td>0</td>\n",
       "      <td>1</td>\n",
       "    </tr>\n",
       "    <tr>\n",
       "      <th>3</th>\n",
       "      <td>64991</td>\n",
       "      <td>0</td>\n",
       "      <td>1</td>\n",
       "      <td>2</td>\n",
       "      <td>4.84</td>\n",
       "      <td>5</td>\n",
       "      <td>0</td>\n",
       "      <td>0</td>\n",
       "      <td>15</td>\n",
       "      <td>14</td>\n",
       "      <td>...</td>\n",
       "      <td>0</td>\n",
       "      <td>0</td>\n",
       "      <td>0</td>\n",
       "      <td>1</td>\n",
       "      <td>0</td>\n",
       "      <td>0</td>\n",
       "      <td>0</td>\n",
       "      <td>0</td>\n",
       "      <td>0</td>\n",
       "      <td>1</td>\n",
       "    </tr>\n",
       "    <tr>\n",
       "      <th>4</th>\n",
       "      <td>50825</td>\n",
       "      <td>1</td>\n",
       "      <td>1</td>\n",
       "      <td>2</td>\n",
       "      <td>5.00</td>\n",
       "      <td>4</td>\n",
       "      <td>0</td>\n",
       "      <td>0</td>\n",
       "      <td>2</td>\n",
       "      <td>5</td>\n",
       "      <td>...</td>\n",
       "      <td>0</td>\n",
       "      <td>1</td>\n",
       "      <td>1</td>\n",
       "      <td>0</td>\n",
       "      <td>0</td>\n",
       "      <td>0</td>\n",
       "      <td>0</td>\n",
       "      <td>0</td>\n",
       "      <td>0</td>\n",
       "      <td>1</td>\n",
       "    </tr>\n",
       "  </tbody>\n",
       "</table>\n",
       "<p>5 rows × 24 columns</p>\n",
       "</div>"
      ],
      "text/plain": [
       "   Salary  Termd  Gender  PerformanceScore  EngagementSurvey  EmpSatisfaction  \\\n",
       "0   62506      0       0                 3              4.60                5   \n",
       "1  104437      1       0                 2              4.96                3   \n",
       "2   64955      1       1                 2              3.02                3   \n",
       "3   64991      0       1                 2              4.84                5   \n",
       "4   50825      1       1                 2              5.00                4   \n",
       "\n",
       "   SpecialProjectsCount  DaysLateLast30  Absences  Years of Tenure  ...  \\\n",
       "0                     0               0         1               11  ...   \n",
       "1                     6               0        17                1  ...   \n",
       "2                     0               0         3                1  ...   \n",
       "3                     0               0        15               14  ...   \n",
       "4                     0               0         2                5  ...   \n",
       "\n",
       "   EmpStatusID_4  EmpStatusID_5  Divorced  Married  Separated  Single  \\\n",
       "0              0              0         0        0          0       1   \n",
       "1              0              1         0        1          0       0   \n",
       "2              0              1         0        1          0       0   \n",
       "3              0              0         0        1          0       0   \n",
       "4              0              1         1        0          0       0   \n",
       "\n",
       "   Widowed  Eligible NonCitizen  Non-Citizen  US Citizen  \n",
       "0        0                    0            0           1  \n",
       "1        0                    0            0           1  \n",
       "2        0                    0            0           1  \n",
       "3        0                    0            0           1  \n",
       "4        0                    0            0           1  \n",
       "\n",
       "[5 rows x 24 columns]"
      ]
     },
     "execution_count": 101,
     "metadata": {},
     "output_type": "execute_result"
    }
   ],
   "source": [
    "df_regression.head()"
   ]
  },
  {
   "cell_type": "markdown",
   "metadata": {},
   "source": [
    "### SGD Regression"
   ]
  },
  {
   "cell_type": "code",
   "execution_count": 102,
   "metadata": {
    "colab": {
     "base_uri": "https://localhost:8080/"
    },
    "id": "3PP9eBZvQBK7",
    "outputId": "d29c629e-cb54-4c2c-be44-f2c62ddb596e"
   },
   "outputs": [
    {
     "name": "stdout",
     "output_type": "stream",
     "text": [
      "0.30733867175425555\n",
      "0.2835852135730744\n"
     ]
    }
   ],
   "source": [
    "#SGDRegressor(random_state = 0)\n",
    "from sklearn.linear_model import SGDRegressor\n",
    "\n",
    "sgd_reg = SGDRegressor(random_state= 0)\n",
    "sgd_reg.fit(X_train, y_train)\n",
    "print(sgd_reg.score(X_train, y_train))\n",
    "print(sgd_reg.score(X_test, y_test))"
   ]
  },
  {
   "cell_type": "markdown",
   "metadata": {},
   "source": [
    "### Ridge Regression"
   ]
  },
  {
   "cell_type": "code",
   "execution_count": 103,
   "metadata": {
    "colab": {
     "base_uri": "https://localhost:8080/"
    },
    "id": "S0R5N2LLjvsA",
    "outputId": "1bbf709d-6a36-4e15-a083-4dfad6e5ece7"
   },
   "outputs": [
    {
     "name": "stdout",
     "output_type": "stream",
     "text": [
      "0.3074008790517977\n"
     ]
    }
   ],
   "source": [
    "#Ridge(random_state = 0)\n",
    "from sklearn.linear_model import Ridge\n",
    "\n",
    "ridge = Ridge(random_state= 0)\n",
    "ridge.fit(X_train, y_train)\n",
    "print(ridge.score(X_train, y_train))\n"
   ]
  },
  {
   "cell_type": "markdown",
   "metadata": {},
   "source": [
    "### Lasso Regression"
   ]
  },
  {
   "cell_type": "code",
   "execution_count": 104,
   "metadata": {
    "colab": {
     "base_uri": "https://localhost:8080/"
    },
    "id": "0nmEB6z-kiYS",
    "outputId": "ebaaefe1-aaff-4b11-ebed-b984769de6d4"
   },
   "outputs": [
    {
     "name": "stdout",
     "output_type": "stream",
     "text": [
      "0.3074090511029981\n"
     ]
    },
    {
     "name": "stderr",
     "output_type": "stream",
     "text": [
      "C:\\Users\\Shiva\\Anaconda3\\lib\\site-packages\\sklearn\\linear_model\\_coordinate_descent.py:530: ConvergenceWarning: Objective did not converge. You might want to increase the number of iterations. Duality gap: 164342122.16352844, tolerance: 15811677.83887897\n",
      "  model = cd_fast.enet_coordinate_descent(\n"
     ]
    }
   ],
   "source": [
    "#Lasso(random_state = 0)\n",
    "from sklearn.linear_model import Lasso\n",
    "\n",
    "lasso = Lasso(random_state= 0)\n",
    "lasso.fit(X_train, y_train)\n",
    "print(lasso.score(X_train, y_train))"
   ]
  },
  {
   "cell_type": "markdown",
   "metadata": {},
   "source": [
    "### SVR Regression"
   ]
  },
  {
   "cell_type": "code",
   "execution_count": 105,
   "metadata": {
    "colab": {
     "base_uri": "https://localhost:8080/"
    },
    "id": "VeCd-Ie2lFtc",
    "outputId": "b69c339b-b006-446a-fb5b-a934e05df03e"
   },
   "outputs": [
    {
     "name": "stdout",
     "output_type": "stream",
     "text": [
      "-0.06274886053990736\n"
     ]
    }
   ],
   "source": [
    "#SVR()\n",
    "from sklearn.svm import SVR\n",
    "\n",
    "svr = SVR()\n",
    "svr.fit(X_train, y_train)\n",
    "print(svr.score(X_train, y_train))"
   ]
  },
  {
   "cell_type": "code",
   "execution_count": 108,
   "metadata": {
    "colab": {
     "base_uri": "https://localhost:8080/"
    },
    "id": "0V5kEFKAmzYW",
    "outputId": "6ad17ddb-2c68-42f8-f5a3-7d369329f0b6"
   },
   "outputs": [
    {
     "name": "stdout",
     "output_type": "stream",
     "text": [
      "0.32015967662634204\n",
      "0.18782922009677705\n"
     ]
    }
   ],
   "source": [
    "from sklearn.svm import SVR\n",
    "\n",
    "svr = SVR(C= 10000,gamma= 0.1)\n",
    "svr.fit(X_train, y_train)\n",
    "print(svr.score(X_train, y_train))\n",
    "print(svr.score(X_test, y_test))"
   ]
  },
  {
   "cell_type": "markdown",
   "metadata": {},
   "source": [
    "### Linear SVR model"
   ]
  },
  {
   "cell_type": "code",
   "execution_count": 106,
   "metadata": {
    "colab": {
     "base_uri": "https://localhost:8080/"
    },
    "id": "m8PAhxLilqo7",
    "outputId": "97470064-c0c3-4b20-84d1-f67646261978"
   },
   "outputs": [
    {
     "name": "stdout",
     "output_type": "stream",
     "text": [
      "-6.960167957875847\n"
     ]
    }
   ],
   "source": [
    "from sklearn.svm import LinearSVR\n",
    "\n",
    "lr_svr = LinearSVR()\n",
    "lr_svr.fit(X_train, y_train)\n",
    "print(lr_svr.score(X_train, y_train))"
   ]
  },
  {
   "cell_type": "markdown",
   "metadata": {},
   "source": [
    "### Decision Tree Regression"
   ]
  },
  {
   "cell_type": "code",
   "execution_count": 107,
   "metadata": {
    "colab": {
     "base_uri": "https://localhost:8080/"
    },
    "id": "LZfHhqQBmB2B",
    "outputId": "831f32c2-f473-4c08-d841-91409e0d81ba"
   },
   "outputs": [
    {
     "name": "stdout",
     "output_type": "stream",
     "text": [
      "0.34821063947130926\n"
     ]
    }
   ],
   "source": [
    "#DecisionTreeRegressor(max_depth = 2, random_state= 0)\n",
    "from sklearn.tree import DecisionTreeRegressor\n",
    "dr = DecisionTreeRegressor(max_depth = 2, random_state= 0)\n",
    "dr.fit(X_train, y_train)\n",
    "print(dr.score(X_train, y_train))"
   ]
  },
  {
   "cell_type": "markdown",
   "metadata": {
    "id": "szWphoV5myjX"
   },
   "source": [
    "Fit a SVR model with kernel rbf and the best parameters you found for the previous question. What is the test score of this model? Enter the answer with four digits after the decimal point."
   ]
  },
  {
   "cell_type": "code",
   "execution_count": 109,
   "metadata": {
    "colab": {
     "base_uri": "https://localhost:8080/"
    },
    "id": "4t2epAcEnyfm",
    "outputId": "533800f0-cda1-425a-8fd9-cb7a4ae00ad7"
   },
   "outputs": [
    {
     "data": {
      "text/plain": [
       "[0.13478076724355503,\n",
       " 0.06942136923912434,\n",
       " -0.07134830964937078,\n",
       " -0.10764288127375421,\n",
       " -0.1505765759001052]"
      ]
     },
     "execution_count": 109,
     "metadata": {},
     "output_type": "execute_result"
    }
   ],
   "source": [
    "from sklearn.tree import DecisionTreeRegressor\n",
    "depth=[2,3,5,10,25]\n",
    "dr_test =[]\n",
    "for i in depth:\n",
    "\n",
    "  dr = DecisionTreeRegressor(max_depth = i, random_state= 0)\n",
    "  dr.fit(X_train, y_train)\n",
    "  dr_test.append(dr.score(X_test, y_test))\n",
    "dr_test"
   ]
  },
  {
   "cell_type": "markdown",
   "metadata": {
    "id": "X-8J5pqTnxc8"
   },
   "source": [
    "Which of the following is the best hyperparameter of a DecisionTreeRegression with random_state = 0."
   ]
  },
  {
   "cell_type": "markdown",
   "metadata": {
    "id": "8BoTciebpZIb"
   },
   "source": [
    ")Fit a DecisionTreeRegression with random_state = 0 and the max_depth you have found in the previous question. What is the test score of this model?"
   ]
  },
  {
   "cell_type": "code",
   "execution_count": 110,
   "metadata": {
    "colab": {
     "base_uri": "https://localhost:8080/"
    },
    "id": "ScKOs_n3pZ5V",
    "outputId": "cb49e1b6-2b67-43ee-fd5f-3a85460b6bf9"
   },
   "outputs": [
    {
     "name": "stdout",
     "output_type": "stream",
     "text": [
      "0.34821063947130926\n"
     ]
    }
   ],
   "source": [
    "from sklearn.tree import DecisionTreeRegressor\n",
    "dr = DecisionTreeRegressor(max_depth = 2, random_state= 0)\n",
    "dr.fit(X_train, y_train)\n",
    "print(dr.score(X_train, y_train))"
   ]
  },
  {
   "cell_type": "markdown",
   "metadata": {
    "id": "pDr0IKkWyapv"
   },
   "source": [
    "For all the questions in this lab use cv = 5 and random_state = 0. Use a GridSearchCV to find the best hyperparameters of the SGDRegressor model. Which combination is the best parameters of the model"
   ]
  },
  {
   "cell_type": "markdown",
   "metadata": {},
   "source": [
    "## Hyperparameter tuning - Grid Search"
   ]
  },
  {
   "cell_type": "code",
   "execution_count": 111,
   "metadata": {
    "colab": {
     "base_uri": "https://localhost:8080/"
    },
    "id": "EJoNjOHFyiGn",
    "outputId": "c74663ad-7255-47e0-fd94-f378f91e848b"
   },
   "outputs": [
    {
     "name": "stdout",
     "output_type": "stream",
     "text": [
      "Parameter grid:\n",
      "{'eta0': [0.001, 0.01, 0.1], 'max_iter': [1000, 5000, 10000]}\n"
     ]
    },
    {
     "name": "stderr",
     "output_type": "stream",
     "text": [
      "C:\\Users\\Shiva\\Anaconda3\\lib\\site-packages\\sklearn\\linear_model\\_stochastic_gradient.py:1220: ConvergenceWarning: Maximum number of iteration reached before convergence. Consider increasing max_iter to improve the fit.\n",
      "  warnings.warn(\"Maximum number of iteration reached before \"\n",
      "C:\\Users\\Shiva\\Anaconda3\\lib\\site-packages\\sklearn\\linear_model\\_stochastic_gradient.py:1220: ConvergenceWarning: Maximum number of iteration reached before convergence. Consider increasing max_iter to improve the fit.\n",
      "  warnings.warn(\"Maximum number of iteration reached before \"\n",
      "C:\\Users\\Shiva\\Anaconda3\\lib\\site-packages\\sklearn\\linear_model\\_stochastic_gradient.py:1220: ConvergenceWarning: Maximum number of iteration reached before convergence. Consider increasing max_iter to improve the fit.\n",
      "  warnings.warn(\"Maximum number of iteration reached before \"\n"
     ]
    },
    {
     "data": {
      "text/plain": [
       "GridSearchCV(cv=5, estimator=SGDRegressor(random_state=0),\n",
       "             param_grid={'eta0': [0.001, 0.01, 0.1],\n",
       "                         'max_iter': [1000, 5000, 10000]},\n",
       "             return_train_score=True)"
      ]
     },
     "execution_count": 111,
     "metadata": {},
     "output_type": "execute_result"
    }
   ],
   "source": [
    "from sklearn.model_selection import GridSearchCV\n",
    "from sklearn import linear_model\n",
    "clf = linear_model.SGDRegressor(random_state = 0)\n",
    "clf.fit(X_train, y_train)\n",
    "param_grid = {'eta0': [0.001, 0.01, 0.1],\n",
    "              'max_iter': [1000, 5000, 10000]}\n",
    "print(\"Parameter grid:\\n{}\".format(param_grid))\n",
    "# grid_search = GridSearchCV(SVC(), param_grid, cv=5, return_train_score=True)\n",
    "grid_search = GridSearchCV(clf,cv=5,\n",
    "             param_grid={'eta0': [0.001, 0.01, 0.1],\n",
    "                         'max_iter': [1000, 5000, 10000]},\n",
    "                         return_train_score=True )\n",
    "grid_search.fit(X_train, y_train)\n"
   ]
  },
  {
   "cell_type": "code",
   "execution_count": 112,
   "metadata": {
    "colab": {
     "base_uri": "https://localhost:8080/"
    },
    "id": "EgOaz_eE9B5T",
    "outputId": "fdcef6bf-a37f-40f2-e33b-d02387e60f3f"
   },
   "outputs": [
    {
     "name": "stdout",
     "output_type": "stream",
     "text": [
      "Best parameters: {'eta0': 0.001, 'max_iter': 1000}\n",
      "Best cross-validation score: 0.16030\n"
     ]
    }
   ],
   "source": [
    "print(\"Best parameters: {}\".format(grid_search.best_params_))\n",
    "print(\"Best cross-validation score: {:.5f}\".format(grid_search.best_score_))"
   ]
  },
  {
   "cell_type": "markdown",
   "metadata": {
    "id": "scjqsBY79pCJ"
   },
   "source": [
    "Use a GridSearchCV to find the best hyperparameter of the SVR model with kernel rbf. Which combination shows the best hyperparameters of this model? (Compare the best hyperparameters with what you have computed in Lab 4 - Part b)"
   ]
  },
  {
   "cell_type": "code",
   "execution_count": 113,
   "metadata": {
    "colab": {
     "base_uri": "https://localhost:8080/"
    },
    "id": "prdt3ycN9ql4",
    "outputId": "c52d533e-9090-43a6-b9b8-b41dc0122527"
   },
   "outputs": [
    {
     "name": "stdout",
     "output_type": "stream",
     "text": [
      "Parameter grid:\n",
      "{'eta0': [0.001, 0.01, 0.1], 'max_iter': [1000, 5000, 10000]}\n"
     ]
    },
    {
     "data": {
      "text/plain": [
       "GridSearchCV(cv=5, estimator=SVR(),\n",
       "             param_grid={'C': [0.1, 1, 10], 'epsilon': [0.1, 0.01, 0.001, 1],\n",
       "                         'gamma': [0.1, 1, 10]},\n",
       "             return_train_score=True)"
      ]
     },
     "execution_count": 113,
     "metadata": {},
     "output_type": "execute_result"
    }
   ],
   "source": [
    "svr = SVR(kernel = 'rbf')\n",
    "svr.fit(X_train, y_train)\n",
    "\n",
    "print(\"Parameter grid:\\n{}\".format(param_grid))\n",
    "# grid_search = GridSearchCV(svr(), param_grid, cv=5, return_train_score=True)\n",
    "grid_search = GridSearchCV(svr,cv=5,\n",
    "             param_grid={'C':[0.1,1,10],\n",
    "              'epsilon':[0.1,0.01,0.001,1],'gamma':[0.1,1,10]},\n",
    "                         return_train_score=True )\n",
    "grid_search.fit(X_train, y_train)"
   ]
  },
  {
   "cell_type": "code",
   "execution_count": 114,
   "metadata": {
    "colab": {
     "base_uri": "https://localhost:8080/"
    },
    "id": "Q63x0gZuBIWx",
    "outputId": "02847696-7186-4a4e-eb53-a84ab5f07b9c"
   },
   "outputs": [
    {
     "name": "stdout",
     "output_type": "stream",
     "text": [
      "Best parameters: {'C': 10, 'epsilon': 1, 'gamma': 0.1}\n",
      "Best cross-validation score: -0.08769\n"
     ]
    }
   ],
   "source": [
    "print(\"Best parameters: {}\".format(grid_search.best_params_))\n",
    "print(\"Best cross-validation score: {:.5f}\".format(grid_search.best_score_))"
   ]
  },
  {
   "cell_type": "markdown",
   "metadata": {
    "id": "sc0EjV3WB14R"
   },
   "source": [
    "Use a GridSearchCV model to find the best hyperparameters of a DesicionTreeRegressor model with random_state = 0 on this dataset. Which of the following is the best hyperparameter for this model?"
   ]
  },
  {
   "cell_type": "code",
   "execution_count": 115,
   "metadata": {
    "colab": {
     "base_uri": "https://localhost:8080/"
    },
    "id": "yMimIGbjB3Pp",
    "outputId": "30badacf-64ba-442c-cca4-b09a3a7da5a6"
   },
   "outputs": [
    {
     "name": "stdout",
     "output_type": "stream",
     "text": [
      "Parameter grid:\n",
      "{'max_leaf_nodes': [2, 5, 10, 25, 50]}\n"
     ]
    },
    {
     "data": {
      "text/plain": [
       "GridSearchCV(cv=5, estimator=DecisionTreeRegressor(random_state=0),\n",
       "             param_grid={'max_leaf_nodes': [2, 5, 10, 25, 50]},\n",
       "             return_train_score=True)"
      ]
     },
     "execution_count": 115,
     "metadata": {},
     "output_type": "execute_result"
    }
   ],
   "source": [
    "from sklearn.tree import DecisionTreeRegressor\n",
    "tree = DecisionTreeRegressor(random_state = 0)\n",
    "tree.fit(X_train,y_train)\n",
    "#pred_tree = tree.predict(X_test)\n",
    "\n",
    "param_grid = {'max_leaf_nodes': [2,5,10,25,50]}\n",
    "\n",
    "print(\"Parameter grid:\\n{}\".format(param_grid))\n",
    "grid_search = GridSearchCV(tree, param_grid, cv=5,\n",
    "                  return_train_score=True )\n",
    "grid_search.fit(X_train, y_train)"
   ]
  },
  {
   "cell_type": "code",
   "execution_count": 116,
   "metadata": {
    "colab": {
     "base_uri": "https://localhost:8080/"
    },
    "id": "n4M7nzKuDnKj",
    "outputId": "861eadd3-edf3-454f-f98c-30d25b703a46"
   },
   "outputs": [
    {
     "name": "stdout",
     "output_type": "stream",
     "text": [
      "Best parameters: {'max_leaf_nodes': 2}\n",
      "Best cross-validation score: 0.23199\n"
     ]
    }
   ],
   "source": [
    "print(\"Best parameters: {}\".format(grid_search.best_params_))\n",
    "print(\"Best cross-validation score: {:.5f}\".format(grid_search.best_score_))"
   ]
  }
 ],
 "metadata": {
  "colab": {
   "name": "Part b - Regression - Labs 1 to 3.ipynb",
   "provenance": []
  },
  "kernelspec": {
   "display_name": "Python 3",
   "language": "python",
   "name": "python3"
  },
  "language_info": {
   "codemirror_mode": {
    "name": "ipython",
    "version": 3
   },
   "file_extension": ".py",
   "mimetype": "text/x-python",
   "name": "python",
   "nbconvert_exporter": "python",
   "pygments_lexer": "ipython3",
   "version": "3.8.8"
  }
 },
 "nbformat": 4,
 "nbformat_minor": 1
}
